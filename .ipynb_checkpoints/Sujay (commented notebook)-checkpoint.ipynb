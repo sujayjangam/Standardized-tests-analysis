{
 "cells": [
  {
   "cell_type": "markdown",
   "metadata": {},
   "source": [
    "<img src=\"http://imgur.com/1ZcRyrc.png\" style=\"float: left; margin: 20px; height: 55px\">\n",
    "\n",
    "# Project 1: Standardized Test Analysis"
   ]
  },
  {
   "cell_type": "markdown",
   "metadata": {},
   "source": [
    "--- \n",
    "# Part 1\n",
    "\n",
    "Part 1 requires knowledge of basic Python.\n",
    "\n",
    "---"
   ]
  },
  {
   "cell_type": "markdown",
   "metadata": {},
   "source": [
    "## Problem Statement"
   ]
  },
  {
   "cell_type": "markdown",
   "metadata": {},
   "source": [
    "Decide on your problem statement that will guide your analysis for this project. For guidelines, sample prompts, or inspiration, check out the README."
   ]
  },
  {
   "cell_type": "markdown",
   "metadata": {},
   "source": [
    "**I have been hired by the College Board as part of a team to track statewide participation rates and recommend where and how money is best spent to improve SAT participation rates. With the data provided as well as some outside research, I hope to provide recommendations on improving participation rates in states by category.**"
   ]
  },
  {
   "cell_type": "markdown",
   "metadata": {},
   "source": [
    "### Contents:\n",
    "- [Background](#Background)\n",
    "- [Data Import & Cleaning](#Data-Import-and-Cleaning)\n",
    "- [Exploratory Data Analysis](#Exploratory-Data-Analysis)\n",
    "- [Data Visualization](#Visualize-the-Data)\n",
    "- [Conclusions and Recommendations](#Conclusions-and-Recommendations)\n"
   ]
  },
  {
   "cell_type": "markdown",
   "metadata": {},
   "source": [
    "## TEST"
   ]
  },
  {
   "cell_type": "markdown",
   "metadata": {},
   "source": [
    "## Background"
   ]
  },
  {
   "cell_type": "markdown",
   "metadata": {},
   "source": [
    "The SAT and ACT are standardized tests that many colleges and universities in the United States require for their admissions process. This score is used along with other materials such as grade point average (GPA) and essay responses to determine whether or not a potential student will be accepted to the university.\n",
    "\n",
    "The SAT has two sections of the test: Evidence-Based Reading and Writing and Math ([*source*](https://www.princetonreview.com/college/sat-sections)). The ACT has 4 sections: English, Mathematics, Reading, and Science, with an additional optional writing section ([*source*](https://www.act.org/content/act/en/products-and-services/the-act/scores/understanding-your-scores.html)). They have different score ranges, which you can read more about on their websites or additional outside sources (a quick Google search will help you understand the scores for each test):\n",
    "* [SAT](https://collegereadiness.collegeboard.org/sat)\n",
    "* [ACT](https://www.act.org/content/act/en.html)\n",
    "\n",
    "Standardized tests have long been a controversial topic for students, administrators, and legislators. Since the 1940's, an increasing number of colleges have been using scores from sudents' performances on tests like the SAT and the ACT as a measure for college readiness and aptitude ([*source*](https://www.minotdailynews.com/news/local-news/2017/04/a-brief-history-of-the-sat-and-act/)). Supporters of these tests argue that these scores can be used as an objective measure to determine college admittance. Opponents of these tests claim that these tests are not accurate measures of students potential or ability and serve as an inequitable barrier to entry. Lately, more and more schools are opting to drop the SAT/ACT requirement for their Fall 2021 applications ([*read more about this here*](https://www.cnn.com/2020/04/14/us/coronavirus-colleges-sat-act-test-trnd/index.html))."
   ]
  },
  {
   "cell_type": "markdown",
   "metadata": {},
   "source": [
    "**To-Do:** *Fill out this cell (or edit the above cell) with any other background or information that is necessary for your problem statement.*\n",
    "\n",
    "The new format for the SAT was released in March 2016. After this new format release, some states changed their required testing format to SAT, as per [*this document*](https://www.coloradokids.org/wp-content/uploads/2016/01/ACTvsSAT_FINAL.pdf). Before this format change, there were only 3 states that required SAT testing, however after the change, 20 states are now contracted with the College Board to administer the SAT to some or all high schoolers for free."
   ]
  },
  {
   "cell_type": "markdown",
   "metadata": {},
   "source": [
    "### Choose your Data\n",
    "\n",
    "There are 10 datasets included in the [`data`](./data/) folder for this project. You are required to pick **at least two** of these to complete your analysis. Feel free to use more than two if you would like, or add other relevant datasets you find online.\n",
    "\n",
    "* [`act_2017.csv`](./data/act_2017.csv): 2017 ACT Scores by State\n",
    "* [`act_2018.csv`](./data/act_2018.csv): 2018 ACT Scores by State\n",
    "* [`act_2019.csv`](./data/act_2019.csv): 2019 ACT Scores by State\n",
    "* [`act_2019_ca.csv`](./data/act_2019_ca.csv): 2019 ACT Scores in California by School\n",
    "* [`sat_2017.csv`](./data/sat_2017.csv): 2017 SAT Scores by State\n",
    "* [`sat_2018.csv`](./data/sat_2018.csv): 2018 SAT Scores by State\n",
    "* [`sat_2019.csv`](./data/sat_2019.csv): 2019 SAT Scores by State\n",
    "* [`sat_2019_by_intended_college_major.csv`](./data/sat_2019_by_intended_college_major.csv): 2019 SAT Scores by Intended College Major\n",
    "* [`sat_2019_ca.csv`](./data/sat_2019_ca.csv): 2019 SAT Scores in California by School\n",
    "* [`sat_act_by_college.csv`](./data/sat_act_by_college.csv): Ranges of Accepted ACT & SAT Student Scores by Colleges"
   ]
  },
  {
   "cell_type": "markdown",
   "metadata": {},
   "source": [
    "**To-Do:** *Fill out this cell with the datasets you will use for your analysis. Write a brief description of the contents for each dataset that you choose.*\n",
    "1. act_2017\n",
    "    * Average participation rates by state, scores for individual test by state as well as the composite scores.\n",
    "2. act_2018\n",
    "    * Average participation rates by state, and composite scores by state as well.\n",
    "3. act_2019\n",
    "    * Average participation rates by state, and composite scores by state as well.\n",
    "4. sat_2017\n",
    "    * Average participation rates by state, component test scores, and total scores by state as well.\n",
    "5. sat_2018\n",
    "    * Average participation rates by state, component test scores, and total scores by state as well.\n",
    "6. sat_2019\n",
    "    * Average participation rates by state, component test scores, and total scores by state as well.\n",
    "7. external_state_mandatory_testing\n",
    "    * The test that is mandatory for each state, either ACT, SAT, or blank for those where it is not mandatory. \n",
    "    * This data was compiled from the follow three links.\n",
    "    * [States requiring the SAT](https://blog.prepscholar.com/which-states-require-the-sat)\n",
    "    * [States requiring the ACT](https://blog.prepscholar.com/which-states-require-the-act-full-list-and-advice)\n",
    "    * [Tests each state requires](https://www.edweek.org/teaching-learning/what-tests-does-each-state-require)"
   ]
  },
  {
   "cell_type": "markdown",
   "metadata": {},
   "source": [
    "### Outside Research"
   ]
  },
  {
   "cell_type": "markdown",
   "metadata": {},
   "source": [
    "Based on your problem statement and your chosen datasets, spend some time doing outside research on state policies or additional information that might be relevant. Summarize your findings below. If you bring in any outside tables or charts, make sure you are explicit about having borrowed them. If you quote any text, make sure that it renders as being quoted. **Make sure that you cite your sources.**"
   ]
  },
  {
   "cell_type": "markdown",
   "metadata": {},
   "source": [
    "**To-Do:** *Fill out this cell with outside research or any additional background information that will support your analysis.*\n",
    "\n",
    "As mentioned before the new format for the SAT was released in March 2016. After this new format release, some states changed their required testing format to SAT, as per [*this document*](https://www.coloradokids.org/wp-content/uploads/2016/01/ACTvsSAT_FINAL.pdf). The new SAT seems to be [much more favoured over the old one](https://blog.prepscholar.com/which-states-require-the-sat), and it is encouraging information that 20 states have since been contracted to offer the SAT as a required test. I will be investigating how and where we can spend out budget to improve participation rates."
   ]
  },
  {
   "cell_type": "markdown",
   "metadata": {},
   "source": [
    "### Coding Challenges\n",
    "\n",
    "1. Manually calculate mean:\n",
    "\n",
    "    Write a function that takes in values and returns the mean of the values. Create a list of numbers that you test on your function to check to make sure your function works!\n",
    "    \n",
    "    *Note*: Do not use any mean methods built-in to any Python libraries to do this! This should be done without importing any additional libraries."
   ]
  },
  {
   "cell_type": "code",
   "execution_count": 1,
   "metadata": {},
   "outputs": [],
   "source": [
    "# Code:\n",
    "\n",
    "def calc_mean(list_of_numbers):\n",
    "    mean = sum(list_of_numbers)/len(list_of_numbers)\n",
    "    return mean"
   ]
  },
  {
   "cell_type": "markdown",
   "metadata": {},
   "source": [
    "2. Manually calculate standard deviation:\n",
    "\n",
    "    The formula for standard deviation is below:\n",
    "\n",
    "    $$\\sigma = \\sqrt{\\frac{1}{n}\\sum_{i=1}^n(x_i - \\mu)^2}$$\n",
    "\n",
    "    Where $x_i$ represents each value in the dataset, $\\mu$ represents the mean of all values in the dataset and $n$ represents the number of values in the dataset.\n",
    "\n",
    "    Write a function that takes in values and returns the standard deviation of the values using the formula above. Hint: use the function you wrote above to calculate the mean! Use the list of numbers you created above to test on your function.\n",
    "    \n",
    "    *Note*: Do not use any standard deviation methods built-in to any Python libraries to do this! This should be done without importing any additional libraries."
   ]
  },
  {
   "cell_type": "code",
   "execution_count": 2,
   "metadata": {},
   "outputs": [],
   "source": [
    "# Code:\n",
    "def stand_dev(x): \n",
    "    \"\"\" takes input x of a list of float or int values,\n",
    "        returns the standard deviation of the list.\"\"\"\n",
    "    n = len(x)\n",
    "    mean = sum(x)/n\n",
    "    stand_dev = 0\n",
    "    for item in x:\n",
    "        stand_dev += (item - mean)**2\n",
    "    stand_dev = (stand_dev/n)**(1/2)\n",
    "    return stand_dev"
   ]
  },
  {
   "cell_type": "markdown",
   "metadata": {},
   "source": [
    "3. Data cleaning function:\n",
    "    \n",
    "    Write a function that takes in a string that is a number and a percent symbol (ex. '50%', '30.5%', etc.) and converts this to a float that is the decimal approximation of the percent. For example, inputting '50%' in your function should return 0.5, '30.5%' should return 0.305, etc. Make sure to test your function to make sure it works!\n",
    "\n",
    "You will use these functions later on in the project!"
   ]
  },
  {
   "cell_type": "code",
   "execution_count": 3,
   "metadata": {},
   "outputs": [],
   "source": [
    "# Code:\n",
    "def clean_data(text):\n",
    "    # where text is a single string to be cleaned and converted to float values.\n",
    "    cleaned_text = text.replace(\"'\",\"\").replace(\"%\",\"\")\n",
    "    try: \n",
    "        cleaned_float = float(cleaned_text)/100\n",
    "        return cleaned_float\n",
    "    except ValueError:\n",
    "        pass"
   ]
  },
  {
   "cell_type": "markdown",
   "metadata": {},
   "source": [
    "--- \n",
    "# Part 2\n",
    "\n",
    "Part 2 requires knowledge of Pandas, EDA, data cleaning, and data visualization.\n",
    "\n",
    "---"
   ]
  },
  {
   "cell_type": "markdown",
   "metadata": {},
   "source": [
    "*All libraries used should be added here*"
   ]
  },
  {
   "cell_type": "code",
   "execution_count": 4,
   "metadata": {},
   "outputs": [],
   "source": [
    "# Imports:\n",
    "import numpy as np\n",
    "import pandas as pd\n",
    "import matplotlib.pyplot as plt\n",
    "import seaborn as sns"
   ]
  },
  {
   "cell_type": "markdown",
   "metadata": {},
   "source": [
    "## Data Import and Cleaning"
   ]
  },
  {
   "cell_type": "markdown",
   "metadata": {},
   "source": [
    "### Data Import & Cleaning\n",
    "\n",
    "Import the datasets that you selected for this project and go through the following steps at a minimum. You are welcome to do further cleaning as you feel necessary:\n",
    "1. Display the data: print the first 5 rows of each dataframe to your Jupyter notebook.\n",
    "2. Check for missing values.\n",
    "3. Check for any obvious issues with the observations (keep in mind the minimum & maximum possible values for each test/subtest).\n",
    "4. Fix any errors you identified in steps 2-3.\n",
    "5. Display the data types of each feature.\n",
    "6. Fix any incorrect data types found in step 5.\n",
    "    - Fix any individual values preventing other columns from being the appropriate type.\n",
    "    - If your dataset has a column of percents (ex. '50%', '30.5%', etc.), use the function you wrote in Part 1 (coding challenges, number 3) to convert this to floats! *Hint*: use `.map()` or `.apply()`.\n",
    "7. Rename Columns.\n",
    "    - Column names should be all lowercase.\n",
    "    - Column names should not contain spaces (underscores will suffice--this allows for using the `df.column_name` method to access columns in addition to `df['column_name']`).\n",
    "    - Column names should be unique and informative.\n",
    "8. Drop unnecessary rows (if needed).\n",
    "9. Merge dataframes that can be merged.\n",
    "10. Perform any additional cleaning that you feel is necessary.\n",
    "11. Save your cleaned and merged dataframes as csv files."
   ]
  },
  {
   "cell_type": "markdown",
   "metadata": {},
   "source": [
    "### Data import"
   ]
  },
  {
   "cell_type": "code",
   "execution_count": 5,
   "metadata": {},
   "outputs": [],
   "source": [
    "# Code:C:\\Users\\Jayy Jangam\\Desktop\\GA-DSI\\Myworkspace\\project_1\\data\n",
    "act_2017 = pd.read_csv('../data/act_2017.csv')\n",
    "act_2018 = pd.read_csv('../data/act_2018.csv')\n",
    "act_2019 = pd.read_csv('../data/act_2019.csv')\n",
    "sat_2017 = pd.read_csv('../data/sat_2017.csv')\n",
    "sat_2018 = pd.read_csv('../data/sat_2018.csv')\n",
    "sat_2019 = pd.read_csv('../data/sat_2019.csv')\n",
    "state_test_cat = pd.read_csv('../data/external_state_mandatory_testing.csv')"
   ]
  },
  {
   "cell_type": "markdown",
   "metadata": {},
   "source": [
    "### 1. Displaying the Data"
   ]
  },
  {
   "cell_type": "code",
   "execution_count": 6,
   "metadata": {},
   "outputs": [
    {
     "data": {
      "text/html": [
       "<div>\n",
       "<style scoped>\n",
       "    .dataframe tbody tr th:only-of-type {\n",
       "        vertical-align: middle;\n",
       "    }\n",
       "\n",
       "    .dataframe tbody tr th {\n",
       "        vertical-align: top;\n",
       "    }\n",
       "\n",
       "    .dataframe thead th {\n",
       "        text-align: right;\n",
       "    }\n",
       "</style>\n",
       "<table border=\"1\" class=\"dataframe\">\n",
       "  <thead>\n",
       "    <tr style=\"text-align: right;\">\n",
       "      <th></th>\n",
       "      <th>State</th>\n",
       "      <th>Participation</th>\n",
       "      <th>English</th>\n",
       "      <th>Math</th>\n",
       "      <th>Reading</th>\n",
       "      <th>Science</th>\n",
       "      <th>Composite</th>\n",
       "    </tr>\n",
       "  </thead>\n",
       "  <tbody>\n",
       "    <tr>\n",
       "      <th>0</th>\n",
       "      <td>National</td>\n",
       "      <td>60%</td>\n",
       "      <td>20.3</td>\n",
       "      <td>20.7</td>\n",
       "      <td>21.4</td>\n",
       "      <td>21.0</td>\n",
       "      <td>21.0</td>\n",
       "    </tr>\n",
       "    <tr>\n",
       "      <th>1</th>\n",
       "      <td>Alabama</td>\n",
       "      <td>100%</td>\n",
       "      <td>18.9</td>\n",
       "      <td>18.4</td>\n",
       "      <td>19.7</td>\n",
       "      <td>19.4</td>\n",
       "      <td>19.2</td>\n",
       "    </tr>\n",
       "    <tr>\n",
       "      <th>2</th>\n",
       "      <td>Alaska</td>\n",
       "      <td>65%</td>\n",
       "      <td>18.7</td>\n",
       "      <td>19.8</td>\n",
       "      <td>20.4</td>\n",
       "      <td>19.9</td>\n",
       "      <td>19.8</td>\n",
       "    </tr>\n",
       "    <tr>\n",
       "      <th>3</th>\n",
       "      <td>Arizona</td>\n",
       "      <td>62%</td>\n",
       "      <td>18.6</td>\n",
       "      <td>19.8</td>\n",
       "      <td>20.1</td>\n",
       "      <td>19.8</td>\n",
       "      <td>19.7</td>\n",
       "    </tr>\n",
       "    <tr>\n",
       "      <th>4</th>\n",
       "      <td>Arkansas</td>\n",
       "      <td>100%</td>\n",
       "      <td>18.9</td>\n",
       "      <td>19.0</td>\n",
       "      <td>19.7</td>\n",
       "      <td>19.5</td>\n",
       "      <td>19.4</td>\n",
       "    </tr>\n",
       "  </tbody>\n",
       "</table>\n",
       "</div>"
      ],
      "text/plain": [
       "      State Participation  English  Math  Reading  Science Composite\n",
       "0  National           60%     20.3  20.7     21.4     21.0      21.0\n",
       "1   Alabama          100%     18.9  18.4     19.7     19.4      19.2\n",
       "2    Alaska           65%     18.7  19.8     20.4     19.9      19.8\n",
       "3   Arizona           62%     18.6  19.8     20.1     19.8      19.7\n",
       "4  Arkansas          100%     18.9  19.0     19.7     19.5      19.4"
      ]
     },
     "execution_count": 6,
     "metadata": {},
     "output_type": "execute_result"
    }
   ],
   "source": [
    "act_2017.head()"
   ]
  },
  {
   "cell_type": "code",
   "execution_count": 7,
   "metadata": {},
   "outputs": [
    {
     "data": {
      "text/html": [
       "<div>\n",
       "<style scoped>\n",
       "    .dataframe tbody tr th:only-of-type {\n",
       "        vertical-align: middle;\n",
       "    }\n",
       "\n",
       "    .dataframe tbody tr th {\n",
       "        vertical-align: top;\n",
       "    }\n",
       "\n",
       "    .dataframe thead th {\n",
       "        text-align: right;\n",
       "    }\n",
       "</style>\n",
       "<table border=\"1\" class=\"dataframe\">\n",
       "  <thead>\n",
       "    <tr style=\"text-align: right;\">\n",
       "      <th></th>\n",
       "      <th>State</th>\n",
       "      <th>Participation</th>\n",
       "      <th>Composite</th>\n",
       "    </tr>\n",
       "  </thead>\n",
       "  <tbody>\n",
       "    <tr>\n",
       "      <th>0</th>\n",
       "      <td>Alabama</td>\n",
       "      <td>100%</td>\n",
       "      <td>19.1</td>\n",
       "    </tr>\n",
       "    <tr>\n",
       "      <th>1</th>\n",
       "      <td>Alaska</td>\n",
       "      <td>33%</td>\n",
       "      <td>20.8</td>\n",
       "    </tr>\n",
       "    <tr>\n",
       "      <th>2</th>\n",
       "      <td>Arizona</td>\n",
       "      <td>66%</td>\n",
       "      <td>19.2</td>\n",
       "    </tr>\n",
       "    <tr>\n",
       "      <th>3</th>\n",
       "      <td>Arkansas</td>\n",
       "      <td>100%</td>\n",
       "      <td>19.4</td>\n",
       "    </tr>\n",
       "    <tr>\n",
       "      <th>4</th>\n",
       "      <td>California</td>\n",
       "      <td>27%</td>\n",
       "      <td>22.7</td>\n",
       "    </tr>\n",
       "  </tbody>\n",
       "</table>\n",
       "</div>"
      ],
      "text/plain": [
       "        State Participation  Composite\n",
       "0     Alabama          100%       19.1\n",
       "1      Alaska           33%       20.8\n",
       "2     Arizona           66%       19.2\n",
       "3    Arkansas          100%       19.4\n",
       "4  California           27%       22.7"
      ]
     },
     "execution_count": 7,
     "metadata": {},
     "output_type": "execute_result"
    }
   ],
   "source": [
    "act_2018.head()"
   ]
  },
  {
   "cell_type": "code",
   "execution_count": 8,
   "metadata": {},
   "outputs": [
    {
     "data": {
      "text/html": [
       "<div>\n",
       "<style scoped>\n",
       "    .dataframe tbody tr th:only-of-type {\n",
       "        vertical-align: middle;\n",
       "    }\n",
       "\n",
       "    .dataframe tbody tr th {\n",
       "        vertical-align: top;\n",
       "    }\n",
       "\n",
       "    .dataframe thead th {\n",
       "        text-align: right;\n",
       "    }\n",
       "</style>\n",
       "<table border=\"1\" class=\"dataframe\">\n",
       "  <thead>\n",
       "    <tr style=\"text-align: right;\">\n",
       "      <th></th>\n",
       "      <th>State</th>\n",
       "      <th>Participation</th>\n",
       "      <th>Composite</th>\n",
       "    </tr>\n",
       "  </thead>\n",
       "  <tbody>\n",
       "    <tr>\n",
       "      <th>0</th>\n",
       "      <td>Alabama</td>\n",
       "      <td>100%</td>\n",
       "      <td>18.9</td>\n",
       "    </tr>\n",
       "    <tr>\n",
       "      <th>1</th>\n",
       "      <td>Alaska</td>\n",
       "      <td>38%</td>\n",
       "      <td>20.1</td>\n",
       "    </tr>\n",
       "    <tr>\n",
       "      <th>2</th>\n",
       "      <td>Arizona</td>\n",
       "      <td>73%</td>\n",
       "      <td>19.0</td>\n",
       "    </tr>\n",
       "    <tr>\n",
       "      <th>3</th>\n",
       "      <td>Arkansas</td>\n",
       "      <td>100%</td>\n",
       "      <td>19.3</td>\n",
       "    </tr>\n",
       "    <tr>\n",
       "      <th>4</th>\n",
       "      <td>California</td>\n",
       "      <td>23%</td>\n",
       "      <td>22.6</td>\n",
       "    </tr>\n",
       "  </tbody>\n",
       "</table>\n",
       "</div>"
      ],
      "text/plain": [
       "        State Participation  Composite\n",
       "0     Alabama          100%       18.9\n",
       "1      Alaska           38%       20.1\n",
       "2     Arizona           73%       19.0\n",
       "3    Arkansas          100%       19.3\n",
       "4  California           23%       22.6"
      ]
     },
     "execution_count": 8,
     "metadata": {},
     "output_type": "execute_result"
    }
   ],
   "source": [
    "act_2019.head()"
   ]
  },
  {
   "cell_type": "code",
   "execution_count": 9,
   "metadata": {},
   "outputs": [
    {
     "data": {
      "text/html": [
       "<div>\n",
       "<style scoped>\n",
       "    .dataframe tbody tr th:only-of-type {\n",
       "        vertical-align: middle;\n",
       "    }\n",
       "\n",
       "    .dataframe tbody tr th {\n",
       "        vertical-align: top;\n",
       "    }\n",
       "\n",
       "    .dataframe thead th {\n",
       "        text-align: right;\n",
       "    }\n",
       "</style>\n",
       "<table border=\"1\" class=\"dataframe\">\n",
       "  <thead>\n",
       "    <tr style=\"text-align: right;\">\n",
       "      <th></th>\n",
       "      <th>State</th>\n",
       "      <th>Participation</th>\n",
       "      <th>Evidence-Based Reading and Writing</th>\n",
       "      <th>Math</th>\n",
       "      <th>Total</th>\n",
       "    </tr>\n",
       "  </thead>\n",
       "  <tbody>\n",
       "    <tr>\n",
       "      <th>0</th>\n",
       "      <td>Alabama</td>\n",
       "      <td>5%</td>\n",
       "      <td>593</td>\n",
       "      <td>572</td>\n",
       "      <td>1165</td>\n",
       "    </tr>\n",
       "    <tr>\n",
       "      <th>1</th>\n",
       "      <td>Alaska</td>\n",
       "      <td>38%</td>\n",
       "      <td>547</td>\n",
       "      <td>533</td>\n",
       "      <td>1080</td>\n",
       "    </tr>\n",
       "    <tr>\n",
       "      <th>2</th>\n",
       "      <td>Arizona</td>\n",
       "      <td>30%</td>\n",
       "      <td>563</td>\n",
       "      <td>553</td>\n",
       "      <td>1116</td>\n",
       "    </tr>\n",
       "    <tr>\n",
       "      <th>3</th>\n",
       "      <td>Arkansas</td>\n",
       "      <td>3%</td>\n",
       "      <td>614</td>\n",
       "      <td>594</td>\n",
       "      <td>1208</td>\n",
       "    </tr>\n",
       "    <tr>\n",
       "      <th>4</th>\n",
       "      <td>California</td>\n",
       "      <td>53%</td>\n",
       "      <td>531</td>\n",
       "      <td>524</td>\n",
       "      <td>1055</td>\n",
       "    </tr>\n",
       "  </tbody>\n",
       "</table>\n",
       "</div>"
      ],
      "text/plain": [
       "        State Participation  Evidence-Based Reading and Writing  Math  Total\n",
       "0     Alabama            5%                                 593   572   1165\n",
       "1      Alaska           38%                                 547   533   1080\n",
       "2     Arizona           30%                                 563   553   1116\n",
       "3    Arkansas            3%                                 614   594   1208\n",
       "4  California           53%                                 531   524   1055"
      ]
     },
     "execution_count": 9,
     "metadata": {},
     "output_type": "execute_result"
    }
   ],
   "source": [
    "sat_2017.head()"
   ]
  },
  {
   "cell_type": "code",
   "execution_count": 10,
   "metadata": {},
   "outputs": [
    {
     "data": {
      "text/html": [
       "<div>\n",
       "<style scoped>\n",
       "    .dataframe tbody tr th:only-of-type {\n",
       "        vertical-align: middle;\n",
       "    }\n",
       "\n",
       "    .dataframe tbody tr th {\n",
       "        vertical-align: top;\n",
       "    }\n",
       "\n",
       "    .dataframe thead th {\n",
       "        text-align: right;\n",
       "    }\n",
       "</style>\n",
       "<table border=\"1\" class=\"dataframe\">\n",
       "  <thead>\n",
       "    <tr style=\"text-align: right;\">\n",
       "      <th></th>\n",
       "      <th>State</th>\n",
       "      <th>Participation</th>\n",
       "      <th>Evidence-Based Reading and Writing</th>\n",
       "      <th>Math</th>\n",
       "      <th>Total</th>\n",
       "    </tr>\n",
       "  </thead>\n",
       "  <tbody>\n",
       "    <tr>\n",
       "      <th>0</th>\n",
       "      <td>Alabama</td>\n",
       "      <td>6%</td>\n",
       "      <td>595</td>\n",
       "      <td>571</td>\n",
       "      <td>1166</td>\n",
       "    </tr>\n",
       "    <tr>\n",
       "      <th>1</th>\n",
       "      <td>Alaska</td>\n",
       "      <td>43%</td>\n",
       "      <td>562</td>\n",
       "      <td>544</td>\n",
       "      <td>1106</td>\n",
       "    </tr>\n",
       "    <tr>\n",
       "      <th>2</th>\n",
       "      <td>Arizona</td>\n",
       "      <td>29%</td>\n",
       "      <td>577</td>\n",
       "      <td>572</td>\n",
       "      <td>1149</td>\n",
       "    </tr>\n",
       "    <tr>\n",
       "      <th>3</th>\n",
       "      <td>Arkansas</td>\n",
       "      <td>5%</td>\n",
       "      <td>592</td>\n",
       "      <td>576</td>\n",
       "      <td>1169</td>\n",
       "    </tr>\n",
       "    <tr>\n",
       "      <th>4</th>\n",
       "      <td>California</td>\n",
       "      <td>60%</td>\n",
       "      <td>540</td>\n",
       "      <td>536</td>\n",
       "      <td>1076</td>\n",
       "    </tr>\n",
       "  </tbody>\n",
       "</table>\n",
       "</div>"
      ],
      "text/plain": [
       "        State Participation  Evidence-Based Reading and Writing  Math  Total\n",
       "0     Alabama            6%                                 595   571   1166\n",
       "1      Alaska           43%                                 562   544   1106\n",
       "2     Arizona           29%                                 577   572   1149\n",
       "3    Arkansas            5%                                 592   576   1169\n",
       "4  California           60%                                 540   536   1076"
      ]
     },
     "execution_count": 10,
     "metadata": {},
     "output_type": "execute_result"
    }
   ],
   "source": [
    "sat_2018.head()"
   ]
  },
  {
   "cell_type": "code",
   "execution_count": 11,
   "metadata": {},
   "outputs": [
    {
     "data": {
      "text/html": [
       "<div>\n",
       "<style scoped>\n",
       "    .dataframe tbody tr th:only-of-type {\n",
       "        vertical-align: middle;\n",
       "    }\n",
       "\n",
       "    .dataframe tbody tr th {\n",
       "        vertical-align: top;\n",
       "    }\n",
       "\n",
       "    .dataframe thead th {\n",
       "        text-align: right;\n",
       "    }\n",
       "</style>\n",
       "<table border=\"1\" class=\"dataframe\">\n",
       "  <thead>\n",
       "    <tr style=\"text-align: right;\">\n",
       "      <th></th>\n",
       "      <th>State</th>\n",
       "      <th>Participation Rate</th>\n",
       "      <th>EBRW</th>\n",
       "      <th>Math</th>\n",
       "      <th>Total</th>\n",
       "    </tr>\n",
       "  </thead>\n",
       "  <tbody>\n",
       "    <tr>\n",
       "      <th>0</th>\n",
       "      <td>Alabama</td>\n",
       "      <td>7%</td>\n",
       "      <td>583</td>\n",
       "      <td>560</td>\n",
       "      <td>1143</td>\n",
       "    </tr>\n",
       "    <tr>\n",
       "      <th>1</th>\n",
       "      <td>Alaska</td>\n",
       "      <td>41%</td>\n",
       "      <td>556</td>\n",
       "      <td>541</td>\n",
       "      <td>1097</td>\n",
       "    </tr>\n",
       "    <tr>\n",
       "      <th>2</th>\n",
       "      <td>Arizona</td>\n",
       "      <td>31%</td>\n",
       "      <td>569</td>\n",
       "      <td>565</td>\n",
       "      <td>1134</td>\n",
       "    </tr>\n",
       "    <tr>\n",
       "      <th>3</th>\n",
       "      <td>Arkansas</td>\n",
       "      <td>6%</td>\n",
       "      <td>582</td>\n",
       "      <td>559</td>\n",
       "      <td>1141</td>\n",
       "    </tr>\n",
       "    <tr>\n",
       "      <th>4</th>\n",
       "      <td>California</td>\n",
       "      <td>63%</td>\n",
       "      <td>534</td>\n",
       "      <td>531</td>\n",
       "      <td>1065</td>\n",
       "    </tr>\n",
       "  </tbody>\n",
       "</table>\n",
       "</div>"
      ],
      "text/plain": [
       "        State Participation Rate  EBRW  Math  Total\n",
       "0     Alabama                 7%   583   560   1143\n",
       "1      Alaska                41%   556   541   1097\n",
       "2     Arizona                31%   569   565   1134\n",
       "3    Arkansas                 6%   582   559   1141\n",
       "4  California                63%   534   531   1065"
      ]
     },
     "execution_count": 11,
     "metadata": {},
     "output_type": "execute_result"
    }
   ],
   "source": [
    "sat_2019.head()"
   ]
  },
  {
   "cell_type": "markdown",
   "metadata": {},
   "source": [
    "### 2. Check for missing values\n",
    "AND\n",
    "### Step 5: Display the data types of each feature."
   ]
  },
  {
   "cell_type": "markdown",
   "metadata": {},
   "source": [
    "<font color = \"red\">In future projects you can print them separately instead of all together for readability. \n",
    "    \n",
    "Your comment in the cell block below cannot be seen in full. Please try to start a new line so that the entire line can be seen! Refer to the Maximum Line Length section of the Python style guide</font> [here](https://www.python.org/dev/peps/pep-0008/#maximum-line-length)."
   ]
  },
  {
   "cell_type": "code",
   "execution_count": 12,
   "metadata": {},
   "outputs": [
    {
     "name": "stdout",
     "output_type": "stream",
     "text": [
      "<class 'pandas.core.frame.DataFrame'>\n",
      "RangeIndex: 52 entries, 0 to 51\n",
      "Data columns (total 7 columns):\n",
      " #   Column         Non-Null Count  Dtype  \n",
      "---  ------         --------------  -----  \n",
      " 0   State          52 non-null     object \n",
      " 1   Participation  52 non-null     object \n",
      " 2   English        52 non-null     float64\n",
      " 3   Math           52 non-null     float64\n",
      " 4   Reading        52 non-null     float64\n",
      " 5   Science        52 non-null     float64\n",
      " 6   Composite      52 non-null     object \n",
      "dtypes: float64(4), object(3)\n",
      "memory usage: 3.0+ KB\n",
      "None\n",
      "<class 'pandas.core.frame.DataFrame'>\n",
      "RangeIndex: 52 entries, 0 to 51\n",
      "Data columns (total 3 columns):\n",
      " #   Column         Non-Null Count  Dtype  \n",
      "---  ------         --------------  -----  \n",
      " 0   State          52 non-null     object \n",
      " 1   Participation  52 non-null     object \n",
      " 2   Composite      52 non-null     float64\n",
      "dtypes: float64(1), object(2)\n",
      "memory usage: 1.3+ KB\n",
      "None\n",
      "<class 'pandas.core.frame.DataFrame'>\n",
      "RangeIndex: 52 entries, 0 to 51\n",
      "Data columns (total 3 columns):\n",
      " #   Column         Non-Null Count  Dtype  \n",
      "---  ------         --------------  -----  \n",
      " 0   State          52 non-null     object \n",
      " 1   Participation  52 non-null     object \n",
      " 2   Composite      52 non-null     float64\n",
      "dtypes: float64(1), object(2)\n",
      "memory usage: 1.3+ KB\n",
      "None\n",
      "<class 'pandas.core.frame.DataFrame'>\n",
      "RangeIndex: 51 entries, 0 to 50\n",
      "Data columns (total 5 columns):\n",
      " #   Column                              Non-Null Count  Dtype \n",
      "---  ------                              --------------  ----- \n",
      " 0   State                               51 non-null     object\n",
      " 1   Participation                       51 non-null     object\n",
      " 2   Evidence-Based Reading and Writing  51 non-null     int64 \n",
      " 3   Math                                51 non-null     int64 \n",
      " 4   Total                               51 non-null     int64 \n",
      "dtypes: int64(3), object(2)\n",
      "memory usage: 2.1+ KB\n",
      "None\n",
      "<class 'pandas.core.frame.DataFrame'>\n",
      "RangeIndex: 51 entries, 0 to 50\n",
      "Data columns (total 5 columns):\n",
      " #   Column                              Non-Null Count  Dtype \n",
      "---  ------                              --------------  ----- \n",
      " 0   State                               51 non-null     object\n",
      " 1   Participation                       51 non-null     object\n",
      " 2   Evidence-Based Reading and Writing  51 non-null     int64 \n",
      " 3   Math                                51 non-null     int64 \n",
      " 4   Total                               51 non-null     int64 \n",
      "dtypes: int64(3), object(2)\n",
      "memory usage: 2.1+ KB\n",
      "None\n",
      "<class 'pandas.core.frame.DataFrame'>\n",
      "RangeIndex: 53 entries, 0 to 52\n",
      "Data columns (total 5 columns):\n",
      " #   Column              Non-Null Count  Dtype \n",
      "---  ------              --------------  ----- \n",
      " 0   State               53 non-null     object\n",
      " 1   Participation Rate  53 non-null     object\n",
      " 2   EBRW                53 non-null     int64 \n",
      " 3   Math                53 non-null     int64 \n",
      " 4   Total               53 non-null     int64 \n",
      "dtypes: int64(3), object(2)\n",
      "memory usage: 2.2+ KB\n",
      "None\n"
     ]
    }
   ],
   "source": [
    "print(act_2017.info())\n",
    "print(act_2018.info())\n",
    "print(act_2019.info())\n",
    "print(sat_2017.info())\n",
    "print(sat_2018.info())\n",
    "print(sat_2019.info())\n",
    "\n",
    "# All of the particiation rates have a data type of object, additionally, we have found that in the act_2017 file, composite\n",
    "# should have a data type of float, (just like the other files), however it has a data type of object. Cleaning is required."
   ]
  },
  {
   "cell_type": "markdown",
   "metadata": {},
   "source": [
    "* We can conclude that there are no missing values in any of the cells. However we can observe that the SAT 2017, 2018, and 2019 files all have different number of rows. We would normally expect these number of rows to be the same. This will be something to take note of when merging the files as it will creating missing values if the 'how='outer'' method is used.\n",
    "* Additionally, We would also expect all columns dtype to be float or int after seeing the first 5 rows of each data frame. \n",
    "    1. For **participation** in all files, we will need to clean it and change it to float type. \n",
    "    2. For the file **act_2017**, we will need to examine why the composite column is classified as object instead of int/float."
   ]
  },
  {
   "cell_type": "markdown",
   "metadata": {},
   "source": [
    "### Step 3: Check for any obvious issues with the observations \n",
    "(keep in mind the minimum & maximum possible values for each test/subtest)"
   ]
  },
  {
   "cell_type": "markdown",
   "metadata": {},
   "source": [
    "<font color = \"red\">Try not to print them all together like this.</font>"
   ]
  },
  {
   "cell_type": "code",
   "execution_count": 13,
   "metadata": {},
   "outputs": [
    {
     "name": "stdout",
     "output_type": "stream",
     "text": [
      "         English       Math    Reading    Science\n",
      "count  52.000000  52.000000  52.000000  52.000000\n",
      "mean   20.919231  21.173077  22.001923  21.040385\n",
      "std     2.332132   1.963602   2.048672   3.151113\n",
      "min    16.300000  18.000000  18.100000   2.300000\n",
      "25%    19.000000  19.400000  20.475000  19.900000\n",
      "50%    20.550000  20.900000  21.700000  21.150000\n",
      "75%    23.300000  23.100000  24.125000  22.525000\n",
      "max    25.500000  25.300000  26.000000  24.900000\n",
      "       Composite\n",
      "count  52.000000\n",
      "mean   21.544231\n",
      "std     2.119417\n",
      "min    17.700000\n",
      "25%    19.975000\n",
      "50%    21.300000\n",
      "75%    23.725000\n",
      "max    25.600000\n",
      "       Composite\n",
      "count  52.000000\n",
      "mean   21.450000\n",
      "std     2.175487\n",
      "min    17.900000\n",
      "25%    19.800000\n",
      "50%    20.950000\n",
      "75%    23.650000\n",
      "max    25.500000\n",
      "       Evidence-Based Reading and Writing        Math        Total\n",
      "count                           51.000000   51.000000    51.000000\n",
      "mean                           569.117647  547.627451  1126.098039\n",
      "std                             45.666901   84.909119    92.494812\n",
      "min                            482.000000   52.000000   950.000000\n",
      "25%                            533.500000  522.000000  1055.500000\n",
      "50%                            559.000000  548.000000  1107.000000\n",
      "75%                            613.000000  599.000000  1212.000000\n",
      "max                            644.000000  651.000000  1295.000000\n",
      "       Evidence-Based Reading and Writing        Math        Total\n",
      "count                           51.000000   51.000000    51.000000\n",
      "mean                           563.686275  556.235294  1120.019608\n",
      "std                             47.502627   47.772623    94.155083\n",
      "min                            480.000000  480.000000   977.000000\n",
      "25%                            534.500000  522.500000  1057.500000\n",
      "50%                            552.000000  544.000000  1098.000000\n",
      "75%                            610.500000  593.500000  1204.000000\n",
      "max                            643.000000  655.000000  1298.000000\n",
      "             EBRW        Math        Total\n",
      "count   53.000000   53.000000    53.000000\n",
      "mean   558.000000  548.471698  1106.528302\n",
      "std     47.554422   53.785044   100.994784\n",
      "min    483.000000  445.000000   935.000000\n",
      "25%    518.000000  506.000000  1024.000000\n",
      "50%    550.000000  545.000000  1097.000000\n",
      "75%    610.000000  596.000000  1200.000000\n",
      "max    636.000000  648.000000  1284.000000\n"
     ]
    }
   ],
   "source": [
    "print(act_2017.describe())\n",
    "print(act_2018.describe())\n",
    "print(act_2019.describe())\n",
    "print(sat_2017.describe())\n",
    "print(sat_2018.describe())\n",
    "print(sat_2019.describe())"
   ]
  },
  {
   "cell_type": "markdown",
   "metadata": {},
   "source": [
    ">As we can see here, it seems that some of the columns are missing due to the wrong data type. Therefore we will fix all the other potential issues with the data first before coming back to the issue of minimum and maximum expected values."
   ]
  },
  {
   "cell_type": "markdown",
   "metadata": {},
   "source": [
    "### Steps 4 - 15: These steps will be carried out, however they may not be carried out in the same order as specified above. The step will be called out before each section."
   ]
  },
  {
   "cell_type": "markdown",
   "metadata": {},
   "source": [
    "### Step 7: Rename columns based on requirement provided.\n",
    ">First we will change all the column names to make it easier to read once the data has been merged. After that we will address the datatype before merging."
   ]
  },
  {
   "cell_type": "code",
   "execution_count": 14,
   "metadata": {},
   "outputs": [],
   "source": [
    "# renaming all columns in each of the SAT dataframes\n",
    "# as per the requirements in the above section.\n",
    "act_2017.rename(columns={\n",
    "    \"State\": \"state\",\n",
    "    \"Participation\": \"participation_act_17\",\n",
    "    \"English\": \"english_17\",\n",
    "    \"Math\": \"math_act_17\", #since there is math in both SAT and ACT files, I've called out the specific test in the name.\n",
    "    \"Reading\": \"reading_17\",\n",
    "    \"Science\": \"science_17\",\n",
    "    \"Composite\": \"composite_17\"\n",
    "}, inplace=True)\n",
    "\n",
    "act_2018.rename(columns={\n",
    "    \"State\": \"state\",\n",
    "    \"Participation\": \"participation_act_18\",\n",
    "    \"Composite\": \"composite_18\"\n",
    "}, inplace=True)\n",
    "\n",
    "act_2019.rename(columns={\n",
    "    \"State\": \"state\",\n",
    "    \"Participation\": \"participation_act_19\",\n",
    "    \"Composite\": \"composite_19\"\n",
    "}, inplace=True)"
   ]
  },
  {
   "cell_type": "code",
   "execution_count": 15,
   "metadata": {},
   "outputs": [],
   "source": [
    "# renaming all columns in each of the SAT dataframes\n",
    "# as per the requirements in the above section.\n",
    "sat_2017.rename(columns={\n",
    "    \"State\": \"state\",\n",
    "    \"Participation\": \"participation_sat_17\",\n",
    "    \"Evidence-Based Reading and Writing\": \"ebrw_17\",\n",
    "    \"Math\": \"math_sat_17\", #since there is math in both SAT and ACT files, I've called out the specific test in the name.\n",
    "    \"Total\": \"total_17\"\n",
    "}, inplace=True)\n",
    "\n",
    "sat_2018.rename(columns={\n",
    "    \"State\": \"state\",\n",
    "    \"Participation\": \"participation_sat_18\",\n",
    "    \"Evidence-Based Reading and Writing\": \"ebrw_18\",\n",
    "    \"Math\": \"math_18\",\n",
    "    \"Total\": \"total_18\"\n",
    "}, inplace=True)\n",
    "\n",
    "sat_2019.rename(columns={\n",
    "    \"State\": \"state\",\n",
    "    \"Participation Rate\": \"participation_sat_19\",\n",
    "    \"EBRW\": \"ebrw_19\",\n",
    "    \"Math\": \"math_19\",\n",
    "    \"Total\": \"total_19\"\n",
    "}, inplace=True)"
   ]
  },
  {
   "cell_type": "markdown",
   "metadata": {},
   "source": [
    "### Step 6: Fix any incorrect data types"
   ]
  },
  {
   "cell_type": "markdown",
   "metadata": {},
   "source": [
    ">Next we will address the data type for each of the files based on the previous check. Using the `.map` function, we will clean the data with the function, `clean_data()` we created in part 1 and convert the participation column values into a float."
   ]
  },
  {
   "cell_type": "code",
   "execution_count": 16,
   "metadata": {},
   "outputs": [],
   "source": [
    "# map method to call function clean_data on each row in the dataframe\n",
    "act_2017['participation_act_17'] = act_2017[\"participation_act_17\"].map(clean_data)\n",
    "act_2018[\"participation_act_18\"] = act_2018[\"participation_act_18\"].map(clean_data)\n",
    "act_2019[\"participation_act_19\"] = act_2019[\"participation_act_19\"].map(clean_data)"
   ]
  },
  {
   "cell_type": "code",
   "execution_count": 17,
   "metadata": {},
   "outputs": [],
   "source": [
    "# map method to call function clean_data on each row in the dataframe\n",
    "sat_2017[\"participation_sat_17\"] = sat_2017[\"participation_sat_17\"].map(clean_data)\n",
    "sat_2018[\"participation_sat_18\"] = sat_2018[\"participation_sat_18\"].map(clean_data)\n",
    "sat_2019[\"participation_sat_19\"] = sat_2019[\"participation_sat_19\"].map(clean_data)"
   ]
  },
  {
   "cell_type": "markdown",
   "metadata": {},
   "source": [
    "### Step 8: Drop unnecessary rows (if needed)\n",
    "&\n",
    "### Step 4: Fix any errors you identified in steps 2-3"
   ]
  },
  {
   "cell_type": "markdown",
   "metadata": {},
   "source": [
    "> After cleaning, it seems that there are NaN values in the sat_2019 file. We will tackle those next."
   ]
  },
  {
   "cell_type": "code",
   "execution_count": 18,
   "metadata": {},
   "outputs": [
    {
     "data": {
      "text/html": [
       "<div>\n",
       "<style scoped>\n",
       "    .dataframe tbody tr th:only-of-type {\n",
       "        vertical-align: middle;\n",
       "    }\n",
       "\n",
       "    .dataframe tbody tr th {\n",
       "        vertical-align: top;\n",
       "    }\n",
       "\n",
       "    .dataframe thead th {\n",
       "        text-align: right;\n",
       "    }\n",
       "</style>\n",
       "<table border=\"1\" class=\"dataframe\">\n",
       "  <thead>\n",
       "    <tr style=\"text-align: right;\">\n",
       "      <th></th>\n",
       "      <th>state</th>\n",
       "      <th>participation_sat_19</th>\n",
       "      <th>ebrw_19</th>\n",
       "      <th>math_19</th>\n",
       "      <th>total_19</th>\n",
       "    </tr>\n",
       "  </thead>\n",
       "  <tbody>\n",
       "    <tr>\n",
       "      <th>39</th>\n",
       "      <td>Puerto Rico</td>\n",
       "      <td>NaN</td>\n",
       "      <td>483</td>\n",
       "      <td>462</td>\n",
       "      <td>944</td>\n",
       "    </tr>\n",
       "    <tr>\n",
       "      <th>47</th>\n",
       "      <td>Virgin Islands</td>\n",
       "      <td>NaN</td>\n",
       "      <td>490</td>\n",
       "      <td>445</td>\n",
       "      <td>935</td>\n",
       "    </tr>\n",
       "  </tbody>\n",
       "</table>\n",
       "</div>"
      ],
      "text/plain": [
       "             state  participation_sat_19  ebrw_19  math_19  total_19\n",
       "39     Puerto Rico                   NaN      483      462       944\n",
       "47  Virgin Islands                   NaN      490      445       935"
      ]
     },
     "execution_count": 18,
     "metadata": {},
     "output_type": "execute_result"
    }
   ],
   "source": [
    "sat_2019[sat_2019[\"participation_sat_19\"].isna()]"
   ]
  },
  {
   "cell_type": "markdown",
   "metadata": {},
   "source": [
    "Since the value here is \"NaN\", these 2 rows will be ignored during the analysis. Without knowing the participation rates, it will be difficult for us to guage how significant the test scores are. Hence we will drop these rows."
   ]
  },
  {
   "cell_type": "code",
   "execution_count": 19,
   "metadata": {},
   "outputs": [],
   "source": [
    "# dropping rows where participation rate is NaN\n",
    "sat_2019.dropna(axis=0,how='any',inplace=True)"
   ]
  },
  {
   "cell_type": "markdown",
   "metadata": {},
   "source": [
    "### Step 6: Fix any individual values preventing other columns from being the appropriate type."
   ]
  },
  {
   "cell_type": "markdown",
   "metadata": {},
   "source": [
    ">Next we will tackle the dtype of the 'composite_17' column in the act_17 dataframe. The most likely possibility would be that there might be string values in the Composite_17 column, we need to convert all values to float, while\n",
    "keeping the string values so we can isolate and clean it."
   ]
  },
  {
   "cell_type": "markdown",
   "metadata": {},
   "source": [
    "<font color = \"red\">Firstly, you can also do `len(act_2017)` instead of `act_2017.shape[0]`! Secondly, for what you are trying to accomplish, a more standard way to do this would be to define a function and use map to apply it to the `composite_17` column. Where possible, try to use map or apply instead of a for loop. It runs more efficiently. If you want to identify which values are throwing errors, you can also add a print statement under the except block.</font>"
   ]
  },
  {
   "cell_type": "code",
   "execution_count": null,
   "metadata": {},
   "outputs": [],
   "source": [
    "# Suggested method\n",
    "def str_to_float(cell):\n",
    "    try:\n",
    "        return float(cell.replace(\"'\", \"\"))\n",
    "    except:\n",
    "        print(cell)\n",
    "        pass\n",
    "\n",
    "act_2017[\"composite_17\"] = act_2017[\"composite_17\"].map(str_to_float)"
   ]
  },
  {
   "cell_type": "code",
   "execution_count": 20,
   "metadata": {},
   "outputs": [],
   "source": [
    "# In order to preserve any value in the column that might be a string instead of a float, we will use a for loop so that\n",
    "# we can use the try and except method to catch the ValueError that might occur when failing to convert a str to a float.\n",
    "\n",
    "# for loop to replace each value in the column with a float\n",
    "for index in range(0,act_2017.shape[0]):\n",
    "    try:\n",
    "        act_2017.loc[index,\"composite_17\"] = float(act_2017.loc[index,\"composite_17\"].replace(\"'\",\"\"))\n",
    "    except ValueError:\n",
    "        pass"
   ]
  },
  {
   "cell_type": "markdown",
   "metadata": {},
   "source": [
    "For the file act_2017, we know that there could be some cells that have a data type of string or they might be mistakenly typed data. To clean it we must isolate these row indexes. To do this we will use a for loop."
   ]
  },
  {
   "cell_type": "code",
   "execution_count": 21,
   "metadata": {},
   "outputs": [
    {
     "name": "stdout",
     "output_type": "stream",
     "text": [
      "51\n"
     ]
    }
   ],
   "source": [
    "# the quickest way to find the rows where we might have an issue with the data type is a for loop.\n",
    "\n",
    "for index in range(0,act_2017.shape[0]):\n",
    "    if type(act_2017.loc[index, \"composite_17\"]) != float:\n",
    "        print(index)\n",
    "    else:\n",
    "        pass"
   ]
  },
  {
   "cell_type": "markdown",
   "metadata": {},
   "source": [
    "With this we now know that cell 51 in the Composite_17 column is the problem cell.\n",
    "Printing this out we can see what might be the issue."
   ]
  },
  {
   "cell_type": "code",
   "execution_count": 22,
   "metadata": {},
   "outputs": [
    {
     "data": {
      "text/plain": [
       "composite_17      20.2x\n",
       "state           Wyoming\n",
       "Name: 51, dtype: object"
      ]
     },
     "execution_count": 22,
     "metadata": {},
     "output_type": "execute_result"
    }
   ],
   "source": [
    "act_2017.loc[51, [\"composite_17\", 'state']]"
   ]
  },
  {
   "cell_type": "code",
   "execution_count": 23,
   "metadata": {},
   "outputs": [
    {
     "data": {
      "text/html": [
       "<div>\n",
       "<style scoped>\n",
       "    .dataframe tbody tr th:only-of-type {\n",
       "        vertical-align: middle;\n",
       "    }\n",
       "\n",
       "    .dataframe tbody tr th {\n",
       "        vertical-align: top;\n",
       "    }\n",
       "\n",
       "    .dataframe thead th {\n",
       "        text-align: right;\n",
       "    }\n",
       "</style>\n",
       "<table border=\"1\" class=\"dataframe\">\n",
       "  <thead>\n",
       "    <tr style=\"text-align: right;\">\n",
       "      <th></th>\n",
       "      <th>composite_18</th>\n",
       "      <th>state</th>\n",
       "    </tr>\n",
       "  </thead>\n",
       "  <tbody>\n",
       "    <tr>\n",
       "      <th>51</th>\n",
       "      <td>20.0</td>\n",
       "      <td>Wyoming</td>\n",
       "    </tr>\n",
       "  </tbody>\n",
       "</table>\n",
       "</div>"
      ],
      "text/plain": [
       "    composite_18    state\n",
       "51          20.0  Wyoming"
      ]
     },
     "execution_count": 23,
     "metadata": {},
     "output_type": "execute_result"
    }
   ],
   "source": [
    "# checking the future correct scores for wyoming to see if changing the score is plausible.\n",
    "act_2018.loc[act_2018['state'] == 'Wyoming', ['composite_18','state']]"
   ]
  },
  {
   "cell_type": "code",
   "execution_count": 24,
   "metadata": {},
   "outputs": [
    {
     "data": {
      "text/html": [
       "<div>\n",
       "<style scoped>\n",
       "    .dataframe tbody tr th:only-of-type {\n",
       "        vertical-align: middle;\n",
       "    }\n",
       "\n",
       "    .dataframe tbody tr th {\n",
       "        vertical-align: top;\n",
       "    }\n",
       "\n",
       "    .dataframe thead th {\n",
       "        text-align: right;\n",
       "    }\n",
       "</style>\n",
       "<table border=\"1\" class=\"dataframe\">\n",
       "  <thead>\n",
       "    <tr style=\"text-align: right;\">\n",
       "      <th></th>\n",
       "      <th>composite_19</th>\n",
       "      <th>state</th>\n",
       "    </tr>\n",
       "  </thead>\n",
       "  <tbody>\n",
       "    <tr>\n",
       "      <th>50</th>\n",
       "      <td>19.8</td>\n",
       "      <td>Wyoming</td>\n",
       "    </tr>\n",
       "  </tbody>\n",
       "</table>\n",
       "</div>"
      ],
      "text/plain": [
       "    composite_19    state\n",
       "50          19.8  Wyoming"
      ]
     },
     "execution_count": 24,
     "metadata": {},
     "output_type": "execute_result"
    }
   ],
   "source": [
    "# checking the future correct scores for wyoming to see if changing the score is plausible.\n",
    "act_2019.loc[act_2019['state'] == 'Wyoming', ['composite_19','state']]"
   ]
  },
  {
   "cell_type": "markdown",
   "metadata": {},
   "source": [
    ">The value currently in row 51 of the 'act_2017' file is '20.2x'. Considering that the score of 20.2 falls within the ACT composite score range of 0-36, and comparing the composite scores for the state of Wyoming in the years 2018 and 2019, it is reasonable to assume that 20.2 could indeed be the score. Hence we will go ahead with that assumption and set the new value as 20.2"
   ]
  },
  {
   "cell_type": "code",
   "execution_count": 25,
   "metadata": {},
   "outputs": [],
   "source": [
    "# setting the cell value to the appropriate value\n",
    "act_2017.loc[51, \"composite_17\"] = float(20.2)"
   ]
  },
  {
   "cell_type": "markdown",
   "metadata": {},
   "source": [
    ">With that, our six base files have been cleaned, column names changed and data types managed. Next we will merge the files, after which we will check to see if any of the values of the data fall outside the allowable range for the test scores, a check that will now make much more sense if the data types are correct."
   ]
  },
  {
   "cell_type": "markdown",
   "metadata": {},
   "source": [
    "### Step 9: Merge dataframes that can be merged."
   ]
  },
  {
   "cell_type": "code",
   "execution_count": 26,
   "metadata": {},
   "outputs": [],
   "source": [
    "merged_sat_17_18 = pd.merge(sat_2017, sat_2018, on=\"state\", how=\"outer\")\n",
    "merged_sat_final = pd.merge(merged_sat_17_18, sat_2019, on=\"state\", how=\"outer\")\n",
    "merged_act_17_18 = pd.merge(act_2017, act_2018, on=\"state\", how=\"outer\")\n",
    "merged_act_final = pd.merge(merged_act_17_18, act_2019, on=\"state\", how=\"outer\")"
   ]
  },
  {
   "cell_type": "code",
   "execution_count": 27,
   "metadata": {},
   "outputs": [
    {
     "name": "stdout",
     "output_type": "stream",
     "text": [
      "<class 'pandas.core.frame.DataFrame'>\n",
      "Int64Index: 51 entries, 0 to 50\n",
      "Data columns (total 13 columns):\n",
      " #   Column                Non-Null Count  Dtype  \n",
      "---  ------                --------------  -----  \n",
      " 0   state                 51 non-null     object \n",
      " 1   participation_sat_17  51 non-null     float64\n",
      " 2   ebrw_17               51 non-null     int64  \n",
      " 3   math_sat_17           51 non-null     int64  \n",
      " 4   total_17              51 non-null     int64  \n",
      " 5   participation_sat_18  51 non-null     float64\n",
      " 6   ebrw_18               51 non-null     int64  \n",
      " 7   math_18               51 non-null     int64  \n",
      " 8   total_18              51 non-null     int64  \n",
      " 9   participation_sat_19  51 non-null     float64\n",
      " 10  ebrw_19               51 non-null     int64  \n",
      " 11  math_19               51 non-null     int64  \n",
      " 12  total_19              51 non-null     int64  \n",
      "dtypes: float64(3), int64(9), object(1)\n",
      "memory usage: 5.6+ KB\n"
     ]
    }
   ],
   "source": [
    "merged_sat_final.info()"
   ]
  },
  {
   "cell_type": "markdown",
   "metadata": {},
   "source": [
    "<font color = \"red\">When you print info for your merged data, you need to look out for data type AND null values!!! You have null values in your merged_act_final dataset!!!</font>"
   ]
  },
  {
   "cell_type": "code",
   "execution_count": 28,
   "metadata": {},
   "outputs": [
    {
     "name": "stdout",
     "output_type": "stream",
     "text": [
      "<class 'pandas.core.frame.DataFrame'>\n",
      "Int64Index: 54 entries, 0 to 53\n",
      "Data columns (total 11 columns):\n",
      " #   Column                Non-Null Count  Dtype  \n",
      "---  ------                --------------  -----  \n",
      " 0   state                 54 non-null     object \n",
      " 1   participation_act_17  53 non-null     float64\n",
      " 2   english_17            53 non-null     float64\n",
      " 3   math_act_17           53 non-null     float64\n",
      " 4   reading_17            53 non-null     float64\n",
      " 5   science_17            53 non-null     float64\n",
      " 6   composite_17          53 non-null     object \n",
      " 7   participation_act_18  52 non-null     float64\n",
      " 8   composite_18          52 non-null     float64\n",
      " 9   participation_act_19  53 non-null     float64\n",
      " 10  composite_19          53 non-null     float64\n",
      "dtypes: float64(9), object(2)\n",
      "memory usage: 5.1+ KB\n"
     ]
    }
   ],
   "source": [
    "merged_act_final.info()"
   ]
  },
  {
   "cell_type": "markdown",
   "metadata": {},
   "source": [
    ">As we can see above, even tho the values in the 'participation' columns are all floats, the dtype for the entire column is still object. The same is seen for the \"composite_17\" column\n",
    "Lets fix that now."
   ]
  },
  {
   "cell_type": "code",
   "execution_count": 29,
   "metadata": {},
   "outputs": [],
   "source": [
    "# converting all the participation columns and the 'composite_17' column to float dtype.\n",
    "merged_sat_final[\"participation_sat_17\"] = merged_sat_final[\"participation_sat_17\"].astype(float)\n",
    "merged_sat_final[\"participation_sat_18\"] = merged_sat_final[\"participation_sat_18\"].astype(float)\n",
    "merged_sat_final[\"participation_sat_19\"] = merged_sat_final[\"participation_sat_19\"].astype(float)\n",
    "merged_act_final[\"participation_act_17\"] = merged_act_final[\"participation_act_17\"].astype(float)\n",
    "merged_act_final[\"participation_act_18\"] = merged_act_final[\"participation_act_18\"].astype(float)\n",
    "merged_act_final[\"participation_act_19\"] = merged_act_final[\"participation_act_19\"].astype(float)\n",
    "merged_act_final[\"composite_17\"] = merged_act_final[\"composite_17\"].astype(float)"
   ]
  },
  {
   "cell_type": "markdown",
   "metadata": {},
   "source": [
    "### Step 3: Check for any obvious issues with the observations"
   ]
  },
  {
   "cell_type": "markdown",
   "metadata": {},
   "source": [
    "Now that we have resolved all dtpye issues and cleaned up the data, it is time for **Step 3**. We want to ensure that no values for the scores fall outside the allowable range.\n",
    "\n",
    "The range we are checking for are as follows:\n",
    "1. ACT: Overall scores for each section as well as the overall must lie between **1 and 36.**\n",
    "2. SAT: Overall scores must lie between **400 and 1600**. Individually the Evidence Based Reading and Writing test has a range of **200 - 800**, and the Math has a range of **200 - 800** as well."
   ]
  },
  {
   "cell_type": "code",
   "execution_count": 30,
   "metadata": {},
   "outputs": [
    {
     "data": {
      "text/html": [
       "<div>\n",
       "<style scoped>\n",
       "    .dataframe tbody tr th:only-of-type {\n",
       "        vertical-align: middle;\n",
       "    }\n",
       "\n",
       "    .dataframe tbody tr th {\n",
       "        vertical-align: top;\n",
       "    }\n",
       "\n",
       "    .dataframe thead th {\n",
       "        text-align: right;\n",
       "    }\n",
       "</style>\n",
       "<table border=\"1\" class=\"dataframe\">\n",
       "  <thead>\n",
       "    <tr style=\"text-align: right;\">\n",
       "      <th></th>\n",
       "      <th>participation_sat_17</th>\n",
       "      <th>ebrw_17</th>\n",
       "      <th>math_sat_17</th>\n",
       "      <th>total_17</th>\n",
       "      <th>participation_sat_18</th>\n",
       "      <th>ebrw_18</th>\n",
       "      <th>math_18</th>\n",
       "      <th>total_18</th>\n",
       "      <th>participation_sat_19</th>\n",
       "      <th>ebrw_19</th>\n",
       "      <th>math_19</th>\n",
       "      <th>total_19</th>\n",
       "    </tr>\n",
       "  </thead>\n",
       "  <tbody>\n",
       "    <tr>\n",
       "      <th>count</th>\n",
       "      <td>51.000000</td>\n",
       "      <td>51.000000</td>\n",
       "      <td>51.000000</td>\n",
       "      <td>51.000000</td>\n",
       "      <td>51.000000</td>\n",
       "      <td>51.000000</td>\n",
       "      <td>51.000000</td>\n",
       "      <td>51.000000</td>\n",
       "      <td>51.000000</td>\n",
       "      <td>51.000000</td>\n",
       "      <td>51.000000</td>\n",
       "      <td>51.000000</td>\n",
       "    </tr>\n",
       "    <tr>\n",
       "      <th>mean</th>\n",
       "      <td>0.398039</td>\n",
       "      <td>569.117647</td>\n",
       "      <td>547.627451</td>\n",
       "      <td>1126.098039</td>\n",
       "      <td>0.457451</td>\n",
       "      <td>563.686275</td>\n",
       "      <td>556.235294</td>\n",
       "      <td>1120.019608</td>\n",
       "      <td>0.490588</td>\n",
       "      <td>560.803922</td>\n",
       "      <td>552.196078</td>\n",
       "      <td>1113.078431</td>\n",
       "    </tr>\n",
       "    <tr>\n",
       "      <th>std</th>\n",
       "      <td>0.352766</td>\n",
       "      <td>45.666901</td>\n",
       "      <td>84.909119</td>\n",
       "      <td>92.494812</td>\n",
       "      <td>0.373143</td>\n",
       "      <td>47.502627</td>\n",
       "      <td>47.772623</td>\n",
       "      <td>94.155083</td>\n",
       "      <td>0.387476</td>\n",
       "      <td>46.248035</td>\n",
       "      <td>51.290553</td>\n",
       "      <td>97.197910</td>\n",
       "    </tr>\n",
       "    <tr>\n",
       "      <th>min</th>\n",
       "      <td>0.020000</td>\n",
       "      <td>482.000000</td>\n",
       "      <td>52.000000</td>\n",
       "      <td>950.000000</td>\n",
       "      <td>0.020000</td>\n",
       "      <td>480.000000</td>\n",
       "      <td>480.000000</td>\n",
       "      <td>977.000000</td>\n",
       "      <td>0.020000</td>\n",
       "      <td>483.000000</td>\n",
       "      <td>460.000000</td>\n",
       "      <td>943.000000</td>\n",
       "    </tr>\n",
       "    <tr>\n",
       "      <th>25%</th>\n",
       "      <td>0.040000</td>\n",
       "      <td>533.500000</td>\n",
       "      <td>522.000000</td>\n",
       "      <td>1055.500000</td>\n",
       "      <td>0.045000</td>\n",
       "      <td>534.500000</td>\n",
       "      <td>522.500000</td>\n",
       "      <td>1057.500000</td>\n",
       "      <td>0.055000</td>\n",
       "      <td>527.500000</td>\n",
       "      <td>511.500000</td>\n",
       "      <td>1038.000000</td>\n",
       "    </tr>\n",
       "    <tr>\n",
       "      <th>50%</th>\n",
       "      <td>0.380000</td>\n",
       "      <td>559.000000</td>\n",
       "      <td>548.000000</td>\n",
       "      <td>1107.000000</td>\n",
       "      <td>0.520000</td>\n",
       "      <td>552.000000</td>\n",
       "      <td>544.000000</td>\n",
       "      <td>1098.000000</td>\n",
       "      <td>0.540000</td>\n",
       "      <td>550.000000</td>\n",
       "      <td>546.000000</td>\n",
       "      <td>1097.000000</td>\n",
       "    </tr>\n",
       "    <tr>\n",
       "      <th>75%</th>\n",
       "      <td>0.660000</td>\n",
       "      <td>613.000000</td>\n",
       "      <td>599.000000</td>\n",
       "      <td>1212.000000</td>\n",
       "      <td>0.775000</td>\n",
       "      <td>610.500000</td>\n",
       "      <td>593.500000</td>\n",
       "      <td>1204.000000</td>\n",
       "      <td>0.820000</td>\n",
       "      <td>612.000000</td>\n",
       "      <td>599.000000</td>\n",
       "      <td>1210.000000</td>\n",
       "    </tr>\n",
       "    <tr>\n",
       "      <th>max</th>\n",
       "      <td>1.000000</td>\n",
       "      <td>644.000000</td>\n",
       "      <td>651.000000</td>\n",
       "      <td>1295.000000</td>\n",
       "      <td>1.000000</td>\n",
       "      <td>643.000000</td>\n",
       "      <td>655.000000</td>\n",
       "      <td>1298.000000</td>\n",
       "      <td>1.000000</td>\n",
       "      <td>636.000000</td>\n",
       "      <td>648.000000</td>\n",
       "      <td>1284.000000</td>\n",
       "    </tr>\n",
       "  </tbody>\n",
       "</table>\n",
       "</div>"
      ],
      "text/plain": [
       "       participation_sat_17     ebrw_17  math_sat_17     total_17  \\\n",
       "count             51.000000   51.000000    51.000000    51.000000   \n",
       "mean               0.398039  569.117647   547.627451  1126.098039   \n",
       "std                0.352766   45.666901    84.909119    92.494812   \n",
       "min                0.020000  482.000000    52.000000   950.000000   \n",
       "25%                0.040000  533.500000   522.000000  1055.500000   \n",
       "50%                0.380000  559.000000   548.000000  1107.000000   \n",
       "75%                0.660000  613.000000   599.000000  1212.000000   \n",
       "max                1.000000  644.000000   651.000000  1295.000000   \n",
       "\n",
       "       participation_sat_18     ebrw_18     math_18     total_18  \\\n",
       "count             51.000000   51.000000   51.000000    51.000000   \n",
       "mean               0.457451  563.686275  556.235294  1120.019608   \n",
       "std                0.373143   47.502627   47.772623    94.155083   \n",
       "min                0.020000  480.000000  480.000000   977.000000   \n",
       "25%                0.045000  534.500000  522.500000  1057.500000   \n",
       "50%                0.520000  552.000000  544.000000  1098.000000   \n",
       "75%                0.775000  610.500000  593.500000  1204.000000   \n",
       "max                1.000000  643.000000  655.000000  1298.000000   \n",
       "\n",
       "       participation_sat_19     ebrw_19     math_19     total_19  \n",
       "count             51.000000   51.000000   51.000000    51.000000  \n",
       "mean               0.490588  560.803922  552.196078  1113.078431  \n",
       "std                0.387476   46.248035   51.290553    97.197910  \n",
       "min                0.020000  483.000000  460.000000   943.000000  \n",
       "25%                0.055000  527.500000  511.500000  1038.000000  \n",
       "50%                0.540000  550.000000  546.000000  1097.000000  \n",
       "75%                0.820000  612.000000  599.000000  1210.000000  \n",
       "max                1.000000  636.000000  648.000000  1284.000000  "
      ]
     },
     "execution_count": 30,
     "metadata": {},
     "output_type": "execute_result"
    }
   ],
   "source": [
    "merged_sat_final.describe()"
   ]
  },
  {
   "cell_type": "code",
   "execution_count": 31,
   "metadata": {},
   "outputs": [
    {
     "data": {
      "text/html": [
       "<div>\n",
       "<style scoped>\n",
       "    .dataframe tbody tr th:only-of-type {\n",
       "        vertical-align: middle;\n",
       "    }\n",
       "\n",
       "    .dataframe tbody tr th {\n",
       "        vertical-align: top;\n",
       "    }\n",
       "\n",
       "    .dataframe thead th {\n",
       "        text-align: right;\n",
       "    }\n",
       "</style>\n",
       "<table border=\"1\" class=\"dataframe\">\n",
       "  <thead>\n",
       "    <tr style=\"text-align: right;\">\n",
       "      <th></th>\n",
       "      <th>participation_act_17</th>\n",
       "      <th>english_17</th>\n",
       "      <th>math_act_17</th>\n",
       "      <th>reading_17</th>\n",
       "      <th>science_17</th>\n",
       "      <th>composite_17</th>\n",
       "      <th>participation_act_18</th>\n",
       "      <th>composite_18</th>\n",
       "      <th>participation_act_19</th>\n",
       "      <th>composite_19</th>\n",
       "    </tr>\n",
       "  </thead>\n",
       "  <tbody>\n",
       "    <tr>\n",
       "      <th>count</th>\n",
       "      <td>53.000000</td>\n",
       "      <td>53.000000</td>\n",
       "      <td>53.000000</td>\n",
       "      <td>53.000000</td>\n",
       "      <td>53.000000</td>\n",
       "      <td>53.000000</td>\n",
       "      <td>52.000000</td>\n",
       "      <td>52.000000</td>\n",
       "      <td>53.000000</td>\n",
       "      <td>53.000000</td>\n",
       "    </tr>\n",
       "    <tr>\n",
       "      <th>mean</th>\n",
       "      <td>0.640755</td>\n",
       "      <td>20.981132</td>\n",
       "      <td>21.226415</td>\n",
       "      <td>22.054717</td>\n",
       "      <td>21.090566</td>\n",
       "      <td>21.562264</td>\n",
       "      <td>0.606731</td>\n",
       "      <td>21.544231</td>\n",
       "      <td>0.575472</td>\n",
       "      <td>21.503774</td>\n",
       "    </tr>\n",
       "    <tr>\n",
       "      <th>std</th>\n",
       "      <td>0.324878</td>\n",
       "      <td>2.353153</td>\n",
       "      <td>1.983019</td>\n",
       "      <td>2.064961</td>\n",
       "      <td>3.141978</td>\n",
       "      <td>2.019446</td>\n",
       "      <td>0.345456</td>\n",
       "      <td>2.119417</td>\n",
       "      <td>0.346186</td>\n",
       "      <td>2.189746</td>\n",
       "    </tr>\n",
       "    <tr>\n",
       "      <th>min</th>\n",
       "      <td>0.080000</td>\n",
       "      <td>16.300000</td>\n",
       "      <td>18.000000</td>\n",
       "      <td>18.100000</td>\n",
       "      <td>2.300000</td>\n",
       "      <td>17.800000</td>\n",
       "      <td>0.070000</td>\n",
       "      <td>17.700000</td>\n",
       "      <td>0.060000</td>\n",
       "      <td>17.900000</td>\n",
       "    </tr>\n",
       "    <tr>\n",
       "      <th>25%</th>\n",
       "      <td>0.310000</td>\n",
       "      <td>19.000000</td>\n",
       "      <td>19.400000</td>\n",
       "      <td>20.500000</td>\n",
       "      <td>19.900000</td>\n",
       "      <td>19.800000</td>\n",
       "      <td>0.270000</td>\n",
       "      <td>19.975000</td>\n",
       "      <td>0.240000</td>\n",
       "      <td>19.800000</td>\n",
       "    </tr>\n",
       "    <tr>\n",
       "      <th>50%</th>\n",
       "      <td>0.670000</td>\n",
       "      <td>20.700000</td>\n",
       "      <td>20.900000</td>\n",
       "      <td>21.800000</td>\n",
       "      <td>21.300000</td>\n",
       "      <td>21.400000</td>\n",
       "      <td>0.655000</td>\n",
       "      <td>21.300000</td>\n",
       "      <td>0.520000</td>\n",
       "      <td>21.100000</td>\n",
       "    </tr>\n",
       "    <tr>\n",
       "      <th>75%</th>\n",
       "      <td>1.000000</td>\n",
       "      <td>23.300000</td>\n",
       "      <td>23.100000</td>\n",
       "      <td>24.200000</td>\n",
       "      <td>23.200000</td>\n",
       "      <td>23.600000</td>\n",
       "      <td>1.000000</td>\n",
       "      <td>23.725000</td>\n",
       "      <td>1.000000</td>\n",
       "      <td>23.800000</td>\n",
       "    </tr>\n",
       "    <tr>\n",
       "      <th>max</th>\n",
       "      <td>1.000000</td>\n",
       "      <td>25.500000</td>\n",
       "      <td>25.300000</td>\n",
       "      <td>26.000000</td>\n",
       "      <td>24.900000</td>\n",
       "      <td>25.500000</td>\n",
       "      <td>1.000000</td>\n",
       "      <td>25.600000</td>\n",
       "      <td>1.000000</td>\n",
       "      <td>25.500000</td>\n",
       "    </tr>\n",
       "  </tbody>\n",
       "</table>\n",
       "</div>"
      ],
      "text/plain": [
       "       participation_act_17  english_17  math_act_17  reading_17  science_17  \\\n",
       "count             53.000000   53.000000    53.000000   53.000000   53.000000   \n",
       "mean               0.640755   20.981132    21.226415   22.054717   21.090566   \n",
       "std                0.324878    2.353153     1.983019    2.064961    3.141978   \n",
       "min                0.080000   16.300000    18.000000   18.100000    2.300000   \n",
       "25%                0.310000   19.000000    19.400000   20.500000   19.900000   \n",
       "50%                0.670000   20.700000    20.900000   21.800000   21.300000   \n",
       "75%                1.000000   23.300000    23.100000   24.200000   23.200000   \n",
       "max                1.000000   25.500000    25.300000   26.000000   24.900000   \n",
       "\n",
       "       composite_17  participation_act_18  composite_18  participation_act_19  \\\n",
       "count     53.000000             52.000000     52.000000             53.000000   \n",
       "mean      21.562264              0.606731     21.544231              0.575472   \n",
       "std        2.019446              0.345456      2.119417              0.346186   \n",
       "min       17.800000              0.070000     17.700000              0.060000   \n",
       "25%       19.800000              0.270000     19.975000              0.240000   \n",
       "50%       21.400000              0.655000     21.300000              0.520000   \n",
       "75%       23.600000              1.000000     23.725000              1.000000   \n",
       "max       25.500000              1.000000     25.600000              1.000000   \n",
       "\n",
       "       composite_19  \n",
       "count     53.000000  \n",
       "mean      21.503774  \n",
       "std        2.189746  \n",
       "min       17.900000  \n",
       "25%       19.800000  \n",
       "50%       21.100000  \n",
       "75%       23.800000  \n",
       "max       25.500000  "
      ]
     },
     "execution_count": 31,
     "metadata": {},
     "output_type": "execute_result"
    }
   ],
   "source": [
    "merged_act_final.describe()"
   ]
  },
  {
   "cell_type": "markdown",
   "metadata": {},
   "source": [
    ">From the above figures, we can identify the the minimum 'sat_2017' test score for *math* seems to have an issue where the minimum score recorded was **52**. However this score is **invalid**.\n",
    ">Additionally, we have a minimum score in the column 'science_17' that looks a little suspicious. Although the score of **2.3** itself is valid, considering the other subjects have a minimum of **16-18**, and the minimum composite score is **17.8**, we will check this score if it makes sense with the other component score since we have that data."
   ]
  },
  {
   "cell_type": "code",
   "execution_count": 32,
   "metadata": {},
   "outputs": [
    {
     "data": {
      "text/html": [
       "<div>\n",
       "<style scoped>\n",
       "    .dataframe tbody tr th:only-of-type {\n",
       "        vertical-align: middle;\n",
       "    }\n",
       "\n",
       "    .dataframe tbody tr th {\n",
       "        vertical-align: top;\n",
       "    }\n",
       "\n",
       "    .dataframe thead th {\n",
       "        text-align: right;\n",
       "    }\n",
       "</style>\n",
       "<table border=\"1\" class=\"dataframe\">\n",
       "  <thead>\n",
       "    <tr style=\"text-align: right;\">\n",
       "      <th></th>\n",
       "      <th>state</th>\n",
       "      <th>ebrw_17</th>\n",
       "      <th>math_sat_17</th>\n",
       "      <th>total_17</th>\n",
       "    </tr>\n",
       "  </thead>\n",
       "  <tbody>\n",
       "    <tr>\n",
       "      <th>20</th>\n",
       "      <td>Maryland</td>\n",
       "      <td>536</td>\n",
       "      <td>52</td>\n",
       "      <td>1060</td>\n",
       "    </tr>\n",
       "  </tbody>\n",
       "</table>\n",
       "</div>"
      ],
      "text/plain": [
       "       state  ebrw_17  math_sat_17  total_17\n",
       "20  Maryland      536           52      1060"
      ]
     },
     "execution_count": 32,
     "metadata": {},
     "output_type": "execute_result"
    }
   ],
   "source": [
    "# filtering for the low math score we spotted earlier\n",
    "merged_sat_final.loc[(merged_sat_final[\"math_sat_17\"] < 200),[\"state\",\"ebrw_17\",\"math_sat_17\",\"total_17\"]]"
   ]
  },
  {
   "cell_type": "markdown",
   "metadata": {},
   "source": [
    ">We can see that the score for *math_sat_17* is below the minimum allowable score of 200. However for 'ebrw_17' and 'total_17' the values are reflected properly. Since 'total' is supposed to be a sum of 'ebrw' and 'math', it is reasonable for us to assume here that the value of 'math' was supposed to be 524 where 536 + 524 = 1060. Let's go ahead and change this now. Otherwise all these scores for Maryland do not make sense."
   ]
  },
  {
   "cell_type": "code",
   "execution_count": 33,
   "metadata": {},
   "outputs": [],
   "source": [
    "merged_sat_final.loc[20, \"math_sat_17\"] = float(524.0)\n",
    "# changing value in math_sat_17 column, row 20 to float dtype with value of 524."
   ]
  },
  {
   "cell_type": "markdown",
   "metadata": {},
   "source": [
    "Next we will check the 'science_17' score where it showed the min score as 2.3."
   ]
  },
  {
   "cell_type": "code",
   "execution_count": 34,
   "metadata": {},
   "outputs": [
    {
     "data": {
      "text/html": [
       "<div>\n",
       "<style scoped>\n",
       "    .dataframe tbody tr th:only-of-type {\n",
       "        vertical-align: middle;\n",
       "    }\n",
       "\n",
       "    .dataframe tbody tr th {\n",
       "        vertical-align: top;\n",
       "    }\n",
       "\n",
       "    .dataframe thead th {\n",
       "        text-align: right;\n",
       "    }\n",
       "</style>\n",
       "<table border=\"1\" class=\"dataframe\">\n",
       "  <thead>\n",
       "    <tr style=\"text-align: right;\">\n",
       "      <th></th>\n",
       "      <th>state</th>\n",
       "      <th>participation_act_17</th>\n",
       "      <th>english_17</th>\n",
       "      <th>math_act_17</th>\n",
       "      <th>reading_17</th>\n",
       "      <th>science_17</th>\n",
       "      <th>composite_17</th>\n",
       "    </tr>\n",
       "  </thead>\n",
       "  <tbody>\n",
       "    <tr>\n",
       "      <th>22</th>\n",
       "      <td>Maryland</td>\n",
       "      <td>0.28</td>\n",
       "      <td>23.3</td>\n",
       "      <td>23.1</td>\n",
       "      <td>24.2</td>\n",
       "      <td>2.3</td>\n",
       "      <td>23.6</td>\n",
       "    </tr>\n",
       "  </tbody>\n",
       "</table>\n",
       "</div>"
      ],
      "text/plain": [
       "       state  participation_act_17  english_17  math_act_17  reading_17  \\\n",
       "22  Maryland                  0.28        23.3         23.1        24.2   \n",
       "\n",
       "    science_17  composite_17  \n",
       "22         2.3          23.6  "
      ]
     },
     "execution_count": 34,
     "metadata": {},
     "output_type": "execute_result"
    }
   ],
   "source": [
    "# filtering for the low science score we spotted earlier\n",
    "merged_act_final.loc[merged_act_final['science_17'] < 3, ['state', \n",
    "                                                          'participation_act_17', \n",
    "                                                          'english_17', \n",
    "                                                          'math_act_17',\n",
    "                                                          'reading_17',\n",
    "                                                          'science_17',\n",
    "                                                          'composite_17']]"
   ]
  },
  {
   "cell_type": "markdown",
   "metadata": {},
   "source": [
    "Since we know that the composite score is calculated by taking an average of the other 4 subjects, we can see that for these numbers to make sense, the science_17 score should have been 23.8 instead of 2.3 This is a reasonable assumption to make since we have all the other component scores. We will similarly set this score to 23.8."
   ]
  },
  {
   "cell_type": "code",
   "execution_count": 35,
   "metadata": {},
   "outputs": [],
   "source": [
    "merged_act_final.loc[22, 'science_17'] = float(23.8)"
   ]
  },
  {
   "cell_type": "markdown",
   "metadata": {},
   "source": [
    ">Lastly, we will quickly clean the `state_test_cat` file and drop the columns we do not need so that we may merge it with the other files easily."
   ]
  },
  {
   "cell_type": "code",
   "execution_count": 36,
   "metadata": {},
   "outputs": [],
   "source": [
    "state_test_cat.drop(columns=['3-8_test', 'high_school_test', 'exit_exam?','notes'], inplace=True)\n",
    "# dropping all columns except the 'state' and 'mandatory' columns."
   ]
  },
  {
   "cell_type": "code",
   "execution_count": 37,
   "metadata": {},
   "outputs": [
    {
     "data": {
      "text/plain": [
       "state_name       0\n",
       "mandatory_17    27\n",
       "dtype: int64"
      ]
     },
     "execution_count": 37,
     "metadata": {},
     "output_type": "execute_result"
    }
   ],
   "source": [
    "state_test_cat.isnull().sum()"
   ]
  },
  {
   "cell_type": "markdown",
   "metadata": {},
   "source": [
    "<font color = \"red\">Minor error. The description says 22 null values, but the output says there are 27 null values. You should fix that before uploading your project to your public Github!</font>"
   ]
  },
  {
   "cell_type": "markdown",
   "metadata": {},
   "source": [
    ">We can see that unfortunately we have 22 rows with null or NaN values. As such we will replace it with the word 'optional' which will make visualisation of the data easier."
   ]
  },
  {
   "cell_type": "code",
   "execution_count": 38,
   "metadata": {},
   "outputs": [],
   "source": [
    "state_test_cat['mandatory_17'] = state_test_cat['mandatory_17'].fillna('optional')"
   ]
  },
  {
   "cell_type": "code",
   "execution_count": 39,
   "metadata": {},
   "outputs": [],
   "source": [
    "state_test_cat.rename(columns={'state_name': 'state'},inplace=True)\n",
    "# renaming the state_name column to state so that it is easier to merge with the other dataframes."
   ]
  },
  {
   "cell_type": "markdown",
   "metadata": {},
   "source": [
    "### Step 11: Save your cleaned and merged dataframes as csv files.\n",
    ">Lastly we will create 1 more merged dataframe that will contain ALL of our columns and data. We will save these files and move on to the next section."
   ]
  },
  {
   "cell_type": "code",
   "execution_count": 40,
   "metadata": {},
   "outputs": [],
   "source": [
    "merged_all_v1 = pd.merge(merged_act_final, merged_sat_final, on='state', how='outer')\n",
    "merged_all_final = pd.merge(merged_all_v1, state_test_cat, on='state', how='left')\n",
    "# creation of overall merged dataframe."
   ]
  },
  {
   "cell_type": "code",
   "execution_count": 41,
   "metadata": {},
   "outputs": [],
   "source": [
    "merged_act_final.to_csv('../data/merged_act_final.csv')\n",
    "merged_sat_final.to_csv('../data/merged_sat_final.csv')\n",
    "merged_all_final.to_csv('../data/merged_all_final.csv')"
   ]
  },
  {
   "cell_type": "markdown",
   "metadata": {},
   "source": [
    "With that all the files are cleaned and we are now ready for some EDA and Visualization of the data. "
   ]
  },
  {
   "cell_type": "markdown",
   "metadata": {},
   "source": [
    "### Data Dictionary\n",
    "\n",
    "Now that we've fixed our data, and given it appropriate names, let's create a [data dictionary](http://library.ucmerced.edu/node/10249). \n",
    "\n",
    "A data dictionary provides a quick overview of features/variables/columns, alongside data types and descriptions. The more descriptive you can be, the more useful this document is.\n",
    "\n",
    "Example of a Fictional Data Dictionary Entry: \n",
    "\n",
    "|Feature|Type|Dataset|Description|\n",
    "|---|---|---|---|\n",
    "|**county_pop**|*integer*|2010 census|The population of the county (units in thousands, where 2.5 represents 2500 people).| \n",
    "|**per_poverty**|*float*|2010 census|The percent of the county over the age of 18 living below the 200% of official US poverty rate (units percent to two decimal places 98.10 means 98.1%)|\n",
    "\n",
    "[Here's a quick link to a short guide for formatting markdown in Jupyter notebooks](https://jupyter-notebook.readthedocs.io/en/stable/examples/Notebook/Working%20With%20Markdown%20Cells.html).\n",
    "\n",
    "Provided is the skeleton for formatting a markdown table, with columns headers that will help you create a data dictionary to quickly summarize your data, as well as some examples. **This would be a great thing to copy and paste into your custom README for this project.**\n",
    "\n",
    "*Note*: if you are unsure of what a feature is, check the source of the data! This can be found in the README."
   ]
  },
  {
   "cell_type": "markdown",
   "metadata": {},
   "source": [
    "### merged_act_final Data Dictionary\n",
    "\n",
    "|Feature|Type|Dataset|Description|Empty Cells|\n",
    "|---|---|---|---|---|\n",
    "|state|object|merged_act_final|String names of all the states for participants of the tests|0 Cells Empty|\n",
    "|participation_act_17|float|merged_act_final|Represents the participation rate for 2017 in decimals for each state. (e.g. Colorado - 0.11)|1 Cell Empty|\n",
    "|participation_act_18|float|merged_act_final|Represents the participation rate for 2018 in decimals for each state. (e.g. Colorado - 0.11)|2 Cells Empty|\n",
    "|participation_act_19|float|merged_act_final|Represents the participation rate for 2019 in decimals for each state. (e.g. Colorado - 0.11)|1 Cell Empty|\n",
    "|english_17|float|merged_act_final|Mean score of the participants in English for ACT for the year of 2017|1 Cell Empty|\n",
    "|math_act_17|float|merged_act_final|Mean score of the participants in Math for ACT for the year of 2017|1 Cell Empty|\n",
    "|reading_17|float|merged_act_final|Mean score of the participants in Reading for ACT for the year of 2017|1 Cell Empty|\n",
    "|science_17|float|merged_act_final|Mean score of the participants in Science for ACT for the year of 2017|1 Cell Empty|\n",
    "|composite_17|float|merged_act_final|Mean composite score of the participants for ACT for the year of 2017|1 Cell Empty|\n",
    "|composite_18|float|merged_act_final|Mean composite score of the participants for ACT for the year of 2018|2 Cells Empty|\n",
    "|composite_19|float|merged_act_final|Mean composite score of the participants for ACT for the year of 2019|1 Cell Empty|"
   ]
  },
  {
   "cell_type": "markdown",
   "metadata": {},
   "source": [
    "### 'merged_sat_final' Data Dictionary\n",
    "\n",
    "|Feature|Type|Dataset|Description|Empty Cells|\n",
    "|---|---|---|---|---|\n",
    "|state|object|merged_sat_final|String names of all the states for participants of the tests|0 Cells Empty|\n",
    "|participation_sat_17|float|merged_sat_final|Represents the participation rate for 2017 in decimals for each state. (e.g. Colorado - 0.11)|0 Cells Empty|\n",
    "|participation_sat_18|float|merged_sat_final|Represents the participation rate for 2018 in decimals for each state. (e.g. Colorado - 0.11)|0 Cells Empty|\n",
    "|participation_sat_19|float|merged_sat_final|Represents the participation rate for 2019 in decimals for each state. (e.g. Colorado - 0.11)|0 Cells Empty|\n",
    "|ebrw_17|float|merged_sat_final|Mean score of the participants in Evidence-Based Reading & Writing for ACT for the year of 2017|0 Cells Empty|\n",
    "|math_sat_17|float|merged_sat_final|Mean score of the participants in Math for SAT for the year of 2017|0 Cells Empty|\n",
    "|total_17|float|merged_sat_final|Mean total score of the participants for SAT for the year of 2017|0 Cells Empty|\n",
    "|ebrw_18|float|merged_sat_final|Mean score of the participants in Evidence-Based Reading & Writing for ACT for the year of 2018|0 Cells Empty|\n",
    "|math_18|float|merged_sat_final|Mean composite score of the participants for SAT for the year of 2018|0 Cells Empty|\n",
    "|total_18|float|merged_sat_final|Mean total score of the participants for SAT for the year of 2018|0 Cells Empty|\n",
    "|ebrw_19|float|merged_sat_final|Mean score of the participants in Evidence-Based Reading & Writing for SAT for the year of 2019|0 Cells Empty|\n",
    "|math_19|float|merged_sat_final|Mean composite score of the participants for SAT for the year of 2019|0 Cells Empty|\n",
    "|total_19|float|merged_sat_final|Mean total score of the participants for SAT for the year of 2019|0 Cells Empty|"
   ]
  },
  {
   "cell_type": "markdown",
   "metadata": {},
   "source": [
    "### 'merged_all_final' Data Dictionary\n",
    "\n",
    "|Feature|Type|Dataset|Description|Empty Cells|\n",
    "|---|---|---|---|---|\n",
    "|state|object|merged_sat_final|String names of all the states for participants of the tests|0 Cells Empty|\n",
    "|participation_act_17|float|merged_all_final|Represents the participation rate for 2017 in decimals for each state. (e.g. Colorado - 0.11)|1 Cell Empty|\n",
    "|participation_act_18|float|merged_all_final|Represents the participation rate for 2018 in decimals for each state. (e.g. Colorado - 0.11)|2 Cells Empty|\n",
    "|participation_act_19|float|merged_all_final|Represents the participation rate for 2019 in decimals for each state. (e.g. Colorado - 0.11)|1 Cell Empty|\n",
    "|participation_sat_17|float|merged_all_final|Represents the participation rate for 2017 in decimals for each state. (e.g. Colorado - 0.11)|2 Cells Empty|\n",
    "|participation_sat_18|float|merged_all_final|Represents the participation rate for 2018 in decimals for each state. (e.g. Colorado - 0.11)|2 Cells Empty|\n",
    "|participation_sat_19|float|merged_all_final|Represents the participation rate for 2019 in decimals for each state. (e.g. Colorado - 0.11)|2 Cells Empty|\n",
    "|english_17|float|merged_all_final|Mean score of the participants in English for ACT for the year of 2017|1 Cell Empty|\n",
    "|math_act_17|float|merged_all_final|Mean score of the participants in Math for ACT for the year of 2017|1 Cell Empty|\n",
    "|reading_17|float|merged_all_final|Mean score of the participants in Reading for ACT for the year of 2017|1 Cell Empty|\n",
    "|science_17|float|merged_all_final|Mean score of the participants in Science for ACT for the year of 2017|1 Cell Empty|\n",
    "|composite_17|float|merged_all_final|Mean composite score of the participants for ACT for the year of 2017|1 Cell Empty|\n",
    "|composite_18|float|merged_all_final|Mean composite score of the participants for ACT for the year of 2018|2 Cells Empty|\n",
    "|composite_19|float|merged_all_final|Mean composite score of the participants for ACT for the year of 2019|1 Cell Empty|\n",
    "|ebrw_17|float|merged_all_final|Mean score of the participants in Evidence-Based Reading & Writing for ACT for the year of 2017|2 Cells Empty|\n",
    "|math_sat_17|float|merged_all_final|Mean score of the participants in Math for SAT for the year of 2017|2 Cells Empty|\n",
    "|total_17|float|merged_all_final|Mean total score of the participants for SAT for the year of 2017|2 Cells Empty|\n",
    "|ebrw_18|float|merged_all_final|Mean score of the participants in Evidence-Based Reading & Writing for ACT for the year of 2018|2 Cells Empty|\n",
    "|math_18|float|merged_all_final|Mean composite score of the participants for SAT for the year of 2018|2 Cells Empty|\n",
    "|total_18|float|merged_all_final|Mean total score of the participants for SAT for the year of 2018|2 Cells Empty|\n",
    "|ebrw_19|float|merged_all_final|Mean score of the participants in Evidence-Based Reading & Writing for SAT for the year of 2019|2 Cells Empty|\n",
    "|math_19|float|merged_all_final|Mean composite score of the participants for SAT for the year of 2019|2 Cells Empty|\n",
    "|total_19|float|merged_all_final|Mean total score of the participants for SAT for the year of 2019|2 Cells Empty|\n",
    "|mandatory_17|object|merged_all_final|String categories of whether the state has mandatory testing for ACT or SAT. This list is active as of 2017 If the state does not have mandatory testing, then it is indicated as optional.|2 Cells Empty|"
   ]
  },
  {
   "cell_type": "markdown",
   "metadata": {},
   "source": [
    "## Exploratory Data Analysis\n",
    "\n",
    "Complete the following steps to explore your data. You are welcome to do more EDA than the steps outlined here as you feel necessary:\n",
    "1. Summary Statistics.\n",
    "2. Use a **dictionary comprehension** to apply the standard deviation function you create in part 1 to each numeric column in the dataframe.  **No loops**.\n",
    "    - Assign the output to variable `sd` as a dictionary where: \n",
    "        - Each column name is now a key \n",
    "        - That standard deviation of the column is the value \n",
    "        - *Example Output :* `{'ACT_Math': 120, 'ACT_Reading': 120, ...}`\n",
    "3. Investigate trends in the data.\n",
    "    - Using sorting and/or masking (along with the `.head()` method to avoid printing our entire dataframe), consider questions relevant to your problem statement. Some examples are provided below (but feel free to change these questions for your specific problem):\n",
    "        - Which states have the highest and lowest participation rates for the 2017, 2019, or 2019 SAT and ACT?\n",
    "        - Which states have the highest and lowest mean total/composite scores for the 2017, 2019, or 2019 SAT and ACT?\n",
    "        - Do any states with 100% participation on a given test have a rate change year-to-year?\n",
    "        - Do any states show have >50% participation on *both* tests each year?\n",
    "        - Which colleges have the highest median SAT and ACT scores for admittance?\n",
    "        - Which California school districts have the highest and lowest mean test scores?\n",
    "    - **You should comment on your findings at each step in a markdown cell below your code block**. Make sure you include at least one example of sorting your dataframe by a column, and one example of using boolean filtering (i.e., masking) to select a subset of the dataframe."
   ]
  },
  {
   "cell_type": "markdown",
   "metadata": {},
   "source": [
    "### Step 1: Summary Statistics"
   ]
  },
  {
   "cell_type": "code",
   "execution_count": 42,
   "metadata": {},
   "outputs": [
    {
     "data": {
      "text/html": [
       "<div>\n",
       "<style scoped>\n",
       "    .dataframe tbody tr th:only-of-type {\n",
       "        vertical-align: middle;\n",
       "    }\n",
       "\n",
       "    .dataframe tbody tr th {\n",
       "        vertical-align: top;\n",
       "    }\n",
       "\n",
       "    .dataframe thead th {\n",
       "        text-align: right;\n",
       "    }\n",
       "</style>\n",
       "<table border=\"1\" class=\"dataframe\">\n",
       "  <thead>\n",
       "    <tr style=\"text-align: right;\">\n",
       "      <th></th>\n",
       "      <th>participation_act_17</th>\n",
       "      <th>english_17</th>\n",
       "      <th>math_act_17</th>\n",
       "      <th>reading_17</th>\n",
       "      <th>science_17</th>\n",
       "      <th>composite_17</th>\n",
       "      <th>participation_act_18</th>\n",
       "      <th>composite_18</th>\n",
       "      <th>participation_act_19</th>\n",
       "      <th>composite_19</th>\n",
       "    </tr>\n",
       "  </thead>\n",
       "  <tbody>\n",
       "    <tr>\n",
       "      <th>count</th>\n",
       "      <td>53.000000</td>\n",
       "      <td>53.000000</td>\n",
       "      <td>53.000000</td>\n",
       "      <td>53.000000</td>\n",
       "      <td>53.000000</td>\n",
       "      <td>53.000000</td>\n",
       "      <td>52.000000</td>\n",
       "      <td>52.000000</td>\n",
       "      <td>53.000000</td>\n",
       "      <td>53.000000</td>\n",
       "    </tr>\n",
       "    <tr>\n",
       "      <th>mean</th>\n",
       "      <td>0.640755</td>\n",
       "      <td>20.981132</td>\n",
       "      <td>21.226415</td>\n",
       "      <td>22.054717</td>\n",
       "      <td>21.496226</td>\n",
       "      <td>21.562264</td>\n",
       "      <td>0.606731</td>\n",
       "      <td>21.544231</td>\n",
       "      <td>0.575472</td>\n",
       "      <td>21.503774</td>\n",
       "    </tr>\n",
       "    <tr>\n",
       "      <th>std</th>\n",
       "      <td>0.324878</td>\n",
       "      <td>2.353153</td>\n",
       "      <td>1.983019</td>\n",
       "      <td>2.064961</td>\n",
       "      <td>1.747962</td>\n",
       "      <td>2.019446</td>\n",
       "      <td>0.345456</td>\n",
       "      <td>2.119417</td>\n",
       "      <td>0.346186</td>\n",
       "      <td>2.189746</td>\n",
       "    </tr>\n",
       "    <tr>\n",
       "      <th>min</th>\n",
       "      <td>0.080000</td>\n",
       "      <td>16.300000</td>\n",
       "      <td>18.000000</td>\n",
       "      <td>18.100000</td>\n",
       "      <td>18.200000</td>\n",
       "      <td>17.800000</td>\n",
       "      <td>0.070000</td>\n",
       "      <td>17.700000</td>\n",
       "      <td>0.060000</td>\n",
       "      <td>17.900000</td>\n",
       "    </tr>\n",
       "    <tr>\n",
       "      <th>25%</th>\n",
       "      <td>0.310000</td>\n",
       "      <td>19.000000</td>\n",
       "      <td>19.400000</td>\n",
       "      <td>20.500000</td>\n",
       "      <td>20.000000</td>\n",
       "      <td>19.800000</td>\n",
       "      <td>0.270000</td>\n",
       "      <td>19.975000</td>\n",
       "      <td>0.240000</td>\n",
       "      <td>19.800000</td>\n",
       "    </tr>\n",
       "    <tr>\n",
       "      <th>50%</th>\n",
       "      <td>0.670000</td>\n",
       "      <td>20.700000</td>\n",
       "      <td>20.900000</td>\n",
       "      <td>21.800000</td>\n",
       "      <td>21.300000</td>\n",
       "      <td>21.400000</td>\n",
       "      <td>0.655000</td>\n",
       "      <td>21.300000</td>\n",
       "      <td>0.520000</td>\n",
       "      <td>21.100000</td>\n",
       "    </tr>\n",
       "    <tr>\n",
       "      <th>75%</th>\n",
       "      <td>1.000000</td>\n",
       "      <td>23.300000</td>\n",
       "      <td>23.100000</td>\n",
       "      <td>24.200000</td>\n",
       "      <td>23.200000</td>\n",
       "      <td>23.600000</td>\n",
       "      <td>1.000000</td>\n",
       "      <td>23.725000</td>\n",
       "      <td>1.000000</td>\n",
       "      <td>23.800000</td>\n",
       "    </tr>\n",
       "    <tr>\n",
       "      <th>max</th>\n",
       "      <td>1.000000</td>\n",
       "      <td>25.500000</td>\n",
       "      <td>25.300000</td>\n",
       "      <td>26.000000</td>\n",
       "      <td>24.900000</td>\n",
       "      <td>25.500000</td>\n",
       "      <td>1.000000</td>\n",
       "      <td>25.600000</td>\n",
       "      <td>1.000000</td>\n",
       "      <td>25.500000</td>\n",
       "    </tr>\n",
       "  </tbody>\n",
       "</table>\n",
       "</div>"
      ],
      "text/plain": [
       "       participation_act_17  english_17  math_act_17  reading_17  science_17  \\\n",
       "count             53.000000   53.000000    53.000000   53.000000   53.000000   \n",
       "mean               0.640755   20.981132    21.226415   22.054717   21.496226   \n",
       "std                0.324878    2.353153     1.983019    2.064961    1.747962   \n",
       "min                0.080000   16.300000    18.000000   18.100000   18.200000   \n",
       "25%                0.310000   19.000000    19.400000   20.500000   20.000000   \n",
       "50%                0.670000   20.700000    20.900000   21.800000   21.300000   \n",
       "75%                1.000000   23.300000    23.100000   24.200000   23.200000   \n",
       "max                1.000000   25.500000    25.300000   26.000000   24.900000   \n",
       "\n",
       "       composite_17  participation_act_18  composite_18  participation_act_19  \\\n",
       "count     53.000000             52.000000     52.000000             53.000000   \n",
       "mean      21.562264              0.606731     21.544231              0.575472   \n",
       "std        2.019446              0.345456      2.119417              0.346186   \n",
       "min       17.800000              0.070000     17.700000              0.060000   \n",
       "25%       19.800000              0.270000     19.975000              0.240000   \n",
       "50%       21.400000              0.655000     21.300000              0.520000   \n",
       "75%       23.600000              1.000000     23.725000              1.000000   \n",
       "max       25.500000              1.000000     25.600000              1.000000   \n",
       "\n",
       "       composite_19  \n",
       "count     53.000000  \n",
       "mean      21.503774  \n",
       "std        2.189746  \n",
       "min       17.900000  \n",
       "25%       19.800000  \n",
       "50%       21.100000  \n",
       "75%       23.800000  \n",
       "max       25.500000  "
      ]
     },
     "execution_count": 42,
     "metadata": {},
     "output_type": "execute_result"
    }
   ],
   "source": [
    "merged_act_final.describe()"
   ]
  },
  {
   "cell_type": "markdown",
   "metadata": {},
   "source": [
    "1. First of all, the mean and standard deviation for participation rate, and scores, for ACT and SAT, doesn't take into account any weights for the individual states, so we need to take those figures with a pinch of salt. \n",
    "    * Otherwise, we can see that the mean participation rate for ACT is on a downtrend, whereas the mean participation rate for SAT is on an uptrend for 2017 - 2019.\n",
    "    * <font color = \"red\">What do you mean by weights? I assume you mean that the participation rates aren't weighted by population in each state, but try to make that clearer in the future!</font>\n",
    "2. The scores for ACT, are fairly consistent across all the years.\n",
    "    * The mean scores for the composite scores for ACT across the years are within the range of 21.50 - 21.56. There is a slight down trend from 2017 to 2019. \n",
    "    * English had the lowest mean score for the individual sections in 2017, while Reading had the highest of 22.1.\n",
    "3. The standard deviation for participation is also fairly consistent between 2018 and 2019, 34.5% to 34.6%. 2017 however has an std of 32.5%. \n"
   ]
  },
  {
   "cell_type": "code",
   "execution_count": 43,
   "metadata": {},
   "outputs": [
    {
     "data": {
      "text/html": [
       "<div>\n",
       "<style scoped>\n",
       "    .dataframe tbody tr th:only-of-type {\n",
       "        vertical-align: middle;\n",
       "    }\n",
       "\n",
       "    .dataframe tbody tr th {\n",
       "        vertical-align: top;\n",
       "    }\n",
       "\n",
       "    .dataframe thead th {\n",
       "        text-align: right;\n",
       "    }\n",
       "</style>\n",
       "<table border=\"1\" class=\"dataframe\">\n",
       "  <thead>\n",
       "    <tr style=\"text-align: right;\">\n",
       "      <th></th>\n",
       "      <th>participation_sat_17</th>\n",
       "      <th>ebrw_17</th>\n",
       "      <th>math_sat_17</th>\n",
       "      <th>total_17</th>\n",
       "      <th>participation_sat_18</th>\n",
       "      <th>ebrw_18</th>\n",
       "      <th>math_18</th>\n",
       "      <th>total_18</th>\n",
       "      <th>participation_sat_19</th>\n",
       "      <th>ebrw_19</th>\n",
       "      <th>math_19</th>\n",
       "      <th>total_19</th>\n",
       "    </tr>\n",
       "  </thead>\n",
       "  <tbody>\n",
       "    <tr>\n",
       "      <th>count</th>\n",
       "      <td>51.000000</td>\n",
       "      <td>51.000000</td>\n",
       "      <td>51.000000</td>\n",
       "      <td>51.000000</td>\n",
       "      <td>51.000000</td>\n",
       "      <td>51.000000</td>\n",
       "      <td>51.000000</td>\n",
       "      <td>51.000000</td>\n",
       "      <td>51.000000</td>\n",
       "      <td>51.000000</td>\n",
       "      <td>51.000000</td>\n",
       "      <td>51.000000</td>\n",
       "    </tr>\n",
       "    <tr>\n",
       "      <th>mean</th>\n",
       "      <td>0.398039</td>\n",
       "      <td>569.117647</td>\n",
       "      <td>556.882353</td>\n",
       "      <td>1126.098039</td>\n",
       "      <td>0.457451</td>\n",
       "      <td>563.686275</td>\n",
       "      <td>556.235294</td>\n",
       "      <td>1120.019608</td>\n",
       "      <td>0.490588</td>\n",
       "      <td>560.803922</td>\n",
       "      <td>552.196078</td>\n",
       "      <td>1113.078431</td>\n",
       "    </tr>\n",
       "    <tr>\n",
       "      <th>std</th>\n",
       "      <td>0.352766</td>\n",
       "      <td>45.666901</td>\n",
       "      <td>47.121395</td>\n",
       "      <td>92.494812</td>\n",
       "      <td>0.373143</td>\n",
       "      <td>47.502627</td>\n",
       "      <td>47.772623</td>\n",
       "      <td>94.155083</td>\n",
       "      <td>0.387476</td>\n",
       "      <td>46.248035</td>\n",
       "      <td>51.290553</td>\n",
       "      <td>97.197910</td>\n",
       "    </tr>\n",
       "    <tr>\n",
       "      <th>min</th>\n",
       "      <td>0.020000</td>\n",
       "      <td>482.000000</td>\n",
       "      <td>468.000000</td>\n",
       "      <td>950.000000</td>\n",
       "      <td>0.020000</td>\n",
       "      <td>480.000000</td>\n",
       "      <td>480.000000</td>\n",
       "      <td>977.000000</td>\n",
       "      <td>0.020000</td>\n",
       "      <td>483.000000</td>\n",
       "      <td>460.000000</td>\n",
       "      <td>943.000000</td>\n",
       "    </tr>\n",
       "    <tr>\n",
       "      <th>25%</th>\n",
       "      <td>0.040000</td>\n",
       "      <td>533.500000</td>\n",
       "      <td>523.500000</td>\n",
       "      <td>1055.500000</td>\n",
       "      <td>0.045000</td>\n",
       "      <td>534.500000</td>\n",
       "      <td>522.500000</td>\n",
       "      <td>1057.500000</td>\n",
       "      <td>0.055000</td>\n",
       "      <td>527.500000</td>\n",
       "      <td>511.500000</td>\n",
       "      <td>1038.000000</td>\n",
       "    </tr>\n",
       "    <tr>\n",
       "      <th>50%</th>\n",
       "      <td>0.380000</td>\n",
       "      <td>559.000000</td>\n",
       "      <td>548.000000</td>\n",
       "      <td>1107.000000</td>\n",
       "      <td>0.520000</td>\n",
       "      <td>552.000000</td>\n",
       "      <td>544.000000</td>\n",
       "      <td>1098.000000</td>\n",
       "      <td>0.540000</td>\n",
       "      <td>550.000000</td>\n",
       "      <td>546.000000</td>\n",
       "      <td>1097.000000</td>\n",
       "    </tr>\n",
       "    <tr>\n",
       "      <th>75%</th>\n",
       "      <td>0.660000</td>\n",
       "      <td>613.000000</td>\n",
       "      <td>599.000000</td>\n",
       "      <td>1212.000000</td>\n",
       "      <td>0.775000</td>\n",
       "      <td>610.500000</td>\n",
       "      <td>593.500000</td>\n",
       "      <td>1204.000000</td>\n",
       "      <td>0.820000</td>\n",
       "      <td>612.000000</td>\n",
       "      <td>599.000000</td>\n",
       "      <td>1210.000000</td>\n",
       "    </tr>\n",
       "    <tr>\n",
       "      <th>max</th>\n",
       "      <td>1.000000</td>\n",
       "      <td>644.000000</td>\n",
       "      <td>651.000000</td>\n",
       "      <td>1295.000000</td>\n",
       "      <td>1.000000</td>\n",
       "      <td>643.000000</td>\n",
       "      <td>655.000000</td>\n",
       "      <td>1298.000000</td>\n",
       "      <td>1.000000</td>\n",
       "      <td>636.000000</td>\n",
       "      <td>648.000000</td>\n",
       "      <td>1284.000000</td>\n",
       "    </tr>\n",
       "  </tbody>\n",
       "</table>\n",
       "</div>"
      ],
      "text/plain": [
       "       participation_sat_17     ebrw_17  math_sat_17     total_17  \\\n",
       "count             51.000000   51.000000    51.000000    51.000000   \n",
       "mean               0.398039  569.117647   556.882353  1126.098039   \n",
       "std                0.352766   45.666901    47.121395    92.494812   \n",
       "min                0.020000  482.000000   468.000000   950.000000   \n",
       "25%                0.040000  533.500000   523.500000  1055.500000   \n",
       "50%                0.380000  559.000000   548.000000  1107.000000   \n",
       "75%                0.660000  613.000000   599.000000  1212.000000   \n",
       "max                1.000000  644.000000   651.000000  1295.000000   \n",
       "\n",
       "       participation_sat_18     ebrw_18     math_18     total_18  \\\n",
       "count             51.000000   51.000000   51.000000    51.000000   \n",
       "mean               0.457451  563.686275  556.235294  1120.019608   \n",
       "std                0.373143   47.502627   47.772623    94.155083   \n",
       "min                0.020000  480.000000  480.000000   977.000000   \n",
       "25%                0.045000  534.500000  522.500000  1057.500000   \n",
       "50%                0.520000  552.000000  544.000000  1098.000000   \n",
       "75%                0.775000  610.500000  593.500000  1204.000000   \n",
       "max                1.000000  643.000000  655.000000  1298.000000   \n",
       "\n",
       "       participation_sat_19     ebrw_19     math_19     total_19  \n",
       "count             51.000000   51.000000   51.000000    51.000000  \n",
       "mean               0.490588  560.803922  552.196078  1113.078431  \n",
       "std                0.387476   46.248035   51.290553    97.197910  \n",
       "min                0.020000  483.000000  460.000000   943.000000  \n",
       "25%                0.055000  527.500000  511.500000  1038.000000  \n",
       "50%                0.540000  550.000000  546.000000  1097.000000  \n",
       "75%                0.820000  612.000000  599.000000  1210.000000  \n",
       "max                1.000000  636.000000  648.000000  1284.000000  "
      ]
     },
     "execution_count": 43,
     "metadata": {},
     "output_type": "execute_result"
    }
   ],
   "source": [
    "merged_sat_final.describe()"
   ]
  },
  {
   "cell_type": "markdown",
   "metadata": {},
   "source": [
    "1. As mentioned before, we need to take the mean and standard deviation figures with a pinch of salt. \n",
    "    * The SAT participation rates show an uptrend from 2017 to 2019, as is expected from the change made in 2016.\n",
    "2. The mean total score also seems to be on a downtrend across the three years.\n",
    "3. Unfortunately the standard deviation seems to be increasing as the participation rate goes up. \n",
    "4. We will explore these further in the EDA below."
   ]
  },
  {
   "cell_type": "markdown",
   "metadata": {},
   "source": [
    "### Step 2: Dictionary comprehension to apply standard deviation."
   ]
  },
  {
   "cell_type": "markdown",
   "metadata": {},
   "source": [
    "<font color = \"red\">You should try to modify your try except statement in your standard deviation function so that you can write a cleaner dictionary comprehension.</font>"
   ]
  },
  {
   "cell_type": "code",
   "execution_count": 44,
   "metadata": {},
   "outputs": [],
   "source": [
    "sd_act = {column_name: stand_dev(merged_act_final.loc[merged_act_final[column_name]>0, column_name].tolist()) \n",
    "      for column_name in merged_act_final \n",
    "      if column_name != 'state'\n",
    "         }\n",
    "\n",
    "sd_sat = {column_name: stand_dev(merged_sat_final.loc[merged_sat_final[column_name]>0, column_name].tolist()) \n",
    "      for column_name in merged_sat_final \n",
    "      if column_name != 'state'\n",
    "         }\n",
    "# the reason why the 'state' column is omitted from the dictionary is because the stand_dev() function that we created \n",
    "# peviously only takes interger or float data type lists and passing a string list would cause an error. \n",
    "# Additionally a standard deviation of string values also does not make sense."
   ]
  },
  {
   "cell_type": "code",
   "execution_count": 45,
   "metadata": {},
   "outputs": [
    {
     "name": "stdout",
     "output_type": "stream",
     "text": [
      "{'participation_act_17': 0.321798302331461, 'english_17': 2.330847817553477, 'math_act_17': 1.964222535080822, 'reading_17': 2.0453874512083763, 'science_17': 1.7313929678480162, 'composite_17': 2.000304355624399, 'participation_act_18': 0.3421185194650338, 'composite_18': 2.098938693495657, 'participation_act_19': 0.34290416746800806, 'composite_19': 2.168989179766408}\n",
      "{'participation_sat_17': 0.3492907076664507, 'ebrw_17': 45.21697020437866, 'math_sat_17': 46.65713364485503, 'total_17': 91.58351056778743, 'participation_sat_18': 0.3694661922353942, 'ebrw_18': 47.03460978357609, 'math_18': 47.30194550378352, 'total_18': 93.22742384464433, 'participation_sat_19': 0.3836584048685726, 'ebrw_19': 45.792378682545134, 'math_19': 50.78521461840036, 'total_19': 96.24027185617864}\n"
     ]
    }
   ],
   "source": [
    "print(sd_act)\n",
    "print(sd_sat)"
   ]
  },
  {
   "cell_type": "markdown",
   "metadata": {},
   "source": [
    "## Step 3: Investigate trends in the data."
   ]
  },
  {
   "cell_type": "markdown",
   "metadata": {
    "collapsed": true
   },
   "source": [
    "> ### Which States have the highest and lowest participation rates for 2017-2019 for SAT and ACT"
   ]
  },
  {
   "cell_type": "markdown",
   "metadata": {},
   "source": [
    "### ACT"
   ]
  },
  {
   "cell_type": "code",
   "execution_count": 46,
   "metadata": {},
   "outputs": [
    {
     "data": {
      "text/html": [
       "<div>\n",
       "<style scoped>\n",
       "    .dataframe tbody tr th:only-of-type {\n",
       "        vertical-align: middle;\n",
       "    }\n",
       "\n",
       "    .dataframe tbody tr th {\n",
       "        vertical-align: top;\n",
       "    }\n",
       "\n",
       "    .dataframe thead th {\n",
       "        text-align: right;\n",
       "    }\n",
       "</style>\n",
       "<table border=\"1\" class=\"dataframe\">\n",
       "  <thead>\n",
       "    <tr style=\"text-align: right;\">\n",
       "      <th></th>\n",
       "      <th>state</th>\n",
       "      <th>participation_act_17</th>\n",
       "      <th>english_17</th>\n",
       "      <th>math_act_17</th>\n",
       "      <th>reading_17</th>\n",
       "      <th>science_17</th>\n",
       "      <th>composite_17</th>\n",
       "      <th>participation_act_18</th>\n",
       "      <th>composite_18</th>\n",
       "      <th>participation_act_19</th>\n",
       "      <th>composite_19</th>\n",
       "    </tr>\n",
       "  </thead>\n",
       "  <tbody>\n",
       "    <tr>\n",
       "      <th>26</th>\n",
       "      <td>Mississippi</td>\n",
       "      <td>1.00</td>\n",
       "      <td>18.2</td>\n",
       "      <td>18.1</td>\n",
       "      <td>18.8</td>\n",
       "      <td>18.8</td>\n",
       "      <td>18.6</td>\n",
       "      <td>1.00</td>\n",
       "      <td>18.6</td>\n",
       "      <td>1.00</td>\n",
       "      <td>18.4</td>\n",
       "    </tr>\n",
       "    <tr>\n",
       "      <th>18</th>\n",
       "      <td>Kentucky</td>\n",
       "      <td>1.00</td>\n",
       "      <td>19.6</td>\n",
       "      <td>19.4</td>\n",
       "      <td>20.5</td>\n",
       "      <td>20.1</td>\n",
       "      <td>20.0</td>\n",
       "      <td>1.00</td>\n",
       "      <td>20.2</td>\n",
       "      <td>1.00</td>\n",
       "      <td>19.8</td>\n",
       "    </tr>\n",
       "    <tr>\n",
       "      <th>51</th>\n",
       "      <td>Wisconsin</td>\n",
       "      <td>1.00</td>\n",
       "      <td>19.7</td>\n",
       "      <td>20.4</td>\n",
       "      <td>20.6</td>\n",
       "      <td>20.9</td>\n",
       "      <td>20.5</td>\n",
       "      <td>1.00</td>\n",
       "      <td>20.5</td>\n",
       "      <td>1.00</td>\n",
       "      <td>20.3</td>\n",
       "    </tr>\n",
       "    <tr>\n",
       "      <th>46</th>\n",
       "      <td>Utah</td>\n",
       "      <td>1.00</td>\n",
       "      <td>19.5</td>\n",
       "      <td>19.9</td>\n",
       "      <td>20.8</td>\n",
       "      <td>20.6</td>\n",
       "      <td>20.3</td>\n",
       "      <td>1.00</td>\n",
       "      <td>20.4</td>\n",
       "      <td>1.00</td>\n",
       "      <td>20.3</td>\n",
       "    </tr>\n",
       "    <tr>\n",
       "      <th>44</th>\n",
       "      <td>Tennessee</td>\n",
       "      <td>1.00</td>\n",
       "      <td>19.5</td>\n",
       "      <td>19.2</td>\n",
       "      <td>20.1</td>\n",
       "      <td>19.9</td>\n",
       "      <td>19.8</td>\n",
       "      <td>1.00</td>\n",
       "      <td>19.6</td>\n",
       "      <td>1.00</td>\n",
       "      <td>19.4</td>\n",
       "    </tr>\n",
       "    <tr>\n",
       "      <th>42</th>\n",
       "      <td>South Carolina</td>\n",
       "      <td>1.00</td>\n",
       "      <td>17.5</td>\n",
       "      <td>18.6</td>\n",
       "      <td>19.1</td>\n",
       "      <td>18.9</td>\n",
       "      <td>18.7</td>\n",
       "      <td>1.00</td>\n",
       "      <td>18.3</td>\n",
       "      <td>0.78</td>\n",
       "      <td>18.8</td>\n",
       "    </tr>\n",
       "    <tr>\n",
       "      <th>38</th>\n",
       "      <td>Oklahoma</td>\n",
       "      <td>1.00</td>\n",
       "      <td>18.5</td>\n",
       "      <td>18.8</td>\n",
       "      <td>20.1</td>\n",
       "      <td>19.6</td>\n",
       "      <td>19.4</td>\n",
       "      <td>1.00</td>\n",
       "      <td>19.3</td>\n",
       "      <td>1.00</td>\n",
       "      <td>18.9</td>\n",
       "    </tr>\n",
       "    <tr>\n",
       "      <th>35</th>\n",
       "      <td>North Carolina</td>\n",
       "      <td>1.00</td>\n",
       "      <td>17.8</td>\n",
       "      <td>19.3</td>\n",
       "      <td>19.6</td>\n",
       "      <td>19.3</td>\n",
       "      <td>19.1</td>\n",
       "      <td>1.00</td>\n",
       "      <td>19.1</td>\n",
       "      <td>1.00</td>\n",
       "      <td>19.0</td>\n",
       "    </tr>\n",
       "    <tr>\n",
       "      <th>30</th>\n",
       "      <td>Nevada</td>\n",
       "      <td>1.00</td>\n",
       "      <td>16.3</td>\n",
       "      <td>18.0</td>\n",
       "      <td>18.1</td>\n",
       "      <td>18.2</td>\n",
       "      <td>17.8</td>\n",
       "      <td>1.00</td>\n",
       "      <td>17.7</td>\n",
       "      <td>1.00</td>\n",
       "      <td>17.9</td>\n",
       "    </tr>\n",
       "    <tr>\n",
       "      <th>28</th>\n",
       "      <td>Montana</td>\n",
       "      <td>1.00</td>\n",
       "      <td>19.0</td>\n",
       "      <td>20.2</td>\n",
       "      <td>21.0</td>\n",
       "      <td>20.5</td>\n",
       "      <td>20.3</td>\n",
       "      <td>1.00</td>\n",
       "      <td>20.0</td>\n",
       "      <td>1.00</td>\n",
       "      <td>19.8</td>\n",
       "    </tr>\n",
       "    <tr>\n",
       "      <th>27</th>\n",
       "      <td>Missouri</td>\n",
       "      <td>1.00</td>\n",
       "      <td>19.8</td>\n",
       "      <td>19.9</td>\n",
       "      <td>20.8</td>\n",
       "      <td>20.5</td>\n",
       "      <td>20.4</td>\n",
       "      <td>1.00</td>\n",
       "      <td>20.0</td>\n",
       "      <td>0.82</td>\n",
       "      <td>20.8</td>\n",
       "    </tr>\n",
       "    <tr>\n",
       "      <th>1</th>\n",
       "      <td>Alabama</td>\n",
       "      <td>1.00</td>\n",
       "      <td>18.9</td>\n",
       "      <td>18.4</td>\n",
       "      <td>19.7</td>\n",
       "      <td>19.4</td>\n",
       "      <td>19.2</td>\n",
       "      <td>1.00</td>\n",
       "      <td>19.1</td>\n",
       "      <td>1.00</td>\n",
       "      <td>18.9</td>\n",
       "    </tr>\n",
       "    <tr>\n",
       "      <th>25</th>\n",
       "      <td>Minnesota</td>\n",
       "      <td>1.00</td>\n",
       "      <td>20.4</td>\n",
       "      <td>21.5</td>\n",
       "      <td>21.8</td>\n",
       "      <td>21.6</td>\n",
       "      <td>21.5</td>\n",
       "      <td>0.99</td>\n",
       "      <td>21.3</td>\n",
       "      <td>0.95</td>\n",
       "      <td>21.4</td>\n",
       "    </tr>\n",
       "    <tr>\n",
       "      <th>19</th>\n",
       "      <td>Louisiana</td>\n",
       "      <td>1.00</td>\n",
       "      <td>19.4</td>\n",
       "      <td>18.8</td>\n",
       "      <td>19.8</td>\n",
       "      <td>19.6</td>\n",
       "      <td>19.5</td>\n",
       "      <td>1.00</td>\n",
       "      <td>19.2</td>\n",
       "      <td>1.00</td>\n",
       "      <td>18.8</td>\n",
       "    </tr>\n",
       "    <tr>\n",
       "      <th>52</th>\n",
       "      <td>Wyoming</td>\n",
       "      <td>1.00</td>\n",
       "      <td>19.4</td>\n",
       "      <td>19.8</td>\n",
       "      <td>20.8</td>\n",
       "      <td>20.6</td>\n",
       "      <td>20.2</td>\n",
       "      <td>1.00</td>\n",
       "      <td>20.0</td>\n",
       "      <td>1.00</td>\n",
       "      <td>19.8</td>\n",
       "    </tr>\n",
       "    <tr>\n",
       "      <th>6</th>\n",
       "      <td>Colorado</td>\n",
       "      <td>1.00</td>\n",
       "      <td>20.1</td>\n",
       "      <td>20.3</td>\n",
       "      <td>21.2</td>\n",
       "      <td>20.9</td>\n",
       "      <td>20.8</td>\n",
       "      <td>0.30</td>\n",
       "      <td>23.9</td>\n",
       "      <td>0.27</td>\n",
       "      <td>23.8</td>\n",
       "    </tr>\n",
       "    <tr>\n",
       "      <th>4</th>\n",
       "      <td>Arkansas</td>\n",
       "      <td>1.00</td>\n",
       "      <td>18.9</td>\n",
       "      <td>19.0</td>\n",
       "      <td>19.7</td>\n",
       "      <td>19.5</td>\n",
       "      <td>19.4</td>\n",
       "      <td>1.00</td>\n",
       "      <td>19.4</td>\n",
       "      <td>1.00</td>\n",
       "      <td>19.3</td>\n",
       "    </tr>\n",
       "    <tr>\n",
       "      <th>36</th>\n",
       "      <td>North Dakota</td>\n",
       "      <td>0.98</td>\n",
       "      <td>19.0</td>\n",
       "      <td>20.4</td>\n",
       "      <td>20.5</td>\n",
       "      <td>20.6</td>\n",
       "      <td>20.3</td>\n",
       "      <td>0.98</td>\n",
       "      <td>20.3</td>\n",
       "      <td>0.96</td>\n",
       "      <td>19.9</td>\n",
       "    </tr>\n",
       "    <tr>\n",
       "      <th>14</th>\n",
       "      <td>Illinois</td>\n",
       "      <td>0.93</td>\n",
       "      <td>21.0</td>\n",
       "      <td>21.2</td>\n",
       "      <td>21.6</td>\n",
       "      <td>21.3</td>\n",
       "      <td>21.4</td>\n",
       "      <td>0.43</td>\n",
       "      <td>23.9</td>\n",
       "      <td>0.35</td>\n",
       "      <td>24.3</td>\n",
       "    </tr>\n",
       "    <tr>\n",
       "      <th>12</th>\n",
       "      <td>Hawaii</td>\n",
       "      <td>0.90</td>\n",
       "      <td>17.8</td>\n",
       "      <td>19.2</td>\n",
       "      <td>19.2</td>\n",
       "      <td>19.3</td>\n",
       "      <td>19.0</td>\n",
       "      <td>0.89</td>\n",
       "      <td>18.9</td>\n",
       "      <td>0.80</td>\n",
       "      <td>19.0</td>\n",
       "    </tr>\n",
       "  </tbody>\n",
       "</table>\n",
       "</div>"
      ],
      "text/plain": [
       "             state  participation_act_17  english_17  math_act_17  reading_17  \\\n",
       "26     Mississippi                  1.00        18.2         18.1        18.8   \n",
       "18        Kentucky                  1.00        19.6         19.4        20.5   \n",
       "51       Wisconsin                  1.00        19.7         20.4        20.6   \n",
       "46            Utah                  1.00        19.5         19.9        20.8   \n",
       "44       Tennessee                  1.00        19.5         19.2        20.1   \n",
       "42  South Carolina                  1.00        17.5         18.6        19.1   \n",
       "38        Oklahoma                  1.00        18.5         18.8        20.1   \n",
       "35  North Carolina                  1.00        17.8         19.3        19.6   \n",
       "30          Nevada                  1.00        16.3         18.0        18.1   \n",
       "28         Montana                  1.00        19.0         20.2        21.0   \n",
       "27        Missouri                  1.00        19.8         19.9        20.8   \n",
       "1          Alabama                  1.00        18.9         18.4        19.7   \n",
       "25       Minnesota                  1.00        20.4         21.5        21.8   \n",
       "19       Louisiana                  1.00        19.4         18.8        19.8   \n",
       "52         Wyoming                  1.00        19.4         19.8        20.8   \n",
       "6         Colorado                  1.00        20.1         20.3        21.2   \n",
       "4         Arkansas                  1.00        18.9         19.0        19.7   \n",
       "36    North Dakota                  0.98        19.0         20.4        20.5   \n",
       "14        Illinois                  0.93        21.0         21.2        21.6   \n",
       "12          Hawaii                  0.90        17.8         19.2        19.2   \n",
       "\n",
       "    science_17  composite_17  participation_act_18  composite_18  \\\n",
       "26        18.8          18.6                  1.00          18.6   \n",
       "18        20.1          20.0                  1.00          20.2   \n",
       "51        20.9          20.5                  1.00          20.5   \n",
       "46        20.6          20.3                  1.00          20.4   \n",
       "44        19.9          19.8                  1.00          19.6   \n",
       "42        18.9          18.7                  1.00          18.3   \n",
       "38        19.6          19.4                  1.00          19.3   \n",
       "35        19.3          19.1                  1.00          19.1   \n",
       "30        18.2          17.8                  1.00          17.7   \n",
       "28        20.5          20.3                  1.00          20.0   \n",
       "27        20.5          20.4                  1.00          20.0   \n",
       "1         19.4          19.2                  1.00          19.1   \n",
       "25        21.6          21.5                  0.99          21.3   \n",
       "19        19.6          19.5                  1.00          19.2   \n",
       "52        20.6          20.2                  1.00          20.0   \n",
       "6         20.9          20.8                  0.30          23.9   \n",
       "4         19.5          19.4                  1.00          19.4   \n",
       "36        20.6          20.3                  0.98          20.3   \n",
       "14        21.3          21.4                  0.43          23.9   \n",
       "12        19.3          19.0                  0.89          18.9   \n",
       "\n",
       "    participation_act_19  composite_19  \n",
       "26                  1.00          18.4  \n",
       "18                  1.00          19.8  \n",
       "51                  1.00          20.3  \n",
       "46                  1.00          20.3  \n",
       "44                  1.00          19.4  \n",
       "42                  0.78          18.8  \n",
       "38                  1.00          18.9  \n",
       "35                  1.00          19.0  \n",
       "30                  1.00          17.9  \n",
       "28                  1.00          19.8  \n",
       "27                  0.82          20.8  \n",
       "1                   1.00          18.9  \n",
       "25                  0.95          21.4  \n",
       "19                  1.00          18.8  \n",
       "52                  1.00          19.8  \n",
       "6                   0.27          23.8  \n",
       "4                   1.00          19.3  \n",
       "36                  0.96          19.9  \n",
       "14                  0.35          24.3  \n",
       "12                  0.80          19.0  "
      ]
     },
     "execution_count": 46,
     "metadata": {},
     "output_type": "execute_result"
    }
   ],
   "source": [
    "merged_act_final.sort_values('participation_act_17', ascending=False).head(20)"
   ]
  },
  {
   "cell_type": "markdown",
   "metadata": {},
   "source": [
    "After checking through the data above, we realized that there were a lot of states with the max participation rate. Hence to avoid printing out the entire dataframe, we took an approach to create a dictionary."
   ]
  },
  {
   "cell_type": "markdown",
   "metadata": {},
   "source": [
    "<font color = \"red\">This is a rather verbose way of doing things, but points for effort! For future projects you can just put in a markdown cell instead of printing.</font>"
   ]
  },
  {
   "cell_type": "code",
   "execution_count": 47,
   "metadata": {},
   "outputs": [
    {
     "name": "stdout",
     "output_type": "stream",
     "text": [
      "For ACT:\n",
      "In 2017, the states Wisconsin, Mississippi, Louisiana, Alabama, Minnesota, Montana, Arkansas, Nevada, North Carolina, Missouri, South Carolina, Utah, Kentucky, Tennessee, Wyoming, Colorado, Oklahoma had the highest participation rate of 100.0%\n",
      "For ACT:\n",
      "In 2018, the states Wisconsin, Mississippi, Louisiana, Alabama, Montana, Nebraska, Arkansas, Nevada, North Carolina, Missouri, Ohio, South Carolina, Kentucky, Tennessee, Utah, Wyoming, Oklahoma had the highest participation rate of 100.0%\n",
      "For ACT:\n",
      "In 2019, the states Wisconsin, Mississippi, Louisiana, Alabama, Montana, Nebraska, Arkansas, Nevada, North Carolina, Ohio, Utah, Kentucky, Tennessee, Wyoming, Oklahoma had the highest participation rate of 100.0%\n",
      "For ACT:\n",
      "In 2017, the states Maine had the lowest participation rate of 8.0%\n",
      "For ACT:\n",
      "In 2018, the states Maine had the lowest participation rate of 7.0%\n",
      "For ACT:\n",
      "In 2019, the states Maine had the lowest participation rate of 6.0%\n"
     ]
    }
   ],
   "source": [
    "# creating a dictionary for a list of all the states that had the maximum participation rate for each year.\n",
    "max_participation_act = {\n",
    "    column_name:\n",
    "    set(merged_act_final.loc[merged_act_final[column_name] == merged_act_final[column_name].max(), 'state'].tolist())\n",
    "    for column_name in ['participation_act_17','participation_act_18','participation_act_19']\n",
    "}\n",
    "min_participation_act = {\n",
    "    column_name:\n",
    "    set(merged_act_final.loc[merged_act_final[column_name] == merged_act_final[column_name].min(), 'state'].tolist())\n",
    "    for column_name in ['participation_act_17','participation_act_18','participation_act_19']\n",
    "}\n",
    "\n",
    "# Maximum Participation Rates\n",
    "\n",
    "print(f'For ACT:\\n'\n",
    "    f'In 2017, the states {\", \".join(max_participation_act[\"participation_act_17\"])} '\n",
    "    f'had the highest participation rate of {round(merged_act_final[\"participation_act_17\"].max()*100,1)}%')\n",
    "print(f'For ACT:\\n'\n",
    "    f'In 2018, the states {\", \".join(max_participation_act[\"participation_act_18\"])} '\n",
    "    f'had the highest participation rate of {round(merged_act_final[\"participation_act_18\"].max()*100,1)}%')\n",
    "print(f'For ACT:\\n'\n",
    "    f'In 2019, the states {\", \".join(max_participation_act[\"participation_act_19\"])} '\n",
    "    f'had the highest participation rate of {round(merged_act_final[\"participation_act_19\"].max()*100,1)}%')\n",
    "\n",
    "# Minimum Participation Rates\n",
    "\n",
    "print(f'For ACT:\\n'\n",
    "    f'In 2017, the states {\", \".join(min_participation_act[\"participation_act_17\"])} '\n",
    "    f'had the lowest participation rate of {round(merged_act_final[\"participation_act_17\"].min()*100,1)}%')\n",
    "print(f'For ACT:\\n'\n",
    "    f'In 2018, the states {\", \".join(min_participation_act[\"participation_act_18\"])} '\n",
    "    f'had the lowest participation rate of {round(merged_act_final[\"participation_act_18\"].min()*100,1)}%')\n",
    "print(f'For ACT:\\n'\n",
    "    f'In 2019, the states {\", \".join(min_participation_act[\"participation_act_19\"])} '\n",
    "    f'had the lowest participation rate of {round(merged_act_final[\"participation_act_19\"].min()*100,1)}%')\n",
    "\n"
   ]
  },
  {
   "cell_type": "markdown",
   "metadata": {},
   "source": [
    "### SAT"
   ]
  },
  {
   "cell_type": "code",
   "execution_count": 48,
   "metadata": {},
   "outputs": [
    {
     "name": "stdout",
     "output_type": "stream",
     "text": [
      "For SAT:\n",
      "In 2017, the states Michigan, Delaware, Connecticut, District of Columbia had the highest participation rate of 100.0%\n",
      "For SAT:\n",
      "In 2018, the states Connecticut, Michigan, Delaware, Colorado, Idaho had the highest participation rate of 100.0%\n",
      "For SAT:\n",
      "In 2019, the states Connecticut, Illinois, Michigan, Delaware, Florida, Rhode Island, Colorado, Idaho had the highest participation rate of 100.0%\n",
      "For SAT:\n",
      "In 2017, the states Iowa, North Dakota, Mississippi had the lowest participation rate of 2.0%\n",
      "For SAT:\n",
      "In 2018, the states North Dakota had the lowest participation rate of 2.0%\n",
      "For SAT:\n",
      "In 2019, the states North Dakota had the lowest participation rate of 2.0%\n"
     ]
    }
   ],
   "source": [
    "# creating a dictionary for a list of all the states that had the maximum participation rate for each year.\n",
    "max_participation_sat = {\n",
    "    column_name:\n",
    "    set(merged_sat_final.loc[merged_sat_final[column_name] == merged_sat_final[column_name].max(), 'state'].tolist())\n",
    "    for column_name in ['participation_sat_17','participation_sat_18','participation_sat_19']\n",
    "}\n",
    "min_participation_sat = {\n",
    "    column_name:\n",
    "    set(merged_sat_final.loc[merged_sat_final[column_name] == merged_sat_final[column_name].min(), 'state'].tolist())\n",
    "    for column_name in ['participation_sat_17','participation_sat_18','participation_sat_19']\n",
    "}\n",
    "\n",
    "# Maximum Participation Rates\n",
    "\n",
    "print(f'For SAT:\\n'\n",
    "    f'In 2017, the states {\", \".join(max_participation_sat[\"participation_sat_17\"])} '\n",
    "    f'had the highest participation rate of {round(merged_sat_final[\"participation_sat_17\"].max()*100,1)}%')\n",
    "print(f'For SAT:\\n'\n",
    "    f'In 2018, the states {\", \".join(max_participation_sat[\"participation_sat_18\"])} '\n",
    "    f'had the highest participation rate of {round(merged_sat_final[\"participation_sat_18\"].max()*100,1)}%')\n",
    "print(f'For SAT:\\n'\n",
    "    f'In 2019, the states {\", \".join(max_participation_sat[\"participation_sat_19\"])} '\n",
    "    f'had the highest participation rate of {round(merged_sat_final[\"participation_sat_19\"].max()*100,1)}%')\n",
    "\n",
    "# Minimum Participation Rates\n",
    "\n",
    "print(f'For SAT:\\n'\n",
    "    f'In 2017, the states {\", \".join(min_participation_sat[\"participation_sat_17\"])} '\n",
    "    f'had the lowest participation rate of {round(merged_sat_final[\"participation_sat_17\"].min()*100,1)}%')\n",
    "print(f'For SAT:\\n'\n",
    "    f'In 2018, the states {\", \".join(min_participation_sat[\"participation_sat_18\"])} '\n",
    "    f'had the lowest participation rate of {round(merged_sat_final[\"participation_sat_18\"].min()*100,1)}%')\n",
    "print(f'For SAT:\\n'\n",
    "    f'In 2019, the states {\", \".join(min_participation_sat[\"participation_sat_19\"])} '\n",
    "    f'had the lowest participation rate of {round(merged_sat_final[\"participation_sat_19\"].min()*100,1)}%')\n"
   ]
  },
  {
   "cell_type": "markdown",
   "metadata": {},
   "source": [
    "> ### Which states have the highest and lowest mean total/composite scores for the 2017, 2019, or 2019 SAT and ACT?"
   ]
  },
  {
   "cell_type": "markdown",
   "metadata": {},
   "source": [
    "# ACT"
   ]
  },
  {
   "cell_type": "markdown",
   "metadata": {},
   "source": [
    "<font color = \"red\">I'm actually a little bit confused by what you were trying to accomplish using the table below. You could have actually just used sort and head like you did for participation rates. If you want to only display some columns you can do it using code like below:<font>"
   ]
  },
  {
   "cell_type": "code",
   "execution_count": 91,
   "metadata": {},
   "outputs": [
    {
     "data": {
      "text/html": [
       "<div>\n",
       "<style scoped>\n",
       "    .dataframe tbody tr th:only-of-type {\n",
       "        vertical-align: middle;\n",
       "    }\n",
       "\n",
       "    .dataframe tbody tr th {\n",
       "        vertical-align: top;\n",
       "    }\n",
       "\n",
       "    .dataframe thead th {\n",
       "        text-align: right;\n",
       "    }\n",
       "</style>\n",
       "<table border=\"1\" class=\"dataframe\">\n",
       "  <thead>\n",
       "    <tr style=\"text-align: right;\">\n",
       "      <th></th>\n",
       "      <th>state</th>\n",
       "      <th>composite_17</th>\n",
       "      <th>composite_18</th>\n",
       "      <th>composite_19</th>\n",
       "    </tr>\n",
       "  </thead>\n",
       "  <tbody>\n",
       "    <tr>\n",
       "      <th>30</th>\n",
       "      <td>Nevada</td>\n",
       "      <td>17.8</td>\n",
       "      <td>17.7</td>\n",
       "      <td>17.9</td>\n",
       "    </tr>\n",
       "    <tr>\n",
       "      <th>26</th>\n",
       "      <td>Mississippi</td>\n",
       "      <td>18.6</td>\n",
       "      <td>18.6</td>\n",
       "      <td>18.4</td>\n",
       "    </tr>\n",
       "    <tr>\n",
       "      <th>42</th>\n",
       "      <td>South Carolina</td>\n",
       "      <td>18.7</td>\n",
       "      <td>18.3</td>\n",
       "      <td>18.8</td>\n",
       "    </tr>\n",
       "    <tr>\n",
       "      <th>12</th>\n",
       "      <td>Hawaii</td>\n",
       "      <td>19.0</td>\n",
       "      <td>18.9</td>\n",
       "      <td>19.0</td>\n",
       "    </tr>\n",
       "    <tr>\n",
       "      <th>35</th>\n",
       "      <td>North Carolina</td>\n",
       "      <td>19.1</td>\n",
       "      <td>19.1</td>\n",
       "      <td>19.0</td>\n",
       "    </tr>\n",
       "  </tbody>\n",
       "</table>\n",
       "</div>"
      ],
      "text/plain": [
       "             state  composite_17  composite_18  composite_19\n",
       "30          Nevada          17.8          17.7          17.9\n",
       "26     Mississippi          18.6          18.6          18.4\n",
       "42  South Carolina          18.7          18.3          18.8\n",
       "12          Hawaii          19.0          18.9          19.0\n",
       "35  North Carolina          19.1          19.1          19.0"
      ]
     },
     "execution_count": 91,
     "metadata": {},
     "output_type": "execute_result"
    }
   ],
   "source": [
    "# Suggested answer\n",
    "columns_to_filter = [\"state\", \"composite_17\", \"composite_18\", \"composite_19\"]\n",
    "merged_act_final[columns_to_filter].sort_values(\"composite_17\").head()"
   ]
  },
  {
   "cell_type": "code",
   "execution_count": 49,
   "metadata": {},
   "outputs": [
    {
     "data": {
      "text/html": [
       "<div>\n",
       "<style scoped>\n",
       "    .dataframe tbody tr th:only-of-type {\n",
       "        vertical-align: middle;\n",
       "    }\n",
       "\n",
       "    .dataframe tbody tr th {\n",
       "        vertical-align: top;\n",
       "    }\n",
       "\n",
       "    .dataframe thead th {\n",
       "        text-align: right;\n",
       "    }\n",
       "</style>\n",
       "<table border=\"1\" class=\"dataframe\">\n",
       "  <thead>\n",
       "    <tr style=\"text-align: right;\">\n",
       "      <th></th>\n",
       "      <th>state</th>\n",
       "      <th>composite_17</th>\n",
       "      <th>composite_18</th>\n",
       "      <th>composite_19</th>\n",
       "    </tr>\n",
       "  </thead>\n",
       "  <tbody>\n",
       "    <tr>\n",
       "      <th>7</th>\n",
       "      <td>Connecticut</td>\n",
       "      <td>25.2</td>\n",
       "      <td>25.6</td>\n",
       "      <td>25.5</td>\n",
       "    </tr>\n",
       "    <tr>\n",
       "      <th>23</th>\n",
       "      <td>Massachusetts</td>\n",
       "      <td>25.4</td>\n",
       "      <td>25.5</td>\n",
       "      <td>25.5</td>\n",
       "    </tr>\n",
       "    <tr>\n",
       "      <th>30</th>\n",
       "      <td>Nevada</td>\n",
       "      <td>17.8</td>\n",
       "      <td>17.7</td>\n",
       "      <td>17.9</td>\n",
       "    </tr>\n",
       "    <tr>\n",
       "      <th>31</th>\n",
       "      <td>New Hampshire</td>\n",
       "      <td>25.5</td>\n",
       "      <td>25.1</td>\n",
       "      <td>25.0</td>\n",
       "    </tr>\n",
       "  </tbody>\n",
       "</table>\n",
       "</div>"
      ],
      "text/plain": [
       "            state  composite_17  composite_18  composite_19\n",
       "7     Connecticut          25.2          25.6          25.5\n",
       "23  Massachusetts          25.4          25.5          25.5\n",
       "30         Nevada          17.8          17.7          17.9\n",
       "31  New Hampshire          25.5          25.1          25.0"
      ]
     },
     "execution_count": 49,
     "metadata": {},
     "output_type": "execute_result"
    }
   ],
   "source": [
    "# creating a mask for all the filters for maximum and minimum scores.\n",
    "\n",
    "act_17_max = merged_act_final['composite_17'] == merged_act_final['composite_17'].max() # maximum ACT score for 2017\n",
    "act_17_min = merged_act_final['composite_17'] == merged_act_final['composite_17'].min() # minimum ACT score for 2017\n",
    "act_18_max = merged_act_final['composite_18'] == merged_act_final['composite_18'].max() # maximum ACT score for 2018\n",
    "act_18_min = merged_act_final['composite_18'] == merged_act_final['composite_18'].max() # minimum ACT score for 2018\n",
    "act_19_max = merged_act_final['composite_19'] == merged_act_final['composite_19'].max() # maximum ACT score for 2019\n",
    "act_19_min = merged_act_final['composite_19'] == merged_act_final['composite_19'].max() # minimum ACT score for 2019\n",
    "\n",
    "# we now filter for the minimum and maximum scores for ACT for 2017, 2018, 2019 and output the dataframe\n",
    "\n",
    "merged_act_final.loc[((act_17_max) | (act_17_min)) |\n",
    "                     ((act_18_max) | (act_18_min)) |\n",
    "                     ((act_19_max) | (act_19_min)),\n",
    "                     ['state','composite_17','composite_18', 'composite_19']]"
   ]
  },
  {
   "cell_type": "markdown",
   "metadata": {},
   "source": [
    "In 2017, New Hampshire had the highest mean composite score of 25.5 and Nevada had the lowest mean composite score of 17.8.\n",
    "In 2018, Connecticut had the highest mean composite score of 25.6 and Nevada had the lowest mean composite score of 17.7.\n",
    "In 2019, Connecticut and Massachusetts both had the highest mean composite score of 25.5 and Nevada had the lowest mean composite score of 17.9.\n",
    "\n",
    "We can see that Nevada is consistenly having the lowest scores in the ACT test for all three years out of all 50 states.\n",
    "\n",
    "For the maximum score, Connecticut has been consistent for 2 years (2018, 2019) and Massachusetts as well has had very consistent scores over the last three years.\n",
    "For New Hampshire, even though it once held the maximum mean score in 2017, its scores has been on a downtrend for the past two years."
   ]
  },
  {
   "cell_type": "markdown",
   "metadata": {},
   "source": [
    "# SAT"
   ]
  },
  {
   "cell_type": "code",
   "execution_count": 50,
   "metadata": {},
   "outputs": [
    {
     "data": {
      "text/html": [
       "<div>\n",
       "<style scoped>\n",
       "    .dataframe tbody tr th:only-of-type {\n",
       "        vertical-align: middle;\n",
       "    }\n",
       "\n",
       "    .dataframe tbody tr th {\n",
       "        vertical-align: top;\n",
       "    }\n",
       "\n",
       "    .dataframe thead th {\n",
       "        text-align: right;\n",
       "    }\n",
       "</style>\n",
       "<table border=\"1\" class=\"dataframe\">\n",
       "  <thead>\n",
       "    <tr style=\"text-align: right;\">\n",
       "      <th></th>\n",
       "      <th>state</th>\n",
       "      <th>total_17</th>\n",
       "      <th>total_18</th>\n",
       "      <th>total_19</th>\n",
       "    </tr>\n",
       "  </thead>\n",
       "  <tbody>\n",
       "    <tr>\n",
       "      <th>8</th>\n",
       "      <td>District of Columbia</td>\n",
       "      <td>950</td>\n",
       "      <td>977</td>\n",
       "      <td>975</td>\n",
       "    </tr>\n",
       "    <tr>\n",
       "      <th>23</th>\n",
       "      <td>Minnesota</td>\n",
       "      <td>1295</td>\n",
       "      <td>1298</td>\n",
       "      <td>1284</td>\n",
       "    </tr>\n",
       "  </tbody>\n",
       "</table>\n",
       "</div>"
      ],
      "text/plain": [
       "                   state  total_17  total_18  total_19\n",
       "8   District of Columbia       950       977       975\n",
       "23             Minnesota      1295      1298      1284"
      ]
     },
     "execution_count": 50,
     "metadata": {},
     "output_type": "execute_result"
    }
   ],
   "source": [
    "# creating a mask for all the filters for maximum and minimum scores.\n",
    "\n",
    "sat_17_max = merged_sat_final['total_17'] == merged_sat_final['total_17'].max() # maximum SAT score for 2017\n",
    "sat_17_min = merged_sat_final['total_17'] == merged_sat_final['total_17'].min() # minimum SAT score for 2017\n",
    "sat_18_max = merged_sat_final['total_18'] == merged_sat_final['total_18'].max() # maximum SAT score for 2018\n",
    "sat_18_min = merged_sat_final['total_18'] == merged_sat_final['total_18'].max() # minimum SAT score for 2018\n",
    "sat_19_max = merged_sat_final['total_19'] == merged_sat_final['total_19'].max() # maximum SAT score for 2019\n",
    "sat_19_min = merged_sat_final['total_19'] == merged_sat_final['total_19'].max() # minimum SAT score for 2019\n",
    "\n",
    "# we now filter for the minimum and maximum scores for ACT for 2017, 2018, 2019 and output the dataframe\n",
    "\n",
    "merged_sat_final.loc[((sat_17_max) | (sat_17_min)) |\n",
    "                     ((sat_18_max) | (sat_18_max)) |\n",
    "                     ((sat_19_max) | (sat_19_max)),\n",
    "                     ['state','total_17', 'total_18', 'total_19']]"
   ]
  },
  {
   "cell_type": "markdown",
   "metadata": {},
   "source": [
    "For all three years, the state of Minnesota held the highest mean total score, however the scores have been on a down trend for the past three years.\n",
    "\n",
    "Conversely, even though the state of District of Colombia has consistently held the lowest scores for 3 years, its scores has been on an uptrend.\n",
    "\n",
    "In 2017, Minnesota had the highest mean total score of 1295.0 and District of Columbia had the lowest mean total score of 950.0.\n",
    "In 2018, Minnesota had the highest mean total score of 1298.0 and District of Columbia had the lowest mean total score of 977.0.\n",
    "In 2019, Minnesota had the highest mean total score of 1284.0 and District of Columbia had the lowest mean total score of 943.0."
   ]
  },
  {
   "cell_type": "markdown",
   "metadata": {},
   "source": [
    "> ### Do any states with 100% participation on a given test have a rate change year-to-year?"
   ]
  },
  {
   "cell_type": "code",
   "execution_count": 51,
   "metadata": {},
   "outputs": [
    {
     "data": {
      "text/html": [
       "<div>\n",
       "<style scoped>\n",
       "    .dataframe tbody tr th:only-of-type {\n",
       "        vertical-align: middle;\n",
       "    }\n",
       "\n",
       "    .dataframe tbody tr th {\n",
       "        vertical-align: top;\n",
       "    }\n",
       "\n",
       "    .dataframe thead th {\n",
       "        text-align: right;\n",
       "    }\n",
       "</style>\n",
       "<table border=\"1\" class=\"dataframe\">\n",
       "  <thead>\n",
       "    <tr style=\"text-align: right;\">\n",
       "      <th></th>\n",
       "      <th>state</th>\n",
       "      <th>participation_act_17</th>\n",
       "      <th>participation_act_18</th>\n",
       "      <th>participation_act_19</th>\n",
       "    </tr>\n",
       "  </thead>\n",
       "  <tbody>\n",
       "    <tr>\n",
       "      <th>6</th>\n",
       "      <td>Colorado</td>\n",
       "      <td>1.00</td>\n",
       "      <td>0.30</td>\n",
       "      <td>0.27</td>\n",
       "    </tr>\n",
       "    <tr>\n",
       "      <th>25</th>\n",
       "      <td>Minnesota</td>\n",
       "      <td>1.00</td>\n",
       "      <td>0.99</td>\n",
       "      <td>0.95</td>\n",
       "    </tr>\n",
       "    <tr>\n",
       "      <th>27</th>\n",
       "      <td>Missouri</td>\n",
       "      <td>1.00</td>\n",
       "      <td>1.00</td>\n",
       "      <td>0.82</td>\n",
       "    </tr>\n",
       "    <tr>\n",
       "      <th>37</th>\n",
       "      <td>Ohio</td>\n",
       "      <td>0.75</td>\n",
       "      <td>1.00</td>\n",
       "      <td>1.00</td>\n",
       "    </tr>\n",
       "    <tr>\n",
       "      <th>42</th>\n",
       "      <td>South Carolina</td>\n",
       "      <td>1.00</td>\n",
       "      <td>1.00</td>\n",
       "      <td>0.78</td>\n",
       "    </tr>\n",
       "  </tbody>\n",
       "</table>\n",
       "</div>"
      ],
      "text/plain": [
       "             state  participation_act_17  participation_act_18  \\\n",
       "6         Colorado                  1.00                  0.30   \n",
       "25       Minnesota                  1.00                  0.99   \n",
       "27        Missouri                  1.00                  1.00   \n",
       "37            Ohio                  0.75                  1.00   \n",
       "42  South Carolina                  1.00                  1.00   \n",
       "\n",
       "    participation_act_19  \n",
       "6                   0.27  \n",
       "25                  0.95  \n",
       "27                  0.82  \n",
       "37                  1.00  \n",
       "42                  0.78  "
      ]
     },
     "execution_count": 51,
     "metadata": {},
     "output_type": "execute_result"
    }
   ],
   "source": [
    "act_rate_change = merged_all_final.loc[(merged_all_final['participation_act_17'] == 1) | \n",
    "                                        (merged_all_final['participation_act_18'] == 1) |\n",
    "                                        (merged_all_final['participation_act_19'] == 1),\n",
    "                                         ['state',\n",
    "                                         'participation_act_17',\n",
    "                                         'participation_act_18',\n",
    "                                         'participation_act_19']]\n",
    "act_rate_change.loc[[6,25,27,37,42]]\n",
    "# after looking at the dataframe, the above rows were of highest interest,\n",
    "# so I filtered for that."
   ]
  },
  {
   "cell_type": "markdown",
   "metadata": {},
   "source": [
    "For the ACT test, there was an observable change in the participation rates for the states as shown by the table above. Upon checking through external research, it turns out that the drop in participation rates for Colorado is due to a state mandate to contract with the college board to require SAT testing for all high school students. The article is linked below."
   ]
  },
  {
   "cell_type": "code",
   "execution_count": 52,
   "metadata": {},
   "outputs": [
    {
     "data": {
      "text/html": [
       "<div>\n",
       "<style scoped>\n",
       "    .dataframe tbody tr th:only-of-type {\n",
       "        vertical-align: middle;\n",
       "    }\n",
       "\n",
       "    .dataframe tbody tr th {\n",
       "        vertical-align: top;\n",
       "    }\n",
       "\n",
       "    .dataframe thead th {\n",
       "        text-align: right;\n",
       "    }\n",
       "</style>\n",
       "<table border=\"1\" class=\"dataframe\">\n",
       "  <thead>\n",
       "    <tr style=\"text-align: right;\">\n",
       "      <th></th>\n",
       "      <th>state</th>\n",
       "      <th>participation_sat_17</th>\n",
       "      <th>participation_sat_18</th>\n",
       "      <th>participation_sat_19</th>\n",
       "    </tr>\n",
       "  </thead>\n",
       "  <tbody>\n",
       "    <tr>\n",
       "      <th>6</th>\n",
       "      <td>Colorado</td>\n",
       "      <td>0.11</td>\n",
       "      <td>1.00</td>\n",
       "      <td>1.00</td>\n",
       "    </tr>\n",
       "    <tr>\n",
       "      <th>9</th>\n",
       "      <td>District of Columbia</td>\n",
       "      <td>1.00</td>\n",
       "      <td>0.92</td>\n",
       "      <td>0.94</td>\n",
       "    </tr>\n",
       "    <tr>\n",
       "      <th>10</th>\n",
       "      <td>Florida</td>\n",
       "      <td>0.83</td>\n",
       "      <td>0.56</td>\n",
       "      <td>1.00</td>\n",
       "    </tr>\n",
       "    <tr>\n",
       "      <th>14</th>\n",
       "      <td>Illinois</td>\n",
       "      <td>0.09</td>\n",
       "      <td>0.99</td>\n",
       "      <td>1.00</td>\n",
       "    </tr>\n",
       "    <tr>\n",
       "      <th>41</th>\n",
       "      <td>Rhode Island</td>\n",
       "      <td>0.71</td>\n",
       "      <td>0.97</td>\n",
       "      <td>1.00</td>\n",
       "    </tr>\n",
       "  </tbody>\n",
       "</table>\n",
       "</div>"
      ],
      "text/plain": [
       "                   state  participation_sat_17  participation_sat_18  \\\n",
       "6               Colorado                  0.11                  1.00   \n",
       "9   District of Columbia                  1.00                  0.92   \n",
       "10               Florida                  0.83                  0.56   \n",
       "14              Illinois                  0.09                  0.99   \n",
       "41          Rhode Island                  0.71                  0.97   \n",
       "\n",
       "    participation_sat_19  \n",
       "6                   1.00  \n",
       "9                   0.94  \n",
       "10                  1.00  \n",
       "14                  1.00  \n",
       "41                  1.00  "
      ]
     },
     "execution_count": 52,
     "metadata": {},
     "output_type": "execute_result"
    }
   ],
   "source": [
    "sat_rate_change = merged_all_final.loc[(merged_all_final['participation_sat_17'] == 1) | \n",
    "                                        (merged_all_final['participation_sat_18'] == 1) |\n",
    "                                        (merged_all_final['participation_sat_19'] == 1),\n",
    "                                         ['state',\n",
    "                                         'participation_sat_17',\n",
    "                                         'participation_sat_18',\n",
    "                                         'participation_sat_19']]\n",
    "sat_rate_change.loc[[6,9,10,14,41]]\n",
    "# after looking at the dataframe, the above rows were of highest interest,\n",
    "# so I filtered for that."
   ]
  },
  {
   "cell_type": "markdown",
   "metadata": {},
   "source": [
    "For the SAT test, there was an observable change in the participation rates for the states as shown by the table above."
   ]
  },
  {
   "cell_type": "markdown",
   "metadata": {},
   "source": [
    "What is interesting about the above table is that for Colorado, while the ACT participation rates dropped drastically YOY from 100% in 2017, to 30% (2018) and then to 27% in 2019, there was an increase in SAT participation rates in the same state. From 11% in 2017, to 100% in 2018 and 2019. \n",
    "\n",
    "From external research, it turns out that this can be explained due to a statewide mandated change. In 2016, the testing to be state mandated was changed from the SAT to the ACT based on a vote by [\"a selection committee composed of educators, counselors and administrators from diverse geographic regions across the state\"](https://www.coloradokids.org/wp-content/uploads/2016/01/ACTvsSAT_FINAL.pdf)\n",
    "\n",
    "This document also mentions other states that made the change from ACT to SAT recently: Connecticut, Michigan, Hawaii, Oregon, South Carolina, and Illinois"
   ]
  },
  {
   "cell_type": "markdown",
   "metadata": {},
   "source": [
    "> ### Do any states show >50% participation on both tests each year?"
   ]
  },
  {
   "cell_type": "code",
   "execution_count": 53,
   "metadata": {},
   "outputs": [
    {
     "data": {
      "text/html": [
       "<div>\n",
       "<style scoped>\n",
       "    .dataframe tbody tr th:only-of-type {\n",
       "        vertical-align: middle;\n",
       "    }\n",
       "\n",
       "    .dataframe tbody tr th {\n",
       "        vertical-align: top;\n",
       "    }\n",
       "\n",
       "    .dataframe thead th {\n",
       "        text-align: right;\n",
       "    }\n",
       "</style>\n",
       "<table border=\"1\" class=\"dataframe\">\n",
       "  <thead>\n",
       "    <tr style=\"text-align: right;\">\n",
       "      <th></th>\n",
       "      <th>state</th>\n",
       "      <th>participation_act_17</th>\n",
       "      <th>participation_act_18</th>\n",
       "      <th>participation_act_19</th>\n",
       "      <th>participation_sat_17</th>\n",
       "      <th>participation_sat_18</th>\n",
       "      <th>participation_sat_19</th>\n",
       "    </tr>\n",
       "  </thead>\n",
       "  <tbody>\n",
       "    <tr>\n",
       "      <th>10</th>\n",
       "      <td>Florida</td>\n",
       "      <td>0.73</td>\n",
       "      <td>0.66</td>\n",
       "      <td>0.54</td>\n",
       "      <td>0.83</td>\n",
       "      <td>0.56</td>\n",
       "      <td>1.00</td>\n",
       "    </tr>\n",
       "    <tr>\n",
       "      <th>11</th>\n",
       "      <td>Georgia</td>\n",
       "      <td>0.55</td>\n",
       "      <td>0.53</td>\n",
       "      <td>0.49</td>\n",
       "      <td>0.61</td>\n",
       "      <td>0.70</td>\n",
       "      <td>0.71</td>\n",
       "    </tr>\n",
       "    <tr>\n",
       "      <th>12</th>\n",
       "      <td>Hawaii</td>\n",
       "      <td>0.90</td>\n",
       "      <td>0.89</td>\n",
       "      <td>0.80</td>\n",
       "      <td>0.55</td>\n",
       "      <td>0.56</td>\n",
       "      <td>0.54</td>\n",
       "    </tr>\n",
       "    <tr>\n",
       "      <th>35</th>\n",
       "      <td>North Carolina</td>\n",
       "      <td>1.00</td>\n",
       "      <td>1.00</td>\n",
       "      <td>1.00</td>\n",
       "      <td>0.49</td>\n",
       "      <td>0.52</td>\n",
       "      <td>0.51</td>\n",
       "    </tr>\n",
       "    <tr>\n",
       "      <th>42</th>\n",
       "      <td>South Carolina</td>\n",
       "      <td>1.00</td>\n",
       "      <td>1.00</td>\n",
       "      <td>0.78</td>\n",
       "      <td>0.50</td>\n",
       "      <td>0.55</td>\n",
       "      <td>0.68</td>\n",
       "    </tr>\n",
       "  </tbody>\n",
       "</table>\n",
       "</div>"
      ],
      "text/plain": [
       "             state  participation_act_17  participation_act_18  \\\n",
       "10         Florida                  0.73                  0.66   \n",
       "11         Georgia                  0.55                  0.53   \n",
       "12          Hawaii                  0.90                  0.89   \n",
       "35  North Carolina                  1.00                  1.00   \n",
       "42  South Carolina                  1.00                  1.00   \n",
       "\n",
       "    participation_act_19  participation_sat_17  participation_sat_18  \\\n",
       "10                  0.54                  0.83                  0.56   \n",
       "11                  0.49                  0.61                  0.70   \n",
       "12                  0.80                  0.55                  0.56   \n",
       "35                  1.00                  0.49                  0.52   \n",
       "42                  0.78                  0.50                  0.55   \n",
       "\n",
       "    participation_sat_19  \n",
       "10                  1.00  \n",
       "11                  0.71  \n",
       "12                  0.54  \n",
       "35                  0.51  \n",
       "42                  0.68  "
      ]
     },
     "execution_count": 53,
     "metadata": {},
     "output_type": "execute_result"
    }
   ],
   "source": [
    "merged_all_final.loc[((merged_all_final['participation_act_17']>0.5) & (merged_all_final['participation_sat_17']>0.5)) |\n",
    "                    ((merged_all_final['participation_act_18']>0.5) & (merged_all_final['participation_sat_18']>0.5)) |\n",
    "                    ((merged_all_final['participation_act_19']>0.5) & (merged_all_final['participation_sat_19']>0.5)),\n",
    "                    ['state',\n",
    "                     'participation_act_17','participation_act_18',\n",
    "                     'participation_act_19','participation_sat_17',\n",
    "                     'participation_sat_18','participation_sat_19' ]]\n",
    "# filtering for rows containing participation rates more than 50% for all 3 years across both ACT and SAT"
   ]
  },
  {
   "cell_type": "markdown",
   "metadata": {},
   "source": [
    "We can hazard a guess that these states above have varying participation rates for the three years because the sates might have the tests as optional, or they might have changed from ACT to SAT, for example, in Florida. --> As mentioned by the article earlier. [linked again here](https://www.coloradokids.org/wp-content/uploads/2016/01/ACTvsSAT_FINAL.pdf)"
   ]
  },
  {
   "cell_type": "markdown",
   "metadata": {},
   "source": [
    "> ### Let us take a look at the participation rates for states by the 'mandatory' column to explore the relationship between the participation rate and the state mandate."
   ]
  },
  {
   "cell_type": "code",
   "execution_count": 54,
   "metadata": {},
   "outputs": [
    {
     "data": {
      "text/html": [
       "<div>\n",
       "<style scoped>\n",
       "    .dataframe tbody tr th:only-of-type {\n",
       "        vertical-align: middle;\n",
       "    }\n",
       "\n",
       "    .dataframe tbody tr th {\n",
       "        vertical-align: top;\n",
       "    }\n",
       "\n",
       "    .dataframe thead th {\n",
       "        text-align: right;\n",
       "    }\n",
       "</style>\n",
       "<table border=\"1\" class=\"dataframe\">\n",
       "  <thead>\n",
       "    <tr style=\"text-align: right;\">\n",
       "      <th></th>\n",
       "      <th>state</th>\n",
       "      <th>participation_act_17</th>\n",
       "      <th>participation_act_18</th>\n",
       "      <th>participation_act_19</th>\n",
       "    </tr>\n",
       "  </thead>\n",
       "  <tbody>\n",
       "    <tr>\n",
       "      <th>1</th>\n",
       "      <td>Alabama</td>\n",
       "      <td>1.00</td>\n",
       "      <td>1.00</td>\n",
       "      <td>1.00</td>\n",
       "    </tr>\n",
       "    <tr>\n",
       "      <th>4</th>\n",
       "      <td>Arkansas</td>\n",
       "      <td>1.00</td>\n",
       "      <td>1.00</td>\n",
       "      <td>1.00</td>\n",
       "    </tr>\n",
       "    <tr>\n",
       "      <th>12</th>\n",
       "      <td>Hawaii</td>\n",
       "      <td>0.90</td>\n",
       "      <td>0.89</td>\n",
       "      <td>0.80</td>\n",
       "    </tr>\n",
       "    <tr>\n",
       "      <th>18</th>\n",
       "      <td>Kentucky</td>\n",
       "      <td>1.00</td>\n",
       "      <td>1.00</td>\n",
       "      <td>1.00</td>\n",
       "    </tr>\n",
       "    <tr>\n",
       "      <th>19</th>\n",
       "      <td>Louisiana</td>\n",
       "      <td>1.00</td>\n",
       "      <td>1.00</td>\n",
       "      <td>1.00</td>\n",
       "    </tr>\n",
       "    <tr>\n",
       "      <th>26</th>\n",
       "      <td>Mississippi</td>\n",
       "      <td>1.00</td>\n",
       "      <td>1.00</td>\n",
       "      <td>1.00</td>\n",
       "    </tr>\n",
       "    <tr>\n",
       "      <th>28</th>\n",
       "      <td>Montana</td>\n",
       "      <td>1.00</td>\n",
       "      <td>1.00</td>\n",
       "      <td>1.00</td>\n",
       "    </tr>\n",
       "    <tr>\n",
       "      <th>29</th>\n",
       "      <td>Nebraska</td>\n",
       "      <td>0.84</td>\n",
       "      <td>1.00</td>\n",
       "      <td>1.00</td>\n",
       "    </tr>\n",
       "    <tr>\n",
       "      <th>30</th>\n",
       "      <td>Nevada</td>\n",
       "      <td>1.00</td>\n",
       "      <td>1.00</td>\n",
       "      <td>1.00</td>\n",
       "    </tr>\n",
       "    <tr>\n",
       "      <th>35</th>\n",
       "      <td>North Carolina</td>\n",
       "      <td>1.00</td>\n",
       "      <td>1.00</td>\n",
       "      <td>1.00</td>\n",
       "    </tr>\n",
       "    <tr>\n",
       "      <th>36</th>\n",
       "      <td>North Dakota</td>\n",
       "      <td>0.98</td>\n",
       "      <td>0.98</td>\n",
       "      <td>0.96</td>\n",
       "    </tr>\n",
       "    <tr>\n",
       "      <th>46</th>\n",
       "      <td>Utah</td>\n",
       "      <td>1.00</td>\n",
       "      <td>1.00</td>\n",
       "      <td>1.00</td>\n",
       "    </tr>\n",
       "    <tr>\n",
       "      <th>51</th>\n",
       "      <td>Wisconsin</td>\n",
       "      <td>1.00</td>\n",
       "      <td>1.00</td>\n",
       "      <td>1.00</td>\n",
       "    </tr>\n",
       "    <tr>\n",
       "      <th>52</th>\n",
       "      <td>Wyoming</td>\n",
       "      <td>1.00</td>\n",
       "      <td>1.00</td>\n",
       "      <td>1.00</td>\n",
       "    </tr>\n",
       "  </tbody>\n",
       "</table>\n",
       "</div>"
      ],
      "text/plain": [
       "             state  participation_act_17  participation_act_18  \\\n",
       "1          Alabama                  1.00                  1.00   \n",
       "4         Arkansas                  1.00                  1.00   \n",
       "12          Hawaii                  0.90                  0.89   \n",
       "18        Kentucky                  1.00                  1.00   \n",
       "19       Louisiana                  1.00                  1.00   \n",
       "26     Mississippi                  1.00                  1.00   \n",
       "28         Montana                  1.00                  1.00   \n",
       "29        Nebraska                  0.84                  1.00   \n",
       "30          Nevada                  1.00                  1.00   \n",
       "35  North Carolina                  1.00                  1.00   \n",
       "36    North Dakota                  0.98                  0.98   \n",
       "46            Utah                  1.00                  1.00   \n",
       "51       Wisconsin                  1.00                  1.00   \n",
       "52         Wyoming                  1.00                  1.00   \n",
       "\n",
       "    participation_act_19  \n",
       "1                   1.00  \n",
       "4                   1.00  \n",
       "12                  0.80  \n",
       "18                  1.00  \n",
       "19                  1.00  \n",
       "26                  1.00  \n",
       "28                  1.00  \n",
       "29                  1.00  \n",
       "30                  1.00  \n",
       "35                  1.00  \n",
       "36                  0.96  \n",
       "46                  1.00  \n",
       "51                  1.00  \n",
       "52                  1.00  "
      ]
     },
     "execution_count": 54,
     "metadata": {},
     "output_type": "execute_result"
    }
   ],
   "source": [
    "merged_all_final.loc[merged_all_final['mandatory_17'] == 'ACT',\n",
    "                     ['state','participation_act_17','participation_act_18','participation_act_19']]\n",
    "# filtering for rows containing ACT in the mandatory_17 column"
   ]
  },
  {
   "cell_type": "markdown",
   "metadata": {},
   "source": [
    "As expected there is a strong positive correlation between the mandatory_17 and the participation rates between the years."
   ]
  },
  {
   "cell_type": "code",
   "execution_count": 55,
   "metadata": {},
   "outputs": [
    {
     "data": {
      "text/html": [
       "<div>\n",
       "<style scoped>\n",
       "    .dataframe tbody tr th:only-of-type {\n",
       "        vertical-align: middle;\n",
       "    }\n",
       "\n",
       "    .dataframe tbody tr th {\n",
       "        vertical-align: top;\n",
       "    }\n",
       "\n",
       "    .dataframe thead th {\n",
       "        text-align: right;\n",
       "    }\n",
       "</style>\n",
       "<table border=\"1\" class=\"dataframe\">\n",
       "  <thead>\n",
       "    <tr style=\"text-align: right;\">\n",
       "      <th></th>\n",
       "      <th>state</th>\n",
       "      <th>participation_sat_17</th>\n",
       "      <th>participation_sat_18</th>\n",
       "      <th>participation_sat_19</th>\n",
       "    </tr>\n",
       "  </thead>\n",
       "  <tbody>\n",
       "    <tr>\n",
       "      <th>6</th>\n",
       "      <td>Colorado</td>\n",
       "      <td>0.11</td>\n",
       "      <td>1.00</td>\n",
       "      <td>1.00</td>\n",
       "    </tr>\n",
       "    <tr>\n",
       "      <th>7</th>\n",
       "      <td>Connecticut</td>\n",
       "      <td>1.00</td>\n",
       "      <td>1.00</td>\n",
       "      <td>1.00</td>\n",
       "    </tr>\n",
       "    <tr>\n",
       "      <th>8</th>\n",
       "      <td>Delaware</td>\n",
       "      <td>1.00</td>\n",
       "      <td>1.00</td>\n",
       "      <td>1.00</td>\n",
       "    </tr>\n",
       "    <tr>\n",
       "      <th>9</th>\n",
       "      <td>District of Columbia</td>\n",
       "      <td>1.00</td>\n",
       "      <td>0.92</td>\n",
       "      <td>0.94</td>\n",
       "    </tr>\n",
       "    <tr>\n",
       "      <th>13</th>\n",
       "      <td>Idaho</td>\n",
       "      <td>0.93</td>\n",
       "      <td>1.00</td>\n",
       "      <td>1.00</td>\n",
       "    </tr>\n",
       "    <tr>\n",
       "      <th>14</th>\n",
       "      <td>Illinois</td>\n",
       "      <td>0.09</td>\n",
       "      <td>0.99</td>\n",
       "      <td>1.00</td>\n",
       "    </tr>\n",
       "    <tr>\n",
       "      <th>24</th>\n",
       "      <td>Michigan</td>\n",
       "      <td>1.00</td>\n",
       "      <td>1.00</td>\n",
       "      <td>1.00</td>\n",
       "    </tr>\n",
       "    <tr>\n",
       "      <th>31</th>\n",
       "      <td>New Hampshire</td>\n",
       "      <td>0.96</td>\n",
       "      <td>0.96</td>\n",
       "      <td>0.95</td>\n",
       "    </tr>\n",
       "    <tr>\n",
       "      <th>41</th>\n",
       "      <td>Rhode Island</td>\n",
       "      <td>0.71</td>\n",
       "      <td>0.97</td>\n",
       "      <td>1.00</td>\n",
       "    </tr>\n",
       "    <tr>\n",
       "      <th>48</th>\n",
       "      <td>Virginia</td>\n",
       "      <td>0.65</td>\n",
       "      <td>0.68</td>\n",
       "      <td>0.68</td>\n",
       "    </tr>\n",
       "  </tbody>\n",
       "</table>\n",
       "</div>"
      ],
      "text/plain": [
       "                   state  participation_sat_17  participation_sat_18  \\\n",
       "6               Colorado                  0.11                  1.00   \n",
       "7            Connecticut                  1.00                  1.00   \n",
       "8               Delaware                  1.00                  1.00   \n",
       "9   District of Columbia                  1.00                  0.92   \n",
       "13                 Idaho                  0.93                  1.00   \n",
       "14              Illinois                  0.09                  0.99   \n",
       "24              Michigan                  1.00                  1.00   \n",
       "31         New Hampshire                  0.96                  0.96   \n",
       "41          Rhode Island                  0.71                  0.97   \n",
       "48              Virginia                  0.65                  0.68   \n",
       "\n",
       "    participation_sat_19  \n",
       "6                   1.00  \n",
       "7                   1.00  \n",
       "8                   1.00  \n",
       "9                   0.94  \n",
       "13                  1.00  \n",
       "14                  1.00  \n",
       "24                  1.00  \n",
       "31                  0.95  \n",
       "41                  1.00  \n",
       "48                  0.68  "
      ]
     },
     "execution_count": 55,
     "metadata": {},
     "output_type": "execute_result"
    }
   ],
   "source": [
    "merged_all_final.loc[merged_all_final['mandatory_17'] == 'SAT',\n",
    "                     ['state','participation_sat_17','participation_sat_18','participation_sat_19']]\n",
    "# filtering for rows containing SAT in the mandatory_17 column"
   ]
  },
  {
   "cell_type": "markdown",
   "metadata": {},
   "source": [
    "As expected there is a strong positive correlation between the mandatory_17 and the participation rates between the years, except for Virginia, there is only a slight uptick in this. Possibly because the state offers another assessment called the [West Virginia Alternative Summer Assessment](https://blog.prepscholar.com/which-states-require-the-sat#:~:text=Students%20in%20Oklahoma%20must%20take,by%20each%20individual%20school%20district.)"
   ]
  },
  {
   "cell_type": "markdown",
   "metadata": {},
   "source": [
    "**To-Do:** *Edit this cell with your findings on trends in the data (step 3 above).*"
   ]
  },
  {
   "cell_type": "markdown",
   "metadata": {},
   "source": [
    "## Visualize the Data\n",
    "\n",
    "There's not a magic bullet recommendation for the right number of plots to understand a given dataset, but visualizing your data is *always* a good idea. Not only does it allow you to quickly convey your findings (even if you have a non-technical audience), it will often reveal trends in your data that escaped you when you were looking only at numbers. It is important to not only create visualizations, but to **interpret your visualizations** as well.\n",
    "\n",
    "**Every plot should**:\n",
    "- Have a title\n",
    "- Have axis labels\n",
    "- Have appropriate tick labels\n",
    "- Text is legible in a plot\n",
    "- Plots demonstrate meaningful and valid relationships\n",
    "- Have an interpretation to aid understanding\n",
    "\n",
    "Here is an example of what your plots should look like following the above guidelines. Note that while the content of this example is unrelated, the principles of visualization hold:\n",
    "\n",
    "![](https://snag.gy/hCBR1U.jpg)\n",
    "*Interpretation: The above image shows that as we increase our spending on advertising, our sales numbers also tend to increase. There is a positive correlation between advertising spending and sales.*\n",
    "\n",
    "---\n",
    "\n",
    "Here are some prompts to get you started with visualizations. Feel free to add additional visualizations as you see fit:\n",
    "1. Use Seaborn's heatmap with pandas `.corr()` to visualize correlations between all numeric features.\n",
    "    - Heatmaps are generally not appropriate for presentations, and should often be excluded from reports as they can be visually overwhelming. **However**, they can be extremely useful in identify relationships of potential interest (as well as identifying potential collinearity before modeling).\n",
    "    - Please take time to format your output, adding a title. Look through some of the additional arguments and options. (Axis labels aren't really necessary, as long as the title is informative).\n",
    "2. Visualize distributions using histograms. If you have a lot, consider writing a custom function and use subplots.\n",
    "    - *OPTIONAL*: Summarize the underlying distributions of your features (in words & statistics)\n",
    "         - Be thorough in your verbal description of these distributions.\n",
    "         - Be sure to back up these summaries with statistics.\n",
    "         - We generally assume that data we sample from a population will be normally distributed. Do we observe this trend? Explain your answers for each distribution and how you think this will affect estimates made from these data.\n",
    "3. Plot and interpret boxplots. \n",
    "    - Boxplots demonstrate central tendency and spread in variables. In a certain sense, these are somewhat redundant with histograms, but you may be better able to identify clear outliers or differences in IQR, etc.\n",
    "    - Multiple values can be plotted to a single boxplot as long as they are of the same relative scale (meaning they have similar min/max values).\n",
    "    - Each boxplot should:\n",
    "        - Only include variables of a similar scale\n",
    "        - Have clear labels for each variable\n",
    "        - Have appropriate titles and labels\n",
    "4. Plot and interpret scatter plots to view relationships between features. Feel free to write a custom function, and subplot if you'd like. Functions save both time and space.\n",
    "    - Your plots should have:\n",
    "        - Two clearly labeled axes\n",
    "        - A proper title\n",
    "        - Colors and symbols that are clear and unmistakable\n",
    "5. Additional plots of your choosing.\n",
    "    - Are there any additional trends or relationships you haven't explored? Was there something interesting you saw that you'd like to dive further into? It's likely that there are a few more plots you might want to generate to support your narrative and recommendations that you are building toward. **As always, make sure you're interpreting your plots as you go**."
   ]
  },
  {
   "cell_type": "markdown",
   "metadata": {},
   "source": [
    "Repeat the problem statement here again"
   ]
  },
  {
   "cell_type": "markdown",
   "metadata": {},
   "source": [
    "Let's start with looking at the possible correlations that might exist in the merged ACT and SAT file to get the largest cross section of data."
   ]
  },
  {
   "cell_type": "markdown",
   "metadata": {},
   "source": [
    "# 1. Seaborn's Heatmap with Pandas `corr()`"
   ]
  },
  {
   "cell_type": "code",
   "execution_count": 56,
   "metadata": {},
   "outputs": [
    {
     "data": {
      "image/png": "[encoded data removed]",
      "text/plain": [
       "<Figure size 1440x1440 with 2 Axes>"
      ]
     },
     "metadata": {
      "needs_background": "light"
     },
     "output_type": "display_data"
    }
   ],
   "source": [
    "plt.figure(figsize=(20,20))\n",
    "\n",
    "correlations_merged_final = merged_all_final.corr()\n",
    "\n",
    "mask = np.zeros_like(correlations_merged_final)\n",
    "mask[np.triu_indices_from(mask)] = True\n",
    "\n",
    "sns.heatmap(correlations_merged_final,\n",
    "           annot=True,\n",
    "           mask=mask\n",
    "           );"
   ]
  },
  {
   "cell_type": "markdown",
   "metadata": {},
   "source": [
    "We will explore the correlations above with scatterplots and trendlines below."
   ]
  },
  {
   "cell_type": "markdown",
   "metadata": {},
   "source": [
    "# 2. Visualize Distributions using Histograms"
   ]
  },
  {
   "cell_type": "markdown",
   "metadata": {},
   "source": [
    "> First I am defining some functions that will help to create three or 4 subplots. "
   ]
  },
  {
   "cell_type": "markdown",
   "metadata": {},
   "source": [
    "<font color = \"red\">Why did you create so many custom functions for this? Just plot it normally, or if you find that actually a block of code is repeating many times, use a for loop!</font>"
   ]
  },
  {
   "cell_type": "code",
   "execution_count": 57,
   "metadata": {},
   "outputs": [],
   "source": [
    "def plot_four_hist_horizontal(series1, series2, series3, series4,\n",
    "                               title1=\"Histogram_1\",\n",
    "                               title2=\"Histogram_2\",\n",
    "                               title3=\"Histogram_3\",\n",
    "                               title4=\"Histogram_4\",\n",
    "                                xtitle=\"x-axis\"):\n",
    "    \"\"\" Inputs are: series 1, 2, 3 and 4, where each series is plotted into a histogram.\n",
    "    title1, title2, title3, and title4 are option kwargs, if not provided, default values will be used.\n",
    "    Output is 3 histogram subplots.\"\"\"\n",
    "    # setting the figure size\n",
    "    plt.figure(figsize=(20,5))\n",
    "    \n",
    "    #creating the first histogram subplot\n",
    "    hist1 = plt.subplot(1,4,1)\n",
    "    hist1.hist(series1,\n",
    "              color='#1F77B4')\n",
    "    # setting chart title\n",
    "    hist1.set_title(title1)\n",
    "    # setting the x-axis title\n",
    "    hist1.set_xlabel(xtitle)\n",
    "    \n",
    "    # repeat the above process 3 times, \n",
    "    # I would have changed this to a for loop, \n",
    "    # but ran out of time. Managed to do so for\n",
    "    # the scatter subplot. \n",
    "    \n",
    "    hist2 = plt.subplot(1,4,2,sharey=hist1)\n",
    "    hist2.hist(series2,\n",
    "              color='#026F6D')\n",
    "    hist2.set_title(title2)\n",
    "    hist2.set_xlabel(xtitle)\n",
    "    \n",
    "    hist3 = plt.subplot(1,4,3,sharey=hist1)\n",
    "    hist3.hist(series3,\n",
    "              color='#5A0C1A')\n",
    "    hist3.set_title(title3)\n",
    "    hist3.set_xlabel(xtitle)\n",
    "    \n",
    "    hist4 = plt.subplot(1,4,4,sharey=hist1)\n",
    "    hist4.hist(series4,\n",
    "              color='#000')\n",
    "    hist4.set_title(title4)\n",
    "    hist4.set_xlabel(xtitle);"
   ]
  },
  {
   "cell_type": "code",
   "execution_count": 58,
   "metadata": {},
   "outputs": [],
   "source": [
    "def plot_three_hist_horizontal(series1, series2, series3,\n",
    "                               title1=\"Histogram1\",\n",
    "                               title2=\"Histogram2\",\n",
    "                               title3=\"Histogram 3\", \n",
    "                                xtitle=\"x-axis\"):\n",
    "    \"\"\" Inputs are: series 1, 2 and 3, where each series is plotted into a histogram.\n",
    "    title1, title2, and title3 are option kwargs, if not provided, default values will be used.\n",
    "    Output is 3 histogram subplots.\"\"\"\n",
    "    # exact copy of the above function,\n",
    "    # but 3 subplots\n",
    "    plt.figure(figsize=(20,5))\n",
    "    hist1 = plt.subplot(1,3,1)\n",
    "    hist1.hist(series1,\n",
    "              color='#1F77B4')\n",
    "    hist1.set_title(title1)\n",
    "    hist1.set_xlabel(xtitle)\n",
    "    \n",
    "    hist2 = plt.subplot(1,3,2,sharey=hist1)\n",
    "    hist2.hist(series2,\n",
    "              color='#026F6D')\n",
    "    hist2.set_title(title2)\n",
    "    hist2.set_xlabel(xtitle)\n",
    "    \n",
    "    hist3 = plt.subplot(1,3,3,sharey=hist1)\n",
    "    hist3.hist(series3,\n",
    "              color='#5A0C1A')\n",
    "    hist3.set_title(title3)\n",
    "    hist3.set_xlabel(xtitle);"
   ]
  },
  {
   "cell_type": "code",
   "execution_count": 59,
   "metadata": {},
   "outputs": [],
   "source": [
    "def plot_two_hist_horizontal(series1, series2,series3, \n",
    "                               title1=\"Histogram_1\",\n",
    "                               title2=\"Histogram_2\",\n",
    "                               title3=\"Histogram_3\", \n",
    "                                xtitle=\"x-axis\"):\n",
    "    \"\"\" Inputs are: series 1 and 2, where each series is plotted into a histogram.\n",
    "    title1 and title2, are option kwargs, if not provided, default values will be used.\n",
    "    Output is 2 histogram subplots.\"\"\"\n",
    "    # exact copy of the above function,\n",
    "    # but 2 subplots\n",
    "    plt.figure(figsize=(20,5))\n",
    "    hist1 = plt.subplot(1,2,1)\n",
    "    hist1.hist(series1,\n",
    "              color='#1F77B4')\n",
    "    hist1.set_title(title1)\n",
    "    hist1.set_xlabel(xtitle)\n",
    "    \n",
    "    hist2 = plt.subplot(1,2,2,sharey=hist1)\n",
    "    hist2.hist(series2,\n",
    "              color='#026F6D')\n",
    "    hist2.set_title(title2)\n",
    "    hist2.set_xlabel(xtitle);"
   ]
  },
  {
   "cell_type": "markdown",
   "metadata": {},
   "source": [
    "> # ACT and SAT Participation Rates Histograms for 2017, 2018 and 2019"
   ]
  },
  {
   "cell_type": "code",
   "execution_count": 60,
   "metadata": {},
   "outputs": [
    {
     "data": {
      "image/png": "[encoded data removed]",
      "text/plain": [
       "<Figure size 1440x360 with 3 Axes>"
      ]
     },
     "metadata": {
      "needs_background": "light"
     },
     "output_type": "display_data"
    },
    {
     "data": {
      "image/png": "[encoded data removed]",
      "text/plain": [
       "<Figure size 1440x360 with 3 Axes>"
      ]
     },
     "metadata": {
      "needs_background": "light"
     },
     "output_type": "display_data"
    }
   ],
   "source": [
    "plot_three_hist_horizontal(merged_act_final['participation_act_17'],\n",
    "                           merged_act_final['participation_act_18'],\n",
    "                           merged_act_final['participation_act_19'],\n",
    "                           title1='Participation_ACT_2017',\n",
    "                           title2='Participation_ACT_2018',\n",
    "                           title3='Participation_ACT_2019', \n",
    "                           xtitle='Participation Rate'\n",
    "                          )\n",
    "plot_three_hist_horizontal(merged_sat_final['participation_sat_17'],\n",
    "                           merged_sat_final['participation_sat_18'],\n",
    "                           merged_sat_final['participation_sat_19'],\n",
    "                           title1='Participation_SAT_2017',\n",
    "                           title2='Participation_SAT_2018',\n",
    "                           title3='Participation_SAT_2019',\n",
    "                           xtitle='Participation Rates'\n",
    "                          )"
   ]
  },
  {
   "cell_type": "markdown",
   "metadata": {},
   "source": [
    "We can see that there is a clear difference between the ACT histograms and the SAT histograms. The ACT histograms are skewed right whereas the SAT ones are skewed left. However over the years, the ACT peak has been reducing where as the SAT, on the right side we can see the peak rising. This is in line with the data and external research where we are seeing that after the 2016 changes to the SAT test, there are more states taking up the contract with the college board to make the SAT mandatory statewide."
   ]
  },
  {
   "cell_type": "markdown",
   "metadata": {},
   "source": [
    "> # ACT Composite Scores Histograms"
   ]
  },
  {
   "cell_type": "code",
   "execution_count": 61,
   "metadata": {
    "scrolled": true
   },
   "outputs": [
    {
     "data": {
      "image/png": "[encoded data removed]",
      "text/plain": [
       "<Figure size 1440x360 with 3 Axes>"
      ]
     },
     "metadata": {
      "needs_background": "light"
     },
     "output_type": "display_data"
    }
   ],
   "source": [
    "plot_three_hist_horizontal(merged_act_final['composite_17'],\n",
    "                           merged_act_final['composite_18'],\n",
    "                           merged_act_final['composite_19'],\n",
    "                           title1='Composite_ACT_2017',\n",
    "                           title2='Composite_ACT_2018',\n",
    "                           title3='Composite_ACT_2019', \n",
    "                           xtitle='Composite Score'\n",
    "                          )"
   ]
  },
  {
   "cell_type": "markdown",
   "metadata": {},
   "source": [
    "For the ACT, 1 interesting thing to note is that the distribution has a valley in the centre, with two peaks on either side of it. It shows that there is a clear gap between the highest scores and those below in the 18 - 20 range."
   ]
  },
  {
   "cell_type": "markdown",
   "metadata": {},
   "source": [
    "> # ACT 2017 only: plots of the scores of various tests that make up the ACT"
   ]
  },
  {
   "cell_type": "code",
   "execution_count": 62,
   "metadata": {},
   "outputs": [
    {
     "data": {
      "image/png": "[encoded data removed]",
      "text/plain": [
       "<Figure size 1440x360 with 4 Axes>"
      ]
     },
     "metadata": {
      "needs_background": "light"
     },
     "output_type": "display_data"
    }
   ],
   "source": [
    "plot_four_hist_horizontal(merged_act_final['english_17'],\n",
    "                           merged_act_final['math_act_17'],\n",
    "                           merged_act_final['reading_17'],\n",
    "                           merged_act_final['science_17'],\n",
    "                           title1='English_2017',\n",
    "                           title2='Math_2017',\n",
    "                           title3='Reading_2017',\n",
    "                           title4='Science_2017', \n",
    "                           xtitle='Component Scores')"
   ]
  },
  {
   "cell_type": "markdown",
   "metadata": {},
   "source": [
    "Similarly the component scores exhibit the same two peaks with a dip in the centre. Science has an aggressive dip."
   ]
  },
  {
   "cell_type": "markdown",
   "metadata": {},
   "source": [
    "> # SAT Total Scores Histogram"
   ]
  },
  {
   "cell_type": "code",
   "execution_count": 63,
   "metadata": {},
   "outputs": [
    {
     "data": {
      "image/png": "[encoded data removed]",
      "text/plain": [
       "<Figure size 1440x360 with 3 Axes>"
      ]
     },
     "metadata": {
      "needs_background": "light"
     },
     "output_type": "display_data"
    }
   ],
   "source": [
    "plot_three_hist_horizontal(merged_sat_final['total_17'],\n",
    "                           merged_sat_final['total_18'],\n",
    "                           merged_sat_final['total_19'],\n",
    "                           title1='Total_Score_SAT_2017',\n",
    "                           title2='Total_Score_SAT_2018',\n",
    "                           title3='Total_Score_SAT_2019',\n",
    "                           xtitle='Total Scores'\n",
    "                          )"
   ]
  },
  {
   "cell_type": "markdown",
   "metadata": {},
   "source": [
    "Even for the SAT scores, we see the same two peaks and a valley pattern."
   ]
  },
  {
   "cell_type": "markdown",
   "metadata": {},
   "source": [
    "> # SAT Evidence-Based Reading and Writing score, Math score and Total score for 2017, 2018, and 2019 Histograms"
   ]
  },
  {
   "cell_type": "code",
   "execution_count": 64,
   "metadata": {},
   "outputs": [
    {
     "data": {
      "image/png": "[encoded data removed]",
      "text/plain": [
       "<Figure size 1440x360 with 3 Axes>"
      ]
     },
     "metadata": {
      "needs_background": "light"
     },
     "output_type": "display_data"
    },
    {
     "data": {
      "image/png": "[encoded data removed]",
      "text/plain": [
       "<Figure size 1440x360 with 3 Axes>"
      ]
     },
     "metadata": {
      "needs_background": "light"
     },
     "output_type": "display_data"
    },
    {
     "data": {
      "image/png": "[encoded data removed]",
      "text/plain": [
       "<Figure size 1440x360 with 3 Axes>"
      ]
     },
     "metadata": {
      "needs_background": "light"
     },
     "output_type": "display_data"
    }
   ],
   "source": [
    "plot_three_hist_horizontal(merged_sat_final['ebrw_17'],\n",
    "                           merged_sat_final['math_sat_17'],\n",
    "                           merged_sat_final['total_17'],\n",
    "                           title1='Evidenced_Based_Reading_Writing_SAT_2017',\n",
    "                           title2='Math_SAT_2017',\n",
    "                           title3='Total_Score_SAT_2017',\n",
    "                           xtitle='Component Scores'\n",
    "                          )\n",
    "\n",
    "plot_three_hist_horizontal(merged_sat_final['math_18'],\n",
    "                           merged_sat_final['math_18'],\n",
    "                           merged_sat_final['total_18'],\n",
    "                           title1='Evidenced_Based_Reading_Writing_SAT_2018',\n",
    "                           title2='Math_SAT_2018',\n",
    "                           title3='Total_Score_SAT_2018',\n",
    "                           xtitle='Component Scores'\n",
    "                          )\n",
    "\n",
    "plot_three_hist_horizontal(merged_sat_final['math_19'],\n",
    "                           merged_sat_final['math_19'],\n",
    "                           merged_sat_final['total_19'],\n",
    "                           title1='Evidenced_Based_Reading_Writing_SAT_2019',\n",
    "                           title2='Math_SAT_2019',\n",
    "                           title3='Total_Score_SAT_2019',\n",
    "                           xtitle='Component Scores'\n",
    "                          )"
   ]
  },
  {
   "cell_type": "markdown",
   "metadata": {},
   "source": [
    "Lastly, for the pattern above, it is similar to all the scores pattern, two peaks, with a valley in between."
   ]
  },
  {
   "cell_type": "markdown",
   "metadata": {},
   "source": [
    "> It seems that none of the data have a normal distribution. However, if we were to take a sample mean from the sample size of 50 states, it is possible that the sample mean would be normally distributed due to CLT. However we need to look closely at how we are taking that sample mean, as I would argue that having the raw number of participants from each state would give us a weighted mean that would much more likely be applicable to the CLT."
   ]
  },
  {
   "cell_type": "markdown",
   "metadata": {},
   "source": [
    "### 3. Plot and interpret boxplots. "
   ]
  },
  {
   "cell_type": "markdown",
   "metadata": {},
   "source": [
    "<font color = \"red\">Why do you need a function for this?</font>"
   ]
  },
  {
   "cell_type": "code",
   "execution_count": 65,
   "metadata": {},
   "outputs": [],
   "source": [
    "def create_boxplot(input_data,x_title):\n",
    "    \"\"\"Input data is a dataframe with 1 or more series.\n",
    "    x_title as an input is the label that is applied to the x-axis.\n",
    "    Output is the number of boxplots as correponds to the series.\"\"\"\n",
    "    # adjusting the font size\n",
    "    sns.set_context('paper',font_scale=1.2)\n",
    "    \n",
    "    # passing in the function inputs to the boxplot\n",
    "    # with horizontal orientation and setting the \n",
    "    # x-axis title\n",
    "    sns.boxplot(orient='h', \n",
    "                data=input_data).set(\n",
    "            xlabel=x_title)"
   ]
  },
  {
   "cell_type": "markdown",
   "metadata": {},
   "source": [
    "> # ACT Participation Rates Boxplots"
   ]
  },
  {
   "cell_type": "code",
   "execution_count": 66,
   "metadata": {},
   "outputs": [
    {
     "data": {
      "image/png": "[encoded data removed]",
      "text/plain": [
       "<Figure size 432x288 with 1 Axes>"
      ]
     },
     "metadata": {
      "needs_background": "light"
     },
     "output_type": "display_data"
    }
   ],
   "source": [
    "create_boxplot(input_data=merged_act_final[['participation_act_17',\n",
    "                                 'participation_act_18',\n",
    "                                 'participation_act_19']],\n",
    "              x_title='Participation Rate')"
   ]
  },
  {
   "cell_type": "markdown",
   "metadata": {},
   "source": [
    "As per what we have been seeing in the EDA previously, the ACT participation rates are on a down trend. The enlargement of the IQR as well as the shift left of the participation rates as the years progress shows the same trend more clearly in the box plot."
   ]
  },
  {
   "cell_type": "markdown",
   "metadata": {},
   "source": [
    "> # ACT Composite Scores Boxplots"
   ]
  },
  {
   "cell_type": "code",
   "execution_count": 67,
   "metadata": {},
   "outputs": [
    {
     "data": {
      "image/png": "[encoded data removed]",
      "text/plain": [
       "<Figure size 432x288 with 1 Axes>"
      ]
     },
     "metadata": {
      "needs_background": "light"
     },
     "output_type": "display_data"
    }
   ],
   "source": [
    "create_boxplot(input_data=merged_act_final[['composite_17',\n",
    "                                 'composite_18',\n",
    "                                 'composite_19']],\n",
    "              x_title='Scores')"
   ]
  },
  {
   "cell_type": "markdown",
   "metadata": {},
   "source": [
    "The scores have held pretty constant, both in the IQR as well as the mean."
   ]
  },
  {
   "cell_type": "markdown",
   "metadata": {},
   "source": [
    "> # ACT 2017 only: plots of the scores of various tests that make up the ACT"
   ]
  },
  {
   "cell_type": "code",
   "execution_count": 68,
   "metadata": {},
   "outputs": [
    {
     "data": {
      "image/png": "[encoded data removed]",
      "text/plain": [
       "<Figure size 432x288 with 1 Axes>"
      ]
     },
     "metadata": {
      "needs_background": "light"
     },
     "output_type": "display_data"
    }
   ],
   "source": [
    "create_boxplot(input_data=merged_act_final[['english_17',\n",
    "                                 'math_act_17',\n",
    "                                 'reading_17',\n",
    "                                 'science_17']],\n",
    "              x_title='Scores')"
   ]
  },
  {
   "cell_type": "markdown",
   "metadata": {},
   "source": [
    "> # SAT Participation Rates Histograms"
   ]
  },
  {
   "cell_type": "code",
   "execution_count": 69,
   "metadata": {},
   "outputs": [
    {
     "data": {
      "image/png": "[encoded data removed]",
      "text/plain": [
       "<Figure size 432x288 with 1 Axes>"
      ]
     },
     "metadata": {
      "needs_background": "light"
     },
     "output_type": "display_data"
    }
   ],
   "source": [
    "create_boxplot(input_data=merged_sat_final[['participation_sat_17',\n",
    "                                 'participation_sat_18',\n",
    "                                 'participation_sat_19']],\n",
    "              x_title='Participation Rate')"
   ]
  },
  {
   "cell_type": "markdown",
   "metadata": {},
   "source": [
    "While the ACT participation rates have been showing a downtrend, this boxplot clearly shows the reverse with the box enlarging towards the right and the mean shifting towards the right. This clearly shows that the college board is moving in the right direction, or at least is perceived by the states to be doing so as the participation rates increase."
   ]
  },
  {
   "cell_type": "markdown",
   "metadata": {},
   "source": [
    "> # SAT Total Scores Histogram"
   ]
  },
  {
   "cell_type": "code",
   "execution_count": 70,
   "metadata": {},
   "outputs": [
    {
     "data": {
      "image/png": "[encoded data removed]",
      "text/plain": [
       "<Figure size 432x288 with 1 Axes>"
      ]
     },
     "metadata": {
      "needs_background": "light"
     },
     "output_type": "display_data"
    }
   ],
   "source": [
    "create_boxplot(input_data=merged_sat_final[['total_17',\n",
    "                                 'total_18',\n",
    "                                 'total_19']],\n",
    "              x_title='Total_Scores')"
   ]
  },
  {
   "cell_type": "markdown",
   "metadata": {},
   "source": [
    "The scores have held pretty constant, both in the IQR as well as the mean."
   ]
  },
  {
   "cell_type": "markdown",
   "metadata": {},
   "source": [
    "> # SAT Evidence-Based Reading and Writing score, Math score and Total score for 2017, 2018, and 2019 Histograms"
   ]
  },
  {
   "cell_type": "code",
   "execution_count": 71,
   "metadata": {},
   "outputs": [
    {
     "data": {
      "image/png": "[encoded data removed]",
      "text/plain": [
       "<Figure size 432x288 with 1 Axes>"
      ]
     },
     "metadata": {
      "needs_background": "light"
     },
     "output_type": "display_data"
    }
   ],
   "source": [
    "create_boxplot(input_data=merged_sat_final[['ebrw_17',\n",
    "                                            'ebrw_18',\n",
    "                                            'ebrw_19',\n",
    "                                            'math_sat_17',\n",
    "                                            'math_18',\n",
    "                                            'math_19']],\n",
    "              x_title='Total_Scores')"
   ]
  },
  {
   "cell_type": "markdown",
   "metadata": {},
   "source": [
    "As we can see above, the individual scores for Evidence-Based Reading and Writing is dropping slightly. Similarly for Math from 2017 to 2019, we are seeing the mean shifting left. However this is to be expected due to the increase in participation rates."
   ]
  },
  {
   "cell_type": "markdown",
   "metadata": {},
   "source": [
    "### 4. Plot and interpret scatter plots to view relationships between features. Feel free to write a custom function, and subplot if you'd like. Functions save both time and space."
   ]
  },
  {
   "cell_type": "markdown",
   "metadata": {},
   "source": [
    "<font color = \"red\">This is a rather long and complicated function. I would advise you not to use a function to create your visualizations.</font>"
   ]
  },
  {
   "cell_type": "code",
   "execution_count": 72,
   "metadata": {},
   "outputs": [],
   "source": [
    "# function to plot scatter plot regardless of vertically stacked, horizontally stacked, or number of subplots.\n",
    "\n",
    "def create_scatterplot_sharedaxis(chart_size,chart_title,x_col_names,y_col_names,method=\"hor\"):\n",
    "    \"\"\"For Chart_size, accepted input is a tuple. For both x_col_names and y_col_names,\n",
    "    they are both lists with the column names to be plotted against one another. \n",
    "    The number of items in both must match. \n",
    "    The method input is a kwarg where it denotes if the subplots are spread vertically or horizontally. \n",
    "    Accepts 'vert' or 'hor.\n",
    "    the default value is 'hor'.\"\"\"\n",
    "    COLORS = ['#1f77b4', '#ff7f0e', '#2ca02c', '#d62728', '#9467bd', '#8c564b', '#e377c2', '#7f7f7f', '#bcbd22', '#17becf']\n",
    "    y_ax_max = max([max(merged_all_final[col].dropna().values) for col in y_col_names])\n",
    "    # in order to have comparable y-axis, I used the max value from all series that might be input to the function\n",
    "    \n",
    "    num_subplots = len(x_col_names) # the function can output any number of subplots in 1 line.\n",
    "    plt.figure(figsize=(chart_size)) \n",
    "    \n",
    "    # this if statement controls whether the subplots are vertically split or horizontally.\n",
    "    if method == 'hor':\n",
    "        plot_method = (1,num_subplots)\n",
    "    else:\n",
    "        plot_method = (num_subplots,1)\n",
    "    \n",
    "    # using the position to pull out the subplot arguments worked to change the orientation of the subplots.\n",
    "    scatter_sub_1 = plt.subplot(plot_method[0],plot_method[1],1)\n",
    "    \n",
    "    # plotting the scatter on the first subplot\n",
    "    scatter_sub_1.scatter(x=merged_all_final[x_col_names[0]],\n",
    "                          y=merged_all_final[y_col_names[0]])\n",
    "    \n",
    "    # sets the y axis limits\n",
    "    scatter_sub_1.set_ylim(ymin=0, ymax=y_ax_max+0.2)\n",
    "    \n",
    "    # sets the x and y axis labels\n",
    "    scatter_sub_1.set_xlabel(x_col_names[0])\n",
    "    scatter_sub_1.set_ylabel(y_col_names[0])\n",
    "    \n",
    "    # using a mask to get rid of all NaN values in both x and y. \n",
    "    # For the trendline, x and y need to be equal in length\n",
    "    trend_x_mask = ((merged_all_final[x_col_names[0]]>0) & (merged_all_final[y_col_names[0]]>0))\n",
    "    trend_y_mask = ((merged_all_final[x_col_names[0]]>0) & (merged_all_final[y_col_names[0]]>0))\n",
    "    \n",
    "    # to plot the trendline on the subplot, I pass in the x and y series values and use polyfit.\n",
    "    trend_x = merged_all_final.loc[trend_x_mask, x_col_names[0]].values\n",
    "    trend_y = merged_all_final.loc[trend_y_mask, y_col_names[0]].values\n",
    "    m , b = np.polyfit(trend_x,trend_y,1)\n",
    "    \n",
    "    # plots the trendline to the subplot.\n",
    "    scatter_sub_1.plot(trend_x,m*trend_x+b,c='#000')\n",
    "    \n",
    "    #creates the chart title\n",
    "    scatter_sub_1.set_title(chart_title)\n",
    "    \n",
    "    # in case more than 1 series is passed into the function,\n",
    "    # this if statement activates the for loop to plot as many subplots as required.\n",
    "    if num_subplots > 1:\n",
    "        \n",
    "        for chart_num in range(1,num_subplots):\n",
    "            # using the position to pull out the subplot arguments \n",
    "            # worked to change the orientation of the subplots.\n",
    "            scatter_sub_x = plt.subplot(plot_method[0],plot_method[1],chart_num+1,sharex=scatter_sub_1)\n",
    "            scatter_sub_x.scatter(x=merged_all_final[x_col_names[chart_num]], \n",
    "                                  y=merged_all_final[y_col_names[chart_num]], \n",
    "                                  c=COLORS[chart_num])\n",
    "            \n",
    "            # sets the y axis limits\n",
    "            scatter_sub_x.set_ylim(ymin=0, ymax=y_ax_max+0.2)\n",
    "            \n",
    "            # sets the x and y axis labels\n",
    "            scatter_sub_x.set_xlabel(x_col_names[chart_num])\n",
    "            scatter_sub_x.set_ylabel(y_col_names[chart_num])\n",
    "            \n",
    "            # using a mask to get rid of all NaN values in both x and y. \n",
    "            # For the trendline, x and y need to be equal in length\n",
    "            trend_x_mask = (merged_all_final[x_col_names[chart_num]]>0) & (merged_all_final[y_col_names[chart_num]]>0)\n",
    "            trend_y_mask = (merged_all_final[x_col_names[chart_num]]>0) & (merged_all_final[y_col_names[chart_num]]>0)\n",
    "            \n",
    "            # to plot the trendline on the subplot, I pass in the x and y series values and use polyfit.\n",
    "            trend_x = merged_all_final.loc[trend_x_mask, x_col_names[chart_num]].values\n",
    "            trend_y = merged_all_final.loc[trend_y_mask, y_col_names[chart_num]].values\n",
    "            m , b = np.polyfit(trend_x,trend_y,1)\n",
    "            \n",
    "            # plots the trendline to the subplot.\n",
    "            scatter_sub_x.plot(trend_x,m*trend_x+b,c='#000')\n",
    "            \n",
    "            #creates the chart title\n",
    "            scatter_sub_x.set_title(chart_title)\n",
    "    # using the tight_layout method here to improve the distance \n",
    "    # between charts to make it easier to read            \n",
    "    plt.tight_layout();"
   ]
  },
  {
   "cell_type": "markdown",
   "metadata": {},
   "source": [
    "### Comparison of the ACT and SAT participation rates vs the overall scores for each year"
   ]
  },
  {
   "cell_type": "code",
   "execution_count": 73,
   "metadata": {},
   "outputs": [
    {
     "data": {
      "image/png": "[encoded data removed]",
      "text/plain": [
       "<Figure size 1080x360 with 3 Axes>"
      ]
     },
     "metadata": {
      "needs_background": "light"
     },
     "output_type": "display_data"
    },
    {
     "data": {
      "image/png": "[encoded data removed]",
      "text/plain": [
       "<Figure size 1080x360 with 3 Axes>"
      ]
     },
     "metadata": {
      "needs_background": "light"
     },
     "output_type": "display_data"
    }
   ],
   "source": [
    "create_scatterplot_sharedaxis((15,5),'Participation Rates vs Composite Score',\n",
    "                           ['composite_17','composite_18','composite_19'],\n",
    "                           ['participation_act_17','participation_act_18','participation_act_19'])\n",
    "create_scatterplot_sharedaxis((15,5),'Participation Rates vs Total Score',\n",
    "                           ['total_17','total_18','total_19'],\n",
    "                           ['participation_sat_17','participation_sat_18','participation_sat_19'])"
   ]
  },
  {
   "cell_type": "markdown",
   "metadata": {},
   "source": [
    "Here we can clearly see the there is an inverse relationship between the participation rates and the composite ACT/total SAT scores. In general this could most likely be because the highest participation rates come from states where the respective test is mandatory. However in states where it is not mandatory, it requires the student to take greater ownership of the test and test scores as most of the times they or their family has to pay to take the test. We believe that this is the major reason that the participation rates have an inverse relationship with the scores.\n",
    "\n",
    "1 point to note is that although the higest scores are obtained where the participation rates are the lowest, the x-axis does not start at zero. This means that even at the highest participation rates, there is a threshold for the score. It would be interesting to compare this date with college SAT and ACT cut off scores to see where on this trendline is the 'sweet spot' for participation rate and highest chance of acceptance to a college."
   ]
  },
  {
   "cell_type": "markdown",
   "metadata": {},
   "source": [
    "### Comparison of the ACT participation rates vs each test type for 2017"
   ]
  },
  {
   "cell_type": "code",
   "execution_count": 74,
   "metadata": {},
   "outputs": [
    {
     "data": {
      "image/png": "[encoded data removed]",
      "text/plain": [
       "<Figure size 1080x360 with 4 Axes>"
      ]
     },
     "metadata": {
      "needs_background": "light"
     },
     "output_type": "display_data"
    }
   ],
   "source": [
    "create_scatterplot_sharedaxis((15,5),'Participation Rates vs Component Score',\n",
    "                           ['english_17','math_act_17','reading_17','science_17'],\n",
    "                           ['participation_act_17','participation_act_17','participation_act_17','participation_act_17'],\n",
    "                            method='hor')"
   ]
  },
  {
   "cell_type": "markdown",
   "metadata": {},
   "source": [
    "In similar vein, the individual component scores show the same relationship to the participation rate."
   ]
  },
  {
   "cell_type": "markdown",
   "metadata": {},
   "source": [
    "### Comparison of the SAT participation rates vs each test type for years 2017 -2019"
   ]
  },
  {
   "cell_type": "code",
   "execution_count": 75,
   "metadata": {},
   "outputs": [
    {
     "data": {
      "image/png": "[encoded data removed]",
      "text/plain": [
       "<Figure size 1080x360 with 3 Axes>"
      ]
     },
     "metadata": {
      "needs_background": "light"
     },
     "output_type": "display_data"
    },
    {
     "data": {
      "image/png": "[encoded data removed]",
      "text/plain": [
       "<Figure size 1080x360 with 3 Axes>"
      ]
     },
     "metadata": {
      "needs_background": "light"
     },
     "output_type": "display_data"
    },
    {
     "data": {
      "image/png": "[encoded data removed]",
      "text/plain": [
       "<Figure size 1080x360 with 3 Axes>"
      ]
     },
     "metadata": {
      "needs_background": "light"
     },
     "output_type": "display_data"
    }
   ],
   "source": [
    "# using a custom function here to plot 3 subplots in a horizontal row, 3 times\n",
    "create_scatterplot_sharedaxis((15,5),'Participation Rates vs Component Score 2017',\n",
    "                           ['ebrw_17','math_sat_17','total_17'],\n",
    "                           ['participation_sat_17','participation_sat_17','participation_sat_17'],\n",
    "                            method='hor')\n",
    "create_scatterplot_sharedaxis((15,5),'Participation Rates vs Component Score 2018',\n",
    "                           ['ebrw_18','math_18','total_18'],\n",
    "                           ['participation_sat_18','participation_sat_18','participation_sat_18'],\n",
    "                            method='hor')\n",
    "create_scatterplot_sharedaxis((15,5),'Participation Rates vs Component Score 2019',\n",
    "                           ['ebrw_19','math_19','total_19'],\n",
    "                           ['participation_sat_19','participation_sat_19','participation_sat_19'],\n",
    "                            method='hor')"
   ]
  },
  {
   "cell_type": "markdown",
   "metadata": {},
   "source": [
    "The inverse relationship between participation and scores holds true."
   ]
  },
  {
   "cell_type": "markdown",
   "metadata": {},
   "source": [
    "### A comparison of ACT and SAT participation rates"
   ]
  },
  {
   "cell_type": "code",
   "execution_count": 76,
   "metadata": {},
   "outputs": [
    {
     "data": {
      "image/png": "[encoded data removed]",
      "text/plain": [
       "<Figure size 1080x360 with 3 Axes>"
      ]
     },
     "metadata": {
      "needs_background": "light"
     },
     "output_type": "display_data"
    }
   ],
   "source": [
    "create_scatterplot_sharedaxis((15,5),'SAT Participation Rates vs ACT Participation Rates',\n",
    "                           ['participation_act_17','participation_act_18','participation_act_19'],\n",
    "                           ['participation_sat_17','participation_sat_18','participation_sat_19'],\n",
    "                            method='hor')"
   ]
  },
  {
   "cell_type": "markdown",
   "metadata": {},
   "source": [
    "As expected we can see that there is an inverese relationship between the SAT and ACT participation rates."
   ]
  },
  {
   "cell_type": "code",
   "execution_count": 77,
   "metadata": {},
   "outputs": [
    {
     "data": {
      "image/png": "[encoded data removed]",
      "text/plain": [
       "<Figure size 1800x1440 with 3 Axes>"
      ]
     },
     "metadata": {
      "needs_background": "light"
     },
     "output_type": "display_data"
    }
   ],
   "source": [
    "plt.figure(figsize=(25, 20))\n",
    "\n",
    "p1 = plt.subplot(1,3,1)\n",
    "p1.barh(\n",
    "    merged_act_final['state'].tolist(),\n",
    "    merged_act_final['participation_act_17'].tolist(),\n",
    "    label = \"ACT\"\n",
    "    )\n",
    "\n",
    "p1.barh(\n",
    "    merged_sat_final['state'].tolist(),\n",
    "    merged_sat_final['participation_sat_17'].tolist(),\n",
    "    label = \"SAT\",\n",
    "    alpha = 0.5\n",
    "    )\n",
    "p1.set_title('2017 Participation Rates by State')\n",
    "p1.legend(loc='upper right', fontsize = 12)\n",
    "\n",
    "p2 = plt.subplot(1,3,2,sharey=p1)\n",
    "p2.barh(\n",
    "    merged_act_final['state'].tolist(),\n",
    "    merged_act_final['participation_act_18'].tolist(),\n",
    "    label='ACT'\n",
    "    )\n",
    "\n",
    "p2.barh(\n",
    "    merged_sat_final['state'].tolist(),\n",
    "    merged_sat_final['participation_sat_18'].tolist(),\n",
    "    label = \"SAT\",\n",
    "    alpha = 0.5\n",
    "    )\n",
    "\n",
    "p2.set_title('2018 Participation Rates by State')\n",
    "p2.legend(loc='upper right', fontsize = 12)\n",
    "\n",
    "p3 = plt.subplot(1,3,3,sharey=p1)\n",
    "p3.barh(\n",
    "    merged_act_final['state'].tolist(),\n",
    "    merged_act_final['participation_act_19'].tolist(),\n",
    "    label='ACT'\n",
    "    )\n",
    "\n",
    "p3.barh(\n",
    "    merged_sat_final['state'].tolist(),\n",
    "    merged_sat_final['participation_sat_18'].tolist(),\n",
    "    label='SAT',\n",
    "    alpha=0.5\n",
    "    )\n",
    "\n",
    "p3.set_title('2019 Participation Rates by State')\n",
    "p3.legend(loc='upper right', fontsize = 12);"
   ]
  },
  {
   "cell_type": "markdown",
   "metadata": {},
   "source": [
    "As we can see above, it seems that in general, where ever we are seeing high rates of ACT or SAT participation, we are seeing correspondingly lower rates of SAT or ACT participation in that sate. This is also established from the previous scatter plot as well."
   ]
  },
  {
   "cell_type": "code",
   "execution_count": null,
   "metadata": {},
   "outputs": [],
   "source": []
  },
  {
   "cell_type": "markdown",
   "metadata": {},
   "source": [
    "## Conclusions and Recommendations"
   ]
  },
  {
   "cell_type": "markdown",
   "metadata": {},
   "source": [
    "Based on your exploration of the data, what are you key takeaways and recommendations? Make sure to answer your question of interest or address your problem statement here."
   ]
  },
  {
   "cell_type": "markdown",
   "metadata": {},
   "source": [
    "### Key takeaways from the data:\n",
    "1. The ACT and SAT participation rates are inversely related. Those states that have 100% ACT participation, are those that have state mandated ACT testing. \n",
    "    \n",
    "    **Recommendation**: \n",
    "    - Target the state level selection committees and pitch them the new and improved SAT to use over the ACT or any other test.\n",
    "    - The states that fall into this category are: Mississippi, Kentucky, Wisconsin, Utah, Tennessee, Ohio, Nebraska, Montana, Alabama, Louisiana, Wyoming, Arkansas, North Dakota, Minnesota, Missouri, South Dakota, Kansas, Iowa, New Mexico.\n",
    "    \n",
    "\n",
    "2. There are a few states with more than 50% participation rates for both tests. These states are the states that do not mandate 1 or the other test, rather it is optional where the students choose.\n",
    "    \n",
    "    **Recommendation**: \n",
    "    - Here we would suggest a two pronged approach. \n",
    "    - First, market to the students why they should choose the SAT over the ACT and the benefits the new and improved SAT provides in terms of giving them a more comprehensive score based on their aptitiude. \n",
    "    - Second, approach the state as well (at the same time if possible), starting with those where the SAT participation rates are more than the ACT participation rates. The argument here is that the students already have a preference, why not make this a state mandate, (like many other states have done), which will allow the student foresight on which test they will need to do. This means that they can likely start their prep much earlier, instead of rushing in the three months leading up to the test.\n",
    "        - The states falling into this category are: Georgia, South Carolina, Hawaii, North Carolina\n",
    "    \n",
    "\n",
    "3. The test participation rates and scores are inversely proportional, meaning as participation rates go up, the mean scores per state will decrease.\n",
    "    \n",
    "    **General Recommendation**: \n",
    "    - As the SAT participation rates go up, we would have to deploy additional resources to states where they have contracted with the college board to use the SAT statewide. The purpose of these resources would be to help the schools and students understand where they can improve the SAT and how they can get a higher score.\n",
    "    - Maintaining or improving the mean state score will potentially 'future-proof' the adoption of the SAT as we would have shown that even with higher participation rates, the college board is able to deploy enough resources to the states that have contracted with us. This may prompt other states to enter into a contract as well."
   ]
  },
  {
   "cell_type": "markdown",
   "metadata": {},
   "source": [
    "Don't forget to create your README!\n",
    "\n",
    "**To-Do:** *If you combine your problem statement, data dictionary, brief summary of your analysis, and conclusions/recommendations, you have an amazing README.md file that quickly aligns your audience to the contents of your project.* Don't forget to cite your data sources!"
   ]
  },
  {
   "cell_type": "code",
   "execution_count": null,
   "metadata": {},
   "outputs": [],
   "source": []
  }
 ],
 "metadata": {
  "anaconda-cloud": {},
  "kernelspec": {
   "display_name": "Python 3",
   "language": "python",
   "name": "python3"
  },
  "language_info": {
   "codemirror_mode": {
    "name": "ipython",
    "version": 3
   },
   "file_extension": ".py",
   "mimetype": "text/x-python",
   "name": "python",
   "nbconvert_exporter": "python",
   "pygments_lexer": "ipython3",
   "version": "3.8.8"
  }
 },
 "nbformat": 4,
 "nbformat_minor": 4
}
